{
 "cells": [
  {
   "cell_type": "markdown",
   "id": "1b17e0f7",
   "metadata": {},
   "source": [
    "# Stock price forecasting"
   ]
  },
  {
   "cell_type": "markdown",
   "id": "67131652",
   "metadata": {},
   "source": [
    "# Modeling Random Forests and LSTM neural network"
   ]
  },
  {
   "cell_type": "code",
   "execution_count": 31,
   "id": "7a24b0bc",
   "metadata": {},
   "outputs": [],
   "source": [
    "import pandas as pd\n",
    "import matplotlib.pyplot as plt\n",
    "import numpy as np\n",
    "import joblib"
   ]
  },
  {
   "cell_type": "code",
   "execution_count": null,
   "id": "749fe6b3",
   "metadata": {},
   "outputs": [],
   "source": []
  },
  {
   "cell_type": "markdown",
   "id": "4c3a7511",
   "metadata": {},
   "source": [
    "## Random Forest"
   ]
  },
  {
   "cell_type": "code",
   "execution_count": 1,
   "id": "c5039e0f",
   "metadata": {},
   "outputs": [],
   "source": [
    "from sklearn.ensemble import RandomForestRegressor"
   ]
  },
  {
   "cell_type": "code",
   "execution_count": null,
   "id": "8440b664",
   "metadata": {},
   "outputs": [],
   "source": []
  },
  {
   "cell_type": "code",
   "execution_count": 4,
   "id": "edd1f595",
   "metadata": {},
   "outputs": [],
   "source": [
    "X_train = pd.read_csv('X_train_KO.csv', parse_dates=True, index_col=0)\n",
    "y_train = pd.read_csv('y_train_KO.csv', parse_dates=True, index_col=0)\n",
    "\n",
    "X_test = pd.read_csv('X_test_KO.csv', parse_dates=True, index_col=0)\n",
    "y_test = pd.read_csv('y_test_KO.csv', parse_dates=True, index_col=0)"
   ]
  },
  {
   "cell_type": "code",
   "execution_count": null,
   "id": "f2153898",
   "metadata": {},
   "outputs": [],
   "source": []
  },
  {
   "cell_type": "code",
   "execution_count": 5,
   "id": "fe3e5f39",
   "metadata": {},
   "outputs": [
    {
     "name": "stderr",
     "output_type": "stream",
     "text": [
      "/tmp/ipykernel_161181/2240749210.py:5: DataConversionWarning: A column-vector y was passed when a 1d array was expected. Please change the shape of y to (n_samples,), for example using ravel().\n",
      "  rf_model.fit(X_train, y_train)\n"
     ]
    }
   ],
   "source": [
    "# Initialize the random forest regressor\n",
    "rf_model = RandomForestRegressor(n_estimators=100, random_state=42)\n",
    "\n",
    "# Fit the model on the training data\n",
    "rf_model.fit(X_train, y_train)\n",
    "\n",
    "# Make predictions on the testing data\n",
    "y_pred = rf_model.predict(X_test)"
   ]
  },
  {
   "cell_type": "code",
   "execution_count": 6,
   "id": "0d1578ad",
   "metadata": {},
   "outputs": [
    {
     "name": "stdout",
     "output_type": "stream",
     "text": [
      "Mean Squared Error: 6.293098118850899\n"
     ]
    }
   ],
   "source": [
    "from sklearn.metrics import mean_squared_error\n",
    "\n",
    "mse = mean_squared_error(y_test, y_pred)\n",
    "print(\"Mean Squared Error:\", mse)"
   ]
  },
  {
   "cell_type": "code",
   "execution_count": 9,
   "id": "2966645a",
   "metadata": {},
   "outputs": [
    {
     "data": {
      "image/png": "[encoded data removed]",
      "text/plain": [
       "<Figure size 432x288 with 1 Axes>"
      ]
     },
     "metadata": {
      "needs_background": "light"
     },
     "output_type": "display_data"
    }
   ],
   "source": [
    "# Create a range of indices for the x-axis\n",
    "x = range(len(y_pred))\n",
    "\n",
    "# Plot the predicted values (y_pred) and the true values (y_test)\n",
    "plt.plot(x, y_pred, label='Predicted')\n",
    "plt.plot(x, y_test, label='Actual')\n",
    "\n",
    "# Set y-axis label\n",
    "plt.ylabel('Feature Values')\n",
    "\n",
    "# Set x-axis label\n",
    "plt.xlabel('Time')\n",
    "\n",
    "# Set plot title\n",
    "plt.title('Predicted vs Actual')\n",
    "\n",
    "# Add legend\n",
    "plt.legend()\n",
    "\n",
    "# Show the plot\n",
    "plt.show()"
   ]
  },
  {
   "cell_type": "code",
   "execution_count": null,
   "id": "91ba31c6",
   "metadata": {},
   "outputs": [],
   "source": []
  },
  {
   "cell_type": "markdown",
   "id": "6fc8b7b4",
   "metadata": {},
   "source": [
    "## Long-Short-Term-Memory neural network"
   ]
  },
  {
   "cell_type": "code",
   "execution_count": null,
   "id": "7b552b9c",
   "metadata": {},
   "outputs": [],
   "source": []
  },
  {
   "cell_type": "code",
   "execution_count": 28,
   "id": "6f9a170a",
   "metadata": {},
   "outputs": [],
   "source": [
    "\n",
    "import tensorflow as tf\n",
    "from sklearn.preprocessing import RobustScaler\n",
    "from sklearn.model_selection import train_test_split\n",
    "from keras.models import Sequential\n",
    "from keras.layers import Dense, LSTM, Dropout\n",
    "from pandas.tseries.offsets import DateOffset"
   ]
  },
  {
   "cell_type": "code",
   "execution_count": 14,
   "id": "05f232ed",
   "metadata": {},
   "outputs": [],
   "source": [
    "X_train_scaled = pd.read_csv('X_train_KO_scaled.csv', parse_dates=True, index_col=0)\n",
    "\n",
    "X_test_scaled = pd.read_csv('X_test_KO_scaled.csv', parse_dates=True, index_col=0)\n"
   ]
  },
  {
   "cell_type": "code",
   "execution_count": 17,
   "id": "83e57fc1",
   "metadata": {},
   "outputs": [
    {
     "data": {
      "text/html": [
       "<div>\n",
       "<style scoped>\n",
       "    .dataframe tbody tr th:only-of-type {\n",
       "        vertical-align: middle;\n",
       "    }\n",
       "\n",
       "    .dataframe tbody tr th {\n",
       "        vertical-align: top;\n",
       "    }\n",
       "\n",
       "    .dataframe thead th {\n",
       "        text-align: right;\n",
       "    }\n",
       "</style>\n",
       "<table border=\"1\" class=\"dataframe\">\n",
       "  <thead>\n",
       "    <tr style=\"text-align: right;\">\n",
       "      <th></th>\n",
       "      <th>Open</th>\n",
       "      <th>High</th>\n",
       "      <th>Low</th>\n",
       "      <th>Adj Close</th>\n",
       "      <th>Volume</th>\n",
       "      <th>Reported EPS</th>\n",
       "      <th>Price Change</th>\n",
       "      <th>RSI</th>\n",
       "      <th>K</th>\n",
       "      <th>EMA12</th>\n",
       "      <th>EMA26</th>\n",
       "      <th>MACD Line</th>\n",
       "      <th>Signal Line</th>\n",
       "      <th>MACD Histogram</th>\n",
       "      <th>ROC</th>\n",
       "      <th>OBV</th>\n",
       "      <th>P/E</th>\n",
       "      <th>Day</th>\n",
       "      <th>Month</th>\n",
       "      <th>Year</th>\n",
       "    </tr>\n",
       "    <tr>\n",
       "      <th>Date</th>\n",
       "      <th></th>\n",
       "      <th></th>\n",
       "      <th></th>\n",
       "      <th></th>\n",
       "      <th></th>\n",
       "      <th></th>\n",
       "      <th></th>\n",
       "      <th></th>\n",
       "      <th></th>\n",
       "      <th></th>\n",
       "      <th></th>\n",
       "      <th></th>\n",
       "      <th></th>\n",
       "      <th></th>\n",
       "      <th></th>\n",
       "      <th></th>\n",
       "      <th></th>\n",
       "      <th></th>\n",
       "      <th></th>\n",
       "      <th></th>\n",
       "    </tr>\n",
       "  </thead>\n",
       "  <tbody>\n",
       "    <tr>\n",
       "      <th>1996-05-06</th>\n",
       "      <td>-0.648920</td>\n",
       "      <td>-0.654097</td>\n",
       "      <td>-0.638926</td>\n",
       "      <td>-0.445364</td>\n",
       "      <td>-0.610511</td>\n",
       "      <td>-0.88</td>\n",
       "      <td>0.669759</td>\n",
       "      <td>0.077578</td>\n",
       "      <td>0.217365</td>\n",
       "      <td>-0.625830</td>\n",
       "      <td>-0.623091</td>\n",
       "      <td>-0.011322</td>\n",
       "      <td>0.004406</td>\n",
       "      <td>-0.046611</td>\n",
       "      <td>-0.119645</td>\n",
       "      <td>-0.143860</td>\n",
       "      <td>1.335518</td>\n",
       "      <td>6</td>\n",
       "      <td>5</td>\n",
       "      <td>1996</td>\n",
       "    </tr>\n",
       "    <tr>\n",
       "      <th>1996-05-07</th>\n",
       "      <td>-0.631559</td>\n",
       "      <td>-0.642507</td>\n",
       "      <td>-0.613860</td>\n",
       "      <td>-0.441540</td>\n",
       "      <td>-0.671145</td>\n",
       "      <td>-0.88</td>\n",
       "      <td>0.283956</td>\n",
       "      <td>0.183083</td>\n",
       "      <td>0.463161</td>\n",
       "      <td>-0.624166</td>\n",
       "      <td>-0.622081</td>\n",
       "      <td>0.010803</td>\n",
       "      <td>0.008833</td>\n",
       "      <td>0.011019</td>\n",
       "      <td>0.235502</td>\n",
       "      <td>-0.139655</td>\n",
       "      <td>1.357337</td>\n",
       "      <td>7</td>\n",
       "      <td>5</td>\n",
       "      <td>1996</td>\n",
       "    </tr>\n",
       "    <tr>\n",
       "      <th>1996-05-08</th>\n",
       "      <td>-0.623843</td>\n",
       "      <td>-0.625121</td>\n",
       "      <td>-0.619644</td>\n",
       "      <td>-0.431023</td>\n",
       "      <td>-0.464970</td>\n",
       "      <td>-0.88</td>\n",
       "      <td>0.824081</td>\n",
       "      <td>0.588727</td>\n",
       "      <td>0.770407</td>\n",
       "      <td>-0.619509</td>\n",
       "      <td>-0.619576</td>\n",
       "      <td>0.083545</td>\n",
       "      <td>0.028113</td>\n",
       "      <td>0.186536</td>\n",
       "      <td>0.388377</td>\n",
       "      <td>-0.134452</td>\n",
       "      <td>1.417340</td>\n",
       "      <td>8</td>\n",
       "      <td>5</td>\n",
       "      <td>1996</td>\n",
       "    </tr>\n",
       "    <tr>\n",
       "      <th>1996-05-09</th>\n",
       "      <td>-0.602623</td>\n",
       "      <td>-0.609666</td>\n",
       "      <td>-0.586865</td>\n",
       "      <td>-0.431023</td>\n",
       "      <td>-0.915235</td>\n",
       "      <td>-0.88</td>\n",
       "      <td>-0.024687</td>\n",
       "      <td>0.816113</td>\n",
       "      <td>0.382307</td>\n",
       "      <td>-0.615569</td>\n",
       "      <td>-0.617256</td>\n",
       "      <td>0.138390</td>\n",
       "      <td>0.055404</td>\n",
       "      <td>0.281193</td>\n",
       "      <td>0.388377</td>\n",
       "      <td>-0.134452</td>\n",
       "      <td>1.417340</td>\n",
       "      <td>9</td>\n",
       "      <td>5</td>\n",
       "      <td>1996</td>\n",
       "    </tr>\n",
       "    <tr>\n",
       "      <th>1996-05-10</th>\n",
       "      <td>-0.600694</td>\n",
       "      <td>-0.607735</td>\n",
       "      <td>-0.579152</td>\n",
       "      <td>-0.422419</td>\n",
       "      <td>-0.899363</td>\n",
       "      <td>-0.88</td>\n",
       "      <td>0.669759</td>\n",
       "      <td>0.707594</td>\n",
       "      <td>0.770407</td>\n",
       "      <td>-0.609576</td>\n",
       "      <td>-0.613824</td>\n",
       "      <td>0.225000</td>\n",
       "      <td>0.095975</td>\n",
       "      <td>0.438131</td>\n",
       "      <td>0.780395</td>\n",
       "      <td>-0.131351</td>\n",
       "      <td>1.466433</td>\n",
       "      <td>10</td>\n",
       "      <td>5</td>\n",
       "      <td>1996</td>\n",
       "    </tr>\n",
       "    <tr>\n",
       "      <th>...</th>\n",
       "      <td>...</td>\n",
       "      <td>...</td>\n",
       "      <td>...</td>\n",
       "      <td>...</td>\n",
       "      <td>...</td>\n",
       "      <td>...</td>\n",
       "      <td>...</td>\n",
       "      <td>...</td>\n",
       "      <td>...</td>\n",
       "      <td>...</td>\n",
       "      <td>...</td>\n",
       "      <td>...</td>\n",
       "      <td>...</td>\n",
       "      <td>...</td>\n",
       "      <td>...</td>\n",
       "      <td>...</td>\n",
       "      <td>...</td>\n",
       "      <td>...</td>\n",
       "      <td>...</td>\n",
       "      <td>...</td>\n",
       "    </tr>\n",
       "    <tr>\n",
       "      <th>2020-04-27</th>\n",
       "      <td>0.959876</td>\n",
       "      <td>1.000193</td>\n",
       "      <td>0.962863</td>\n",
       "      <td>1.492904</td>\n",
       "      <td>0.946187</td>\n",
       "      <td>0.60</td>\n",
       "      <td>3.308652</td>\n",
       "      <td>-0.088394</td>\n",
       "      <td>-0.223788</td>\n",
       "      <td>0.974753</td>\n",
       "      <td>1.015706</td>\n",
       "      <td>-1.106348</td>\n",
       "      <td>-1.617311</td>\n",
       "      <td>1.244787</td>\n",
       "      <td>-1.191359</td>\n",
       "      <td>1.243422</td>\n",
       "      <td>0.047806</td>\n",
       "      <td>27</td>\n",
       "      <td>4</td>\n",
       "      <td>2020</td>\n",
       "    </tr>\n",
       "    <tr>\n",
       "      <th>2020-04-28</th>\n",
       "      <td>1.077160</td>\n",
       "      <td>1.063246</td>\n",
       "      <td>1.015927</td>\n",
       "      <td>1.490718</td>\n",
       "      <td>0.696080</td>\n",
       "      <td>0.60</td>\n",
       "      <td>-0.123446</td>\n",
       "      <td>-0.070372</td>\n",
       "      <td>-0.237268</td>\n",
       "      <td>0.979672</td>\n",
       "      <td>1.015872</td>\n",
       "      <td>-0.946280</td>\n",
       "      <td>-1.495612</td>\n",
       "      <td>1.396820</td>\n",
       "      <td>-0.544510</td>\n",
       "      <td>1.232602</td>\n",
       "      <td>0.045889</td>\n",
       "      <td>28</td>\n",
       "      <td>4</td>\n",
       "      <td>2020</td>\n",
       "    </tr>\n",
       "    <tr>\n",
       "      <th>2020-04-29</th>\n",
       "      <td>1.038272</td>\n",
       "      <td>1.054592</td>\n",
       "      <td>1.035055</td>\n",
       "      <td>1.511487</td>\n",
       "      <td>0.505893</td>\n",
       "      <td>0.60</td>\n",
       "      <td>0.913580</td>\n",
       "      <td>-0.216069</td>\n",
       "      <td>-0.109203</td>\n",
       "      <td>0.987426</td>\n",
       "      <td>1.017760</td>\n",
       "      <td>-0.748575</td>\n",
       "      <td>-1.355479</td>\n",
       "      <td>1.614673</td>\n",
       "      <td>-0.069671</td>\n",
       "      <td>1.242502</td>\n",
       "      <td>0.064098</td>\n",
       "      <td>29</td>\n",
       "      <td>4</td>\n",
       "      <td>2020</td>\n",
       "    </tr>\n",
       "    <tr>\n",
       "      <th>2020-04-30</th>\n",
       "      <td>1.021605</td>\n",
       "      <td>1.001429</td>\n",
       "      <td>0.962246</td>\n",
       "      <td>1.444260</td>\n",
       "      <td>1.156978</td>\n",
       "      <td>0.60</td>\n",
       "      <td>-3.061732</td>\n",
       "      <td>-0.597846</td>\n",
       "      <td>-0.470890</td>\n",
       "      <td>0.982361</td>\n",
       "      <td>1.013892</td>\n",
       "      <td>-0.789310</td>\n",
       "      <td>-1.252185</td>\n",
       "      <td>1.179331</td>\n",
       "      <td>-1.227091</td>\n",
       "      <td>1.229452</td>\n",
       "      <td>0.005160</td>\n",
       "      <td>30</td>\n",
       "      <td>4</td>\n",
       "      <td>2020</td>\n",
       "    </tr>\n",
       "    <tr>\n",
       "      <th>2020-05-01</th>\n",
       "      <td>0.936420</td>\n",
       "      <td>0.963721</td>\n",
       "      <td>0.932012</td>\n",
       "      <td>1.428409</td>\n",
       "      <td>0.312737</td>\n",
       "      <td>0.60</td>\n",
       "      <td>-0.740741</td>\n",
       "      <td>-0.346831</td>\n",
       "      <td>-0.578026</td>\n",
       "      <td>0.975334</td>\n",
       "      <td>1.008986</td>\n",
       "      <td>-0.861278</td>\n",
       "      <td>-1.185121</td>\n",
       "      <td>0.751202</td>\n",
       "      <td>-0.588029</td>\n",
       "      <td>1.220486</td>\n",
       "      <td>-0.008736</td>\n",
       "      <td>1</td>\n",
       "      <td>5</td>\n",
       "      <td>2020</td>\n",
       "    </tr>\n",
       "  </tbody>\n",
       "</table>\n",
       "<p>6039 rows × 20 columns</p>\n",
       "</div>"
      ],
      "text/plain": [
       "                Open      High       Low  Adj Close    Volume  Reported EPS  \\\n",
       "Date                                                                          \n",
       "1996-05-06 -0.648920 -0.654097 -0.638926  -0.445364 -0.610511         -0.88   \n",
       "1996-05-07 -0.631559 -0.642507 -0.613860  -0.441540 -0.671145         -0.88   \n",
       "1996-05-08 -0.623843 -0.625121 -0.619644  -0.431023 -0.464970         -0.88   \n",
       "1996-05-09 -0.602623 -0.609666 -0.586865  -0.431023 -0.915235         -0.88   \n",
       "1996-05-10 -0.600694 -0.607735 -0.579152  -0.422419 -0.899363         -0.88   \n",
       "...              ...       ...       ...        ...       ...           ...   \n",
       "2020-04-27  0.959876  1.000193  0.962863   1.492904  0.946187          0.60   \n",
       "2020-04-28  1.077160  1.063246  1.015927   1.490718  0.696080          0.60   \n",
       "2020-04-29  1.038272  1.054592  1.035055   1.511487  0.505893          0.60   \n",
       "2020-04-30  1.021605  1.001429  0.962246   1.444260  1.156978          0.60   \n",
       "2020-05-01  0.936420  0.963721  0.932012   1.428409  0.312737          0.60   \n",
       "\n",
       "            Price Change       RSI         K     EMA12     EMA26  MACD Line  \\\n",
       "Date                                                                          \n",
       "1996-05-06      0.669759  0.077578  0.217365 -0.625830 -0.623091  -0.011322   \n",
       "1996-05-07      0.283956  0.183083  0.463161 -0.624166 -0.622081   0.010803   \n",
       "1996-05-08      0.824081  0.588727  0.770407 -0.619509 -0.619576   0.083545   \n",
       "1996-05-09     -0.024687  0.816113  0.382307 -0.615569 -0.617256   0.138390   \n",
       "1996-05-10      0.669759  0.707594  0.770407 -0.609576 -0.613824   0.225000   \n",
       "...                  ...       ...       ...       ...       ...        ...   \n",
       "2020-04-27      3.308652 -0.088394 -0.223788  0.974753  1.015706  -1.106348   \n",
       "2020-04-28     -0.123446 -0.070372 -0.237268  0.979672  1.015872  -0.946280   \n",
       "2020-04-29      0.913580 -0.216069 -0.109203  0.987426  1.017760  -0.748575   \n",
       "2020-04-30     -3.061732 -0.597846 -0.470890  0.982361  1.013892  -0.789310   \n",
       "2020-05-01     -0.740741 -0.346831 -0.578026  0.975334  1.008986  -0.861278   \n",
       "\n",
       "            Signal Line  MACD Histogram       ROC       OBV       P/E  Day  \\\n",
       "Date                                                                         \n",
       "1996-05-06     0.004406       -0.046611 -0.119645 -0.143860  1.335518    6   \n",
       "1996-05-07     0.008833        0.011019  0.235502 -0.139655  1.357337    7   \n",
       "1996-05-08     0.028113        0.186536  0.388377 -0.134452  1.417340    8   \n",
       "1996-05-09     0.055404        0.281193  0.388377 -0.134452  1.417340    9   \n",
       "1996-05-10     0.095975        0.438131  0.780395 -0.131351  1.466433   10   \n",
       "...                 ...             ...       ...       ...       ...  ...   \n",
       "2020-04-27    -1.617311        1.244787 -1.191359  1.243422  0.047806   27   \n",
       "2020-04-28    -1.495612        1.396820 -0.544510  1.232602  0.045889   28   \n",
       "2020-04-29    -1.355479        1.614673 -0.069671  1.242502  0.064098   29   \n",
       "2020-04-30    -1.252185        1.179331 -1.227091  1.229452  0.005160   30   \n",
       "2020-05-01    -1.185121        0.751202 -0.588029  1.220486 -0.008736    1   \n",
       "\n",
       "            Month  Year  \n",
       "Date                     \n",
       "1996-05-06      5  1996  \n",
       "1996-05-07      5  1996  \n",
       "1996-05-08      5  1996  \n",
       "1996-05-09      5  1996  \n",
       "1996-05-10      5  1996  \n",
       "...           ...   ...  \n",
       "2020-04-27      4  2020  \n",
       "2020-04-28      4  2020  \n",
       "2020-04-29      4  2020  \n",
       "2020-04-30      4  2020  \n",
       "2020-05-01      5  2020  \n",
       "\n",
       "[6039 rows x 20 columns]"
      ]
     },
     "execution_count": 17,
     "metadata": {},
     "output_type": "execute_result"
    }
   ],
   "source": [
    "X_train_scaled"
   ]
  },
  {
   "cell_type": "code",
   "execution_count": 15,
   "id": "12a25fa6",
   "metadata": {},
   "outputs": [],
   "source": [
    "def create_dataset(dataset, look_back=1):\n",
    "    X, Y = [], []\n",
    "    for i in range(len(dataset)-look_back-1):\n",
    "        a = dataset[i:(i+look_back), 0]\n",
    "        X.append(a)\n",
    "        Y.append(dataset[i + look_back, 0])\n",
    "    return np.array(X), np.array(Y)"
   ]
  },
  {
   "cell_type": "code",
   "execution_count": 18,
   "id": "a1e06a94",
   "metadata": {},
   "outputs": [],
   "source": [
    "X_train_scaled_values = X_train_scaled.values\n",
    "X_test_scaled_values = X_test_scaled.values"
   ]
  },
  {
   "cell_type": "code",
   "execution_count": null,
   "id": "582a07d2",
   "metadata": {},
   "outputs": [],
   "source": []
  },
  {
   "cell_type": "code",
   "execution_count": 21,
   "id": "0210b8d9",
   "metadata": {},
   "outputs": [],
   "source": [
    "# Create datasets for LSTM\n",
    "look_back = 60\n",
    "X_train, Y_train = create_dataset(X_train_scaled_values, look_back)\n",
    "X_test, Y_test = create_dataset(X_test_scaled_values, look_back)\n",
    "\n",
    "# reshape input to be [samples, time steps, features]\n",
    "X_train = np.reshape(X_train, (X_train.shape[0], X_train.shape[1], 1))\n",
    "X_test = np.reshape(X_test, (X_test.shape[0], X_test.shape[1], 1))"
   ]
  },
  {
   "cell_type": "code",
   "execution_count": null,
   "id": "f4391b4a",
   "metadata": {},
   "outputs": [],
   "source": []
  },
  {
   "cell_type": "code",
   "execution_count": 22,
   "id": "905fa46d",
   "metadata": {},
   "outputs": [
    {
     "name": "stderr",
     "output_type": "stream",
     "text": [
      "2023-07-25 15:04:05.558256: I tensorflow/core/common_runtime/executor.cc:1197] [/device:CPU:0] (DEBUG INFO) Executor start aborting (this does not indicate an error and you can ignore this message): INVALID_ARGUMENT: You must feed a value for placeholder tensor 'gradients/split_2_grad/concat/split_2/split_dim' with dtype int32\n",
      "\t [[{{node gradients/split_2_grad/concat/split_2/split_dim}}]]\n",
      "2023-07-25 15:04:05.564807: I tensorflow/core/common_runtime/executor.cc:1197] [/device:CPU:0] (DEBUG INFO) Executor start aborting (this does not indicate an error and you can ignore this message): INVALID_ARGUMENT: You must feed a value for placeholder tensor 'gradients/split_grad/concat/split/split_dim' with dtype int32\n",
      "\t [[{{node gradients/split_grad/concat/split/split_dim}}]]\n",
      "2023-07-25 15:04:05.568986: I tensorflow/core/common_runtime/executor.cc:1197] [/device:CPU:0] (DEBUG INFO) Executor start aborting (this does not indicate an error and you can ignore this message): INVALID_ARGUMENT: You must feed a value for placeholder tensor 'gradients/split_1_grad/concat/split_1/split_dim' with dtype int32\n",
      "\t [[{{node gradients/split_1_grad/concat/split_1/split_dim}}]]\n",
      "2023-07-25 15:04:05.969193: I tensorflow/core/common_runtime/executor.cc:1197] [/device:CPU:0] (DEBUG INFO) Executor start aborting (this does not indicate an error and you can ignore this message): INVALID_ARGUMENT: You must feed a value for placeholder tensor 'gradients/split_2_grad/concat/split_2/split_dim' with dtype int32\n",
      "\t [[{{node gradients/split_2_grad/concat/split_2/split_dim}}]]\n",
      "2023-07-25 15:04:05.971793: I tensorflow/core/common_runtime/executor.cc:1197] [/device:CPU:0] (DEBUG INFO) Executor start aborting (this does not indicate an error and you can ignore this message): INVALID_ARGUMENT: You must feed a value for placeholder tensor 'gradients/split_grad/concat/split/split_dim' with dtype int32\n",
      "\t [[{{node gradients/split_grad/concat/split/split_dim}}]]\n",
      "2023-07-25 15:04:05.975089: I tensorflow/core/common_runtime/executor.cc:1197] [/device:CPU:0] (DEBUG INFO) Executor start aborting (this does not indicate an error and you can ignore this message): INVALID_ARGUMENT: You must feed a value for placeholder tensor 'gradients/split_1_grad/concat/split_1/split_dim' with dtype int32\n",
      "\t [[{{node gradients/split_1_grad/concat/split_1/split_dim}}]]\n",
      "2023-07-25 15:04:06.364700: I tensorflow/core/common_runtime/executor.cc:1197] [/device:CPU:0] (DEBUG INFO) Executor start aborting (this does not indicate an error and you can ignore this message): INVALID_ARGUMENT: You must feed a value for placeholder tensor 'gradients/split_2_grad/concat/split_2/split_dim' with dtype int32\n",
      "\t [[{{node gradients/split_2_grad/concat/split_2/split_dim}}]]\n",
      "2023-07-25 15:04:06.366871: I tensorflow/core/common_runtime/executor.cc:1197] [/device:CPU:0] (DEBUG INFO) Executor start aborting (this does not indicate an error and you can ignore this message): INVALID_ARGUMENT: You must feed a value for placeholder tensor 'gradients/split_grad/concat/split/split_dim' with dtype int32\n",
      "\t [[{{node gradients/split_grad/concat/split/split_dim}}]]\n",
      "2023-07-25 15:04:06.369434: I tensorflow/core/common_runtime/executor.cc:1197] [/device:CPU:0] (DEBUG INFO) Executor start aborting (this does not indicate an error and you can ignore this message): INVALID_ARGUMENT: You must feed a value for placeholder tensor 'gradients/split_1_grad/concat/split_1/split_dim' with dtype int32\n",
      "\t [[{{node gradients/split_1_grad/concat/split_1/split_dim}}]]\n"
     ]
    }
   ],
   "source": [
    "\n",
    "# Initialize a sequential model\n",
    "model = Sequential()\n",
    "\n",
    "# Add the first LSTM layer with 50 units, input shape, and return sequences\n",
    "model.add(LSTM(units=50, return_sequences=True, input_shape=(X_train.shape[1], 1)))\n",
    "# Add dropout to prevent overfitting\n",
    "model.add(Dropout(0.2))\n",
    "\n",
    "# Add a second LSTM layer with 50 units and return sequences\n",
    "model.add(LSTM(units=50, return_sequences=True))\n",
    "# Add dropout to prevent overfitting\n",
    "model.add(Dropout(0.2))\n",
    "\n",
    "# Add a third LSTM layer with 50 units\n",
    "model.add(LSTM(units=50))\n",
    "# Add dropout to prevent overfitting\n",
    "model.add(Dropout(0.2))\n",
    "\n",
    "# Add a dense output layer with one unit\n",
    "model.add(Dense(units=1))\n"
   ]
  },
  {
   "cell_type": "code",
   "execution_count": null,
   "id": "33fff256",
   "metadata": {},
   "outputs": [],
   "source": []
  },
  {
   "cell_type": "code",
   "execution_count": null,
   "id": "802d5209",
   "metadata": {},
   "outputs": [],
   "source": []
  },
  {
   "cell_type": "code",
   "execution_count": 23,
   "id": "33fbd493",
   "metadata": {},
   "outputs": [
    {
     "name": "stdout",
     "output_type": "stream",
     "text": [
      "Model: \"sequential\"\n",
      "_________________________________________________________________\n",
      " Layer (type)                Output Shape              Param #   \n",
      "=================================================================\n",
      " lstm (LSTM)                 (None, 60, 50)            10400     \n",
      "                                                                 \n",
      " dropout (Dropout)           (None, 60, 50)            0         \n",
      "                                                                 \n",
      " lstm_1 (LSTM)               (None, 60, 50)            20200     \n",
      "                                                                 \n",
      " dropout_1 (Dropout)         (None, 60, 50)            0         \n",
      "                                                                 \n",
      " lstm_2 (LSTM)               (None, 50)                20200     \n",
      "                                                                 \n",
      " dropout_2 (Dropout)         (None, 50)                0         \n",
      "                                                                 \n",
      " dense (Dense)               (None, 1)                 51        \n",
      "                                                                 \n",
      "=================================================================\n",
      "Total params: 50,851\n",
      "Trainable params: 50,851\n",
      "Non-trainable params: 0\n",
      "_________________________________________________________________\n"
     ]
    }
   ],
   "source": [
    "model.summary()\n",
    "model.compile(\n",
    "    optimizer='adam', \n",
    "    loss='mean_squared_error'\n",
    ")"
   ]
  },
  {
   "cell_type": "code",
   "execution_count": 24,
   "id": "ed697cf7",
   "metadata": {},
   "outputs": [
    {
     "name": "stdout",
     "output_type": "stream",
     "text": [
      "Epoch 1/25\n"
     ]
    },
    {
     "name": "stderr",
     "output_type": "stream",
     "text": [
      "2023-07-25 15:04:32.417022: I tensorflow/core/common_runtime/executor.cc:1197] [/device:CPU:0] (DEBUG INFO) Executor start aborting (this does not indicate an error and you can ignore this message): INVALID_ARGUMENT: You must feed a value for placeholder tensor 'gradients/split_2_grad/concat/split_2/split_dim' with dtype int32\n",
      "\t [[{{node gradients/split_2_grad/concat/split_2/split_dim}}]]\n",
      "2023-07-25 15:04:32.421457: I tensorflow/core/common_runtime/executor.cc:1197] [/device:CPU:0] (DEBUG INFO) Executor start aborting (this does not indicate an error and you can ignore this message): INVALID_ARGUMENT: You must feed a value for placeholder tensor 'gradients/split_grad/concat/split/split_dim' with dtype int32\n",
      "\t [[{{node gradients/split_grad/concat/split/split_dim}}]]\n",
      "2023-07-25 15:04:32.423874: I tensorflow/core/common_runtime/executor.cc:1197] [/device:CPU:0] (DEBUG INFO) Executor start aborting (this does not indicate an error and you can ignore this message): INVALID_ARGUMENT: You must feed a value for placeholder tensor 'gradients/split_1_grad/concat/split_1/split_dim' with dtype int32\n",
      "\t [[{{node gradients/split_1_grad/concat/split_1/split_dim}}]]\n",
      "2023-07-25 15:04:32.809452: I tensorflow/core/common_runtime/executor.cc:1197] [/device:CPU:0] (DEBUG INFO) Executor start aborting (this does not indicate an error and you can ignore this message): INVALID_ARGUMENT: You must feed a value for placeholder tensor 'gradients/split_2_grad/concat/split_2/split_dim' with dtype int32\n",
      "\t [[{{node gradients/split_2_grad/concat/split_2/split_dim}}]]\n",
      "2023-07-25 15:04:32.812751: I tensorflow/core/common_runtime/executor.cc:1197] [/device:CPU:0] (DEBUG INFO) Executor start aborting (this does not indicate an error and you can ignore this message): INVALID_ARGUMENT: You must feed a value for placeholder tensor 'gradients/split_grad/concat/split/split_dim' with dtype int32\n",
      "\t [[{{node gradients/split_grad/concat/split/split_dim}}]]\n",
      "2023-07-25 15:04:32.814630: I tensorflow/core/common_runtime/executor.cc:1197] [/device:CPU:0] (DEBUG INFO) Executor start aborting (this does not indicate an error and you can ignore this message): INVALID_ARGUMENT: You must feed a value for placeholder tensor 'gradients/split_1_grad/concat/split_1/split_dim' with dtype int32\n",
      "\t [[{{node gradients/split_1_grad/concat/split_1/split_dim}}]]\n",
      "2023-07-25 15:04:33.228886: I tensorflow/core/common_runtime/executor.cc:1197] [/device:CPU:0] (DEBUG INFO) Executor start aborting (this does not indicate an error and you can ignore this message): INVALID_ARGUMENT: You must feed a value for placeholder tensor 'gradients/split_2_grad/concat/split_2/split_dim' with dtype int32\n",
      "\t [[{{node gradients/split_2_grad/concat/split_2/split_dim}}]]\n",
      "2023-07-25 15:04:33.231110: I tensorflow/core/common_runtime/executor.cc:1197] [/device:CPU:0] (DEBUG INFO) Executor start aborting (this does not indicate an error and you can ignore this message): INVALID_ARGUMENT: You must feed a value for placeholder tensor 'gradients/split_grad/concat/split/split_dim' with dtype int32\n",
      "\t [[{{node gradients/split_grad/concat/split/split_dim}}]]\n",
      "2023-07-25 15:04:33.235370: I tensorflow/core/common_runtime/executor.cc:1197] [/device:CPU:0] (DEBUG INFO) Executor start aborting (this does not indicate an error and you can ignore this message): INVALID_ARGUMENT: You must feed a value for placeholder tensor 'gradients/split_1_grad/concat/split_1/split_dim' with dtype int32\n",
      "\t [[{{node gradients/split_1_grad/concat/split_1/split_dim}}]]\n",
      "2023-07-25 15:04:35.065417: I tensorflow/core/common_runtime/executor.cc:1197] [/device:CPU:0] (DEBUG INFO) Executor start aborting (this does not indicate an error and you can ignore this message): INVALID_ARGUMENT: You must feed a value for placeholder tensor 'gradients/split_2_grad/concat/split_2/split_dim' with dtype int32\n",
      "\t [[{{node gradients/split_2_grad/concat/split_2/split_dim}}]]\n",
      "2023-07-25 15:04:35.069716: I tensorflow/core/common_runtime/executor.cc:1197] [/device:CPU:0] (DEBUG INFO) Executor start aborting (this does not indicate an error and you can ignore this message): INVALID_ARGUMENT: You must feed a value for placeholder tensor 'gradients/split_grad/concat/split/split_dim' with dtype int32\n",
      "\t [[{{node gradients/split_grad/concat/split/split_dim}}]]\n",
      "2023-07-25 15:04:35.071958: I tensorflow/core/common_runtime/executor.cc:1197] [/device:CPU:0] (DEBUG INFO) Executor start aborting (this does not indicate an error and you can ignore this message): INVALID_ARGUMENT: You must feed a value for placeholder tensor 'gradients/split_1_grad/concat/split_1/split_dim' with dtype int32\n",
      "\t [[{{node gradients/split_1_grad/concat/split_1/split_dim}}]]\n",
      "2023-07-25 15:04:35.680304: I tensorflow/core/common_runtime/executor.cc:1197] [/device:CPU:0] (DEBUG INFO) Executor start aborting (this does not indicate an error and you can ignore this message): INVALID_ARGUMENT: You must feed a value for placeholder tensor 'gradients/split_2_grad/concat/split_2/split_dim' with dtype int32\n",
      "\t [[{{node gradients/split_2_grad/concat/split_2/split_dim}}]]\n",
      "2023-07-25 15:04:35.685408: I tensorflow/core/common_runtime/executor.cc:1197] [/device:CPU:0] (DEBUG INFO) Executor start aborting (this does not indicate an error and you can ignore this message): INVALID_ARGUMENT: You must feed a value for placeholder tensor 'gradients/split_grad/concat/split/split_dim' with dtype int32\n",
      "\t [[{{node gradients/split_grad/concat/split/split_dim}}]]\n",
      "2023-07-25 15:04:35.688041: I tensorflow/core/common_runtime/executor.cc:1197] [/device:CPU:0] (DEBUG INFO) Executor start aborting (this does not indicate an error and you can ignore this message): INVALID_ARGUMENT: You must feed a value for placeholder tensor 'gradients/split_1_grad/concat/split_1/split_dim' with dtype int32\n",
      "\t [[{{node gradients/split_1_grad/concat/split_1/split_dim}}]]\n",
      "2023-07-25 15:04:36.110261: I tensorflow/core/common_runtime/executor.cc:1197] [/device:CPU:0] (DEBUG INFO) Executor start aborting (this does not indicate an error and you can ignore this message): INVALID_ARGUMENT: You must feed a value for placeholder tensor 'gradients/split_2_grad/concat/split_2/split_dim' with dtype int32\n",
      "\t [[{{node gradients/split_2_grad/concat/split_2/split_dim}}]]\n",
      "2023-07-25 15:04:36.113163: I tensorflow/core/common_runtime/executor.cc:1197] [/device:CPU:0] (DEBUG INFO) Executor start aborting (this does not indicate an error and you can ignore this message): INVALID_ARGUMENT: You must feed a value for placeholder tensor 'gradients/split_grad/concat/split/split_dim' with dtype int32\n",
      "\t [[{{node gradients/split_grad/concat/split/split_dim}}]]\n",
      "2023-07-25 15:04:36.117687: I tensorflow/core/common_runtime/executor.cc:1197] [/device:CPU:0] (DEBUG INFO) Executor start aborting (this does not indicate an error and you can ignore this message): INVALID_ARGUMENT: You must feed a value for placeholder tensor 'gradients/split_1_grad/concat/split_1/split_dim' with dtype int32\n",
      "\t [[{{node gradients/split_1_grad/concat/split_1/split_dim}}]]\n"
     ]
    },
    {
     "name": "stdout",
     "output_type": "stream",
     "text": [
      "187/187 [==============================] - ETA: 0s - loss: 0.0161WARNING:tensorflow:Can save best model only with val_loss available, skipping.\n",
      "187/187 [==============================] - 25s 93ms/step - loss: 0.0161\n",
      "Epoch 2/25\n",
      "187/187 [==============================] - ETA: 0s - loss: 0.0072WARNING:tensorflow:Can save best model only with val_loss available, skipping.\n",
      "187/187 [==============================] - 17s 92ms/step - loss: 0.0072\n",
      "Epoch 3/25\n",
      "187/187 [==============================] - ETA: 0s - loss: 0.0063WARNING:tensorflow:Can save best model only with val_loss available, skipping.\n",
      "187/187 [==============================] - 17s 93ms/step - loss: 0.0063\n",
      "Epoch 4/25\n",
      "187/187 [==============================] - ETA: 0s - loss: 0.0060WARNING:tensorflow:Can save best model only with val_loss available, skipping.\n",
      "187/187 [==============================] - 17s 93ms/step - loss: 0.0060\n",
      "Epoch 5/25\n",
      "187/187 [==============================] - ETA: 0s - loss: 0.0055WARNING:tensorflow:Can save best model only with val_loss available, skipping.\n",
      "187/187 [==============================] - 17s 91ms/step - loss: 0.0055\n",
      "Epoch 6/25\n",
      "187/187 [==============================] - ETA: 0s - loss: 0.0054WARNING:tensorflow:Can save best model only with val_loss available, skipping.\n",
      "187/187 [==============================] - 16s 87ms/step - loss: 0.0054\n",
      "Epoch 7/25\n",
      "187/187 [==============================] - ETA: 0s - loss: 0.0048WARNING:tensorflow:Can save best model only with val_loss available, skipping.\n",
      "187/187 [==============================] - 16s 87ms/step - loss: 0.0048\n",
      "Epoch 8/25\n",
      "187/187 [==============================] - ETA: 0s - loss: 0.0047WARNING:tensorflow:Can save best model only with val_loss available, skipping.\n",
      "187/187 [==============================] - 16s 87ms/step - loss: 0.0047\n",
      "Epoch 9/25\n",
      "187/187 [==============================] - ETA: 0s - loss: 0.0045WARNING:tensorflow:Can save best model only with val_loss available, skipping.\n",
      "187/187 [==============================] - 16s 88ms/step - loss: 0.0045\n",
      "Epoch 10/25\n",
      "187/187 [==============================] - ETA: 0s - loss: 0.0045WARNING:tensorflow:Can save best model only with val_loss available, skipping.\n",
      "187/187 [==============================] - 16s 88ms/step - loss: 0.0045\n",
      "Epoch 11/25\n",
      "187/187 [==============================] - ETA: 0s - loss: 0.0045WARNING:tensorflow:Can save best model only with val_loss available, skipping.\n",
      "187/187 [==============================] - 16s 87ms/step - loss: 0.0045\n",
      "Epoch 12/25\n",
      "187/187 [==============================] - ETA: 0s - loss: 0.0046WARNING:tensorflow:Can save best model only with val_loss available, skipping.\n",
      "187/187 [==============================] - 16s 87ms/step - loss: 0.0046\n",
      "Epoch 13/25\n",
      "187/187 [==============================] - ETA: 0s - loss: 0.0041WARNING:tensorflow:Can save best model only with val_loss available, skipping.\n",
      "187/187 [==============================] - 16s 87ms/step - loss: 0.0041\n",
      "Epoch 14/25\n",
      "187/187 [==============================] - ETA: 0s - loss: 0.0039WARNING:tensorflow:Can save best model only with val_loss available, skipping.\n",
      "187/187 [==============================] - 16s 87ms/step - loss: 0.0039\n",
      "Epoch 15/25\n",
      "187/187 [==============================] - ETA: 0s - loss: 0.0041WARNING:tensorflow:Can save best model only with val_loss available, skipping.\n",
      "187/187 [==============================] - 16s 88ms/step - loss: 0.0041\n",
      "Epoch 16/25\n",
      "187/187 [==============================] - ETA: 0s - loss: 0.0040WARNING:tensorflow:Can save best model only with val_loss available, skipping.\n",
      "187/187 [==============================] - 16s 88ms/step - loss: 0.0040\n",
      "Epoch 17/25\n",
      "187/187 [==============================] - ETA: 0s - loss: 0.0041WARNING:tensorflow:Can save best model only with val_loss available, skipping.\n",
      "187/187 [==============================] - 16s 88ms/step - loss: 0.0041\n",
      "Epoch 18/25\n",
      "187/187 [==============================] - ETA: 0s - loss: 0.0039WARNING:tensorflow:Can save best model only with val_loss available, skipping.\n",
      "187/187 [==============================] - 16s 87ms/step - loss: 0.0039\n",
      "Epoch 19/25\n",
      "187/187 [==============================] - ETA: 0s - loss: 0.0037WARNING:tensorflow:Can save best model only with val_loss available, skipping.\n",
      "187/187 [==============================] - 16s 88ms/step - loss: 0.0037\n",
      "Epoch 20/25\n",
      "187/187 [==============================] - ETA: 0s - loss: 0.0040WARNING:tensorflow:Can save best model only with val_loss available, skipping.\n",
      "187/187 [==============================] - 17s 88ms/step - loss: 0.0040\n",
      "Epoch 21/25\n",
      "187/187 [==============================] - ETA: 0s - loss: 0.0037WARNING:tensorflow:Can save best model only with val_loss available, skipping.\n",
      "187/187 [==============================] - 17s 89ms/step - loss: 0.0037\n",
      "Epoch 22/25\n",
      "187/187 [==============================] - ETA: 0s - loss: 0.0039WARNING:tensorflow:Can save best model only with val_loss available, skipping.\n",
      "187/187 [==============================] - 17s 88ms/step - loss: 0.0039\n",
      "Epoch 23/25\n",
      "187/187 [==============================] - ETA: 0s - loss: 0.0037WARNING:tensorflow:Can save best model only with val_loss available, skipping.\n",
      "187/187 [==============================] - 17s 89ms/step - loss: 0.0037\n",
      "Epoch 24/25\n",
      "187/187 [==============================] - ETA: 0s - loss: 0.0037WARNING:tensorflow:Can save best model only with val_loss available, skipping.\n",
      "187/187 [==============================] - 17s 89ms/step - loss: 0.0037\n",
      "Epoch 25/25\n",
      "187/187 [==============================] - ETA: 0s - loss: 0.0038WARNING:tensorflow:Can save best model only with val_loss available, skipping.\n",
      "187/187 [==============================] - 17s 89ms/step - loss: 0.0038\n"
     ]
    },
    {
     "data": {
      "text/plain": [
       "<keras.callbacks.History at 0x7f77080ff490>"
      ]
     },
     "execution_count": 24,
     "metadata": {},
     "output_type": "execute_result"
    }
   ],
   "source": [
    "from tensorflow.keras.callbacks import ModelCheckpoint, EarlyStopping\n",
    "\n",
    "checkpointer = ModelCheckpoint(\n",
    "    filepath = 'weights_best.hdf5', \n",
    "    verbose = 2, \n",
    "    save_best_only = True\n",
    ")\n",
    "\n",
    "model.fit(\n",
    "    X_train, \n",
    "    Y_train, \n",
    "    epochs=25, \n",
    "    batch_size = 32,\n",
    "    callbacks = [checkpointer]\n",
    ")"
   ]
  },
  {
   "cell_type": "code",
   "execution_count": 26,
   "id": "d67c51ac",
   "metadata": {},
   "outputs": [
    {
     "name": "stderr",
     "output_type": "stream",
     "text": [
      "2023-07-25 15:15:18.502802: I tensorflow/core/common_runtime/executor.cc:1197] [/device:CPU:0] (DEBUG INFO) Executor start aborting (this does not indicate an error and you can ignore this message): INVALID_ARGUMENT: You must feed a value for placeholder tensor 'gradients/split_2_grad/concat/split_2/split_dim' with dtype int32\n",
      "\t [[{{node gradients/split_2_grad/concat/split_2/split_dim}}]]\n",
      "2023-07-25 15:15:18.505434: I tensorflow/core/common_runtime/executor.cc:1197] [/device:CPU:0] (DEBUG INFO) Executor start aborting (this does not indicate an error and you can ignore this message): INVALID_ARGUMENT: You must feed a value for placeholder tensor 'gradients/split_grad/concat/split/split_dim' with dtype int32\n",
      "\t [[{{node gradients/split_grad/concat/split/split_dim}}]]\n",
      "2023-07-25 15:15:18.507497: I tensorflow/core/common_runtime/executor.cc:1197] [/device:CPU:0] (DEBUG INFO) Executor start aborting (this does not indicate an error and you can ignore this message): INVALID_ARGUMENT: You must feed a value for placeholder tensor 'gradients/split_1_grad/concat/split_1/split_dim' with dtype int32\n",
      "\t [[{{node gradients/split_1_grad/concat/split_1/split_dim}}]]\n",
      "2023-07-25 15:15:18.849855: I tensorflow/core/common_runtime/executor.cc:1197] [/device:CPU:0] (DEBUG INFO) Executor start aborting (this does not indicate an error and you can ignore this message): INVALID_ARGUMENT: You must feed a value for placeholder tensor 'gradients/split_2_grad/concat/split_2/split_dim' with dtype int32\n",
      "\t [[{{node gradients/split_2_grad/concat/split_2/split_dim}}]]\n",
      "2023-07-25 15:15:18.853231: I tensorflow/core/common_runtime/executor.cc:1197] [/device:CPU:0] (DEBUG INFO) Executor start aborting (this does not indicate an error and you can ignore this message): INVALID_ARGUMENT: You must feed a value for placeholder tensor 'gradients/split_grad/concat/split/split_dim' with dtype int32\n",
      "\t [[{{node gradients/split_grad/concat/split/split_dim}}]]\n",
      "2023-07-25 15:15:18.855547: I tensorflow/core/common_runtime/executor.cc:1197] [/device:CPU:0] (DEBUG INFO) Executor start aborting (this does not indicate an error and you can ignore this message): INVALID_ARGUMENT: You must feed a value for placeholder tensor 'gradients/split_1_grad/concat/split_1/split_dim' with dtype int32\n",
      "\t [[{{node gradients/split_1_grad/concat/split_1/split_dim}}]]\n",
      "2023-07-25 15:15:19.184119: I tensorflow/core/common_runtime/executor.cc:1197] [/device:CPU:0] (DEBUG INFO) Executor start aborting (this does not indicate an error and you can ignore this message): INVALID_ARGUMENT: You must feed a value for placeholder tensor 'gradients/split_2_grad/concat/split_2/split_dim' with dtype int32\n",
      "\t [[{{node gradients/split_2_grad/concat/split_2/split_dim}}]]\n",
      "2023-07-25 15:15:19.186353: I tensorflow/core/common_runtime/executor.cc:1197] [/device:CPU:0] (DEBUG INFO) Executor start aborting (this does not indicate an error and you can ignore this message): INVALID_ARGUMENT: You must feed a value for placeholder tensor 'gradients/split_grad/concat/split/split_dim' with dtype int32\n",
      "\t [[{{node gradients/split_grad/concat/split/split_dim}}]]\n",
      "2023-07-25 15:15:19.187820: I tensorflow/core/common_runtime/executor.cc:1197] [/device:CPU:0] (DEBUG INFO) Executor start aborting (this does not indicate an error and you can ignore this message): INVALID_ARGUMENT: You must feed a value for placeholder tensor 'gradients/split_1_grad/concat/split_1/split_dim' with dtype int32\n",
      "\t [[{{node gradients/split_1_grad/concat/split_1/split_dim}}]]\n"
     ]
    },
    {
     "name": "stdout",
     "output_type": "stream",
     "text": [
      "20/20 [==============================] - 2s 35ms/step\n"
     ]
    }
   ],
   "source": [
    "test_predict = model.predict(X_test)"
   ]
  },
  {
   "cell_type": "code",
   "execution_count": 34,
   "id": "f8c237eb",
   "metadata": {},
   "outputs": [],
   "source": [
    "# Load the scaler object from the file\n",
    "scaler = joblib.load('robust_scaler.pkl')"
   ]
  },
  {
   "cell_type": "code",
   "execution_count": 35,
   "id": "62115ec4",
   "metadata": {},
   "outputs": [],
   "source": [
    "test_predict = scaler.inverse_transform(test_predict)\n",
    "Y_test = scaler.inverse_transform([Y_test])"
   ]
  },
  {
   "cell_type": "code",
   "execution_count": 37,
   "id": "df2ba586",
   "metadata": {},
   "outputs": [],
   "source": [
    "df_KO = pd.read_csv('KO.csv', parse_dates=True, index_col=0)"
   ]
  },
  {
   "cell_type": "code",
   "execution_count": null,
   "id": "cfc87009",
   "metadata": {},
   "outputs": [],
   "source": []
  },
  {
   "cell_type": "code",
   "execution_count": 41,
   "id": "ea75a651",
   "metadata": {},
   "outputs": [
    {
     "ename": "ValueError",
     "evalue": "x and y must have same first dimension, but have shapes (685,) and (611, 1)",
     "output_type": "error",
     "traceback": [
      "\u001b[0;31m---------------------------------------------------------------------------\u001b[0m",
      "\u001b[0;31mValueError\u001b[0m                                Traceback (most recent call last)",
      "\u001b[0;32m/tmp/ipykernel_161181/1454186900.py\u001b[0m in \u001b[0;36m<module>\u001b[0;34m\u001b[0m\n\u001b[1;32m      2\u001b[0m \u001b[0mplt\u001b[0m\u001b[0;34m.\u001b[0m\u001b[0mplot\u001b[0m\u001b[0;34m(\u001b[0m\u001b[0mdf_KO\u001b[0m\u001b[0;34m.\u001b[0m\u001b[0mindex\u001b[0m\u001b[0;34m[\u001b[0m\u001b[0;34m:\u001b[0m\u001b[0mlen\u001b[0m\u001b[0;34m(\u001b[0m\u001b[0mX_train\u001b[0m\u001b[0;34m)\u001b[0m\u001b[0;34m+\u001b[0m\u001b[0mlook_back\u001b[0m\u001b[0;34m]\u001b[0m\u001b[0;34m,\u001b[0m \u001b[0mdf_KO\u001b[0m\u001b[0;34m[\u001b[0m\u001b[0;34m'Close'\u001b[0m\u001b[0;34m]\u001b[0m\u001b[0;34m[\u001b[0m\u001b[0;34m:\u001b[0m\u001b[0mlen\u001b[0m\u001b[0;34m(\u001b[0m\u001b[0mX_train\u001b[0m\u001b[0;34m)\u001b[0m\u001b[0;34m+\u001b[0m\u001b[0mlook_back\u001b[0m\u001b[0;34m]\u001b[0m\u001b[0;34m,\u001b[0m \u001b[0mcolor\u001b[0m\u001b[0;34m=\u001b[0m\u001b[0;34m'blue'\u001b[0m\u001b[0;34m,\u001b[0m \u001b[0mlabel\u001b[0m\u001b[0;34m=\u001b[0m\u001b[0;34m'Training data'\u001b[0m\u001b[0;34m)\u001b[0m\u001b[0;34m\u001b[0m\u001b[0;34m\u001b[0m\u001b[0m\n\u001b[1;32m      3\u001b[0m \u001b[0mplt\u001b[0m\u001b[0;34m.\u001b[0m\u001b[0mplot\u001b[0m\u001b[0;34m(\u001b[0m\u001b[0mdf_KO\u001b[0m\u001b[0;34m.\u001b[0m\u001b[0mindex\u001b[0m\u001b[0;34m[\u001b[0m\u001b[0mlen\u001b[0m\u001b[0;34m(\u001b[0m\u001b[0mX_train\u001b[0m\u001b[0;34m)\u001b[0m\u001b[0;34m+\u001b[0m\u001b[0mlook_back\u001b[0m\u001b[0;34m:\u001b[0m\u001b[0;34m-\u001b[0m\u001b[0;36m1\u001b[0m\u001b[0;34m]\u001b[0m\u001b[0;34m,\u001b[0m \u001b[0mdf_KO\u001b[0m\u001b[0;34m[\u001b[0m\u001b[0;34m'Close'\u001b[0m\u001b[0;34m]\u001b[0m\u001b[0;34m[\u001b[0m\u001b[0mlen\u001b[0m\u001b[0;34m(\u001b[0m\u001b[0mX_train\u001b[0m\u001b[0;34m)\u001b[0m\u001b[0;34m+\u001b[0m\u001b[0mlook_back\u001b[0m\u001b[0;34m:\u001b[0m\u001b[0;34m-\u001b[0m\u001b[0;36m1\u001b[0m\u001b[0;34m]\u001b[0m\u001b[0;34m,\u001b[0m \u001b[0mcolor\u001b[0m\u001b[0;34m=\u001b[0m\u001b[0;34m'green'\u001b[0m\u001b[0;34m,\u001b[0m \u001b[0mlabel\u001b[0m\u001b[0;34m=\u001b[0m\u001b[0;34m'Actual Stock Price'\u001b[0m\u001b[0;34m)\u001b[0m\u001b[0;34m\u001b[0m\u001b[0;34m\u001b[0m\u001b[0m\n\u001b[0;32m----> 4\u001b[0;31m \u001b[0mplt\u001b[0m\u001b[0;34m.\u001b[0m\u001b[0mplot\u001b[0m\u001b[0;34m(\u001b[0m\u001b[0mdf_KO\u001b[0m\u001b[0;34m.\u001b[0m\u001b[0mindex\u001b[0m\u001b[0;34m[\u001b[0m\u001b[0mlen\u001b[0m\u001b[0;34m(\u001b[0m\u001b[0mX_train\u001b[0m\u001b[0;34m)\u001b[0m\u001b[0;34m+\u001b[0m\u001b[0mlook_back\u001b[0m\u001b[0;34m:\u001b[0m\u001b[0;34m-\u001b[0m\u001b[0;36m1\u001b[0m\u001b[0;34m]\u001b[0m\u001b[0;34m,\u001b[0m \u001b[0mtest_predict\u001b[0m\u001b[0;34m,\u001b[0m \u001b[0mcolor\u001b[0m\u001b[0;34m=\u001b[0m\u001b[0;34m'red'\u001b[0m\u001b[0;34m,\u001b[0m \u001b[0mlabel\u001b[0m\u001b[0;34m=\u001b[0m\u001b[0;34m'Prediction'\u001b[0m\u001b[0;34m)\u001b[0m\u001b[0;34m\u001b[0m\u001b[0;34m\u001b[0m\u001b[0m\n\u001b[0m\u001b[1;32m      5\u001b[0m \u001b[0mplt\u001b[0m\u001b[0;34m.\u001b[0m\u001b[0mlegend\u001b[0m\u001b[0;34m(\u001b[0m\u001b[0;34m)\u001b[0m\u001b[0;34m\u001b[0m\u001b[0;34m\u001b[0m\u001b[0m\n\u001b[1;32m      6\u001b[0m \u001b[0mplt\u001b[0m\u001b[0;34m.\u001b[0m\u001b[0mshow\u001b[0m\u001b[0;34m(\u001b[0m\u001b[0;34m)\u001b[0m\u001b[0;34m\u001b[0m\u001b[0;34m\u001b[0m\u001b[0m\n",
      "\u001b[0;32m~/anaconda3/lib/python3.9/site-packages/matplotlib/pyplot.py\u001b[0m in \u001b[0;36mplot\u001b[0;34m(scalex, scaley, data, *args, **kwargs)\u001b[0m\n\u001b[1;32m   3017\u001b[0m \u001b[0;34m@\u001b[0m\u001b[0m_copy_docstring_and_deprecators\u001b[0m\u001b[0;34m(\u001b[0m\u001b[0mAxes\u001b[0m\u001b[0;34m.\u001b[0m\u001b[0mplot\u001b[0m\u001b[0;34m)\u001b[0m\u001b[0;34m\u001b[0m\u001b[0;34m\u001b[0m\u001b[0m\n\u001b[1;32m   3018\u001b[0m \u001b[0;32mdef\u001b[0m \u001b[0mplot\u001b[0m\u001b[0;34m(\u001b[0m\u001b[0;34m*\u001b[0m\u001b[0margs\u001b[0m\u001b[0;34m,\u001b[0m \u001b[0mscalex\u001b[0m\u001b[0;34m=\u001b[0m\u001b[0;32mTrue\u001b[0m\u001b[0;34m,\u001b[0m \u001b[0mscaley\u001b[0m\u001b[0;34m=\u001b[0m\u001b[0;32mTrue\u001b[0m\u001b[0;34m,\u001b[0m \u001b[0mdata\u001b[0m\u001b[0;34m=\u001b[0m\u001b[0;32mNone\u001b[0m\u001b[0;34m,\u001b[0m \u001b[0;34m**\u001b[0m\u001b[0mkwargs\u001b[0m\u001b[0;34m)\u001b[0m\u001b[0;34m:\u001b[0m\u001b[0;34m\u001b[0m\u001b[0;34m\u001b[0m\u001b[0m\n\u001b[0;32m-> 3019\u001b[0;31m     return gca().plot(\n\u001b[0m\u001b[1;32m   3020\u001b[0m         \u001b[0;34m*\u001b[0m\u001b[0margs\u001b[0m\u001b[0;34m,\u001b[0m \u001b[0mscalex\u001b[0m\u001b[0;34m=\u001b[0m\u001b[0mscalex\u001b[0m\u001b[0;34m,\u001b[0m \u001b[0mscaley\u001b[0m\u001b[0;34m=\u001b[0m\u001b[0mscaley\u001b[0m\u001b[0;34m,\u001b[0m\u001b[0;34m\u001b[0m\u001b[0;34m\u001b[0m\u001b[0m\n\u001b[1;32m   3021\u001b[0m         **({\"data\": data} if data is not None else {}), **kwargs)\n",
      "\u001b[0;32m~/anaconda3/lib/python3.9/site-packages/matplotlib/axes/_axes.py\u001b[0m in \u001b[0;36mplot\u001b[0;34m(self, scalex, scaley, data, *args, **kwargs)\u001b[0m\n\u001b[1;32m   1603\u001b[0m         \"\"\"\n\u001b[1;32m   1604\u001b[0m         \u001b[0mkwargs\u001b[0m \u001b[0;34m=\u001b[0m \u001b[0mcbook\u001b[0m\u001b[0;34m.\u001b[0m\u001b[0mnormalize_kwargs\u001b[0m\u001b[0;34m(\u001b[0m\u001b[0mkwargs\u001b[0m\u001b[0;34m,\u001b[0m \u001b[0mmlines\u001b[0m\u001b[0;34m.\u001b[0m\u001b[0mLine2D\u001b[0m\u001b[0;34m)\u001b[0m\u001b[0;34m\u001b[0m\u001b[0;34m\u001b[0m\u001b[0m\n\u001b[0;32m-> 1605\u001b[0;31m         \u001b[0mlines\u001b[0m \u001b[0;34m=\u001b[0m \u001b[0;34m[\u001b[0m\u001b[0;34m*\u001b[0m\u001b[0mself\u001b[0m\u001b[0;34m.\u001b[0m\u001b[0m_get_lines\u001b[0m\u001b[0;34m(\u001b[0m\u001b[0;34m*\u001b[0m\u001b[0margs\u001b[0m\u001b[0;34m,\u001b[0m \u001b[0mdata\u001b[0m\u001b[0;34m=\u001b[0m\u001b[0mdata\u001b[0m\u001b[0;34m,\u001b[0m \u001b[0;34m**\u001b[0m\u001b[0mkwargs\u001b[0m\u001b[0;34m)\u001b[0m\u001b[0;34m]\u001b[0m\u001b[0;34m\u001b[0m\u001b[0;34m\u001b[0m\u001b[0m\n\u001b[0m\u001b[1;32m   1606\u001b[0m         \u001b[0;32mfor\u001b[0m \u001b[0mline\u001b[0m \u001b[0;32min\u001b[0m \u001b[0mlines\u001b[0m\u001b[0;34m:\u001b[0m\u001b[0;34m\u001b[0m\u001b[0;34m\u001b[0m\u001b[0m\n\u001b[1;32m   1607\u001b[0m             \u001b[0mself\u001b[0m\u001b[0;34m.\u001b[0m\u001b[0madd_line\u001b[0m\u001b[0;34m(\u001b[0m\u001b[0mline\u001b[0m\u001b[0;34m)\u001b[0m\u001b[0;34m\u001b[0m\u001b[0;34m\u001b[0m\u001b[0m\n",
      "\u001b[0;32m~/anaconda3/lib/python3.9/site-packages/matplotlib/axes/_base.py\u001b[0m in \u001b[0;36m__call__\u001b[0;34m(self, data, *args, **kwargs)\u001b[0m\n\u001b[1;32m    313\u001b[0m                 \u001b[0mthis\u001b[0m \u001b[0;34m+=\u001b[0m \u001b[0margs\u001b[0m\u001b[0;34m[\u001b[0m\u001b[0;36m0\u001b[0m\u001b[0;34m]\u001b[0m\u001b[0;34m,\u001b[0m\u001b[0;34m\u001b[0m\u001b[0;34m\u001b[0m\u001b[0m\n\u001b[1;32m    314\u001b[0m                 \u001b[0margs\u001b[0m \u001b[0;34m=\u001b[0m \u001b[0margs\u001b[0m\u001b[0;34m[\u001b[0m\u001b[0;36m1\u001b[0m\u001b[0;34m:\u001b[0m\u001b[0;34m]\u001b[0m\u001b[0;34m\u001b[0m\u001b[0;34m\u001b[0m\u001b[0m\n\u001b[0;32m--> 315\u001b[0;31m             \u001b[0;32myield\u001b[0m \u001b[0;32mfrom\u001b[0m \u001b[0mself\u001b[0m\u001b[0;34m.\u001b[0m\u001b[0m_plot_args\u001b[0m\u001b[0;34m(\u001b[0m\u001b[0mthis\u001b[0m\u001b[0;34m,\u001b[0m \u001b[0mkwargs\u001b[0m\u001b[0;34m)\u001b[0m\u001b[0;34m\u001b[0m\u001b[0;34m\u001b[0m\u001b[0m\n\u001b[0m\u001b[1;32m    316\u001b[0m \u001b[0;34m\u001b[0m\u001b[0m\n\u001b[1;32m    317\u001b[0m     \u001b[0;32mdef\u001b[0m \u001b[0mget_next_color\u001b[0m\u001b[0;34m(\u001b[0m\u001b[0mself\u001b[0m\u001b[0;34m)\u001b[0m\u001b[0;34m:\u001b[0m\u001b[0;34m\u001b[0m\u001b[0;34m\u001b[0m\u001b[0m\n",
      "\u001b[0;32m~/anaconda3/lib/python3.9/site-packages/matplotlib/axes/_base.py\u001b[0m in \u001b[0;36m_plot_args\u001b[0;34m(self, tup, kwargs, return_kwargs)\u001b[0m\n\u001b[1;32m    499\u001b[0m \u001b[0;34m\u001b[0m\u001b[0m\n\u001b[1;32m    500\u001b[0m         \u001b[0;32mif\u001b[0m \u001b[0mx\u001b[0m\u001b[0;34m.\u001b[0m\u001b[0mshape\u001b[0m\u001b[0;34m[\u001b[0m\u001b[0;36m0\u001b[0m\u001b[0;34m]\u001b[0m \u001b[0;34m!=\u001b[0m \u001b[0my\u001b[0m\u001b[0;34m.\u001b[0m\u001b[0mshape\u001b[0m\u001b[0;34m[\u001b[0m\u001b[0;36m0\u001b[0m\u001b[0;34m]\u001b[0m\u001b[0;34m:\u001b[0m\u001b[0;34m\u001b[0m\u001b[0;34m\u001b[0m\u001b[0m\n\u001b[0;32m--> 501\u001b[0;31m             raise ValueError(f\"x and y must have same first dimension, but \"\n\u001b[0m\u001b[1;32m    502\u001b[0m                              f\"have shapes {x.shape} and {y.shape}\")\n\u001b[1;32m    503\u001b[0m         \u001b[0;32mif\u001b[0m \u001b[0mx\u001b[0m\u001b[0;34m.\u001b[0m\u001b[0mndim\u001b[0m \u001b[0;34m>\u001b[0m \u001b[0;36m2\u001b[0m \u001b[0;32mor\u001b[0m \u001b[0my\u001b[0m\u001b[0;34m.\u001b[0m\u001b[0mndim\u001b[0m \u001b[0;34m>\u001b[0m \u001b[0;36m2\u001b[0m\u001b[0;34m:\u001b[0m\u001b[0;34m\u001b[0m\u001b[0;34m\u001b[0m\u001b[0m\n",
      "\u001b[0;31mValueError\u001b[0m: x and y must have same first dimension, but have shapes (685,) and (611, 1)"
     ]
    },
    {
     "data": {
      "image/png": "[encoded data removed]",
      "text/plain": [
       "<Figure size 720x432 with 1 Axes>"
      ]
     },
     "metadata": {
      "needs_background": "light"
     },
     "output_type": "display_data"
    }
   ],
   "source": [
    "#plt.figure(figsize=(10,6))\n",
    "#plt.plot(df_KO.index[:len(X_train)+look_back], df_KO['Close'][:len(X_train)+look_back], color='blue', label='Training data')\n",
    "#plt.plot(df_KO.index[len(X_train)+look_back:-1], df_KO['Close'][len(X_train)+look_back:-1], color='green', label='Actual Stock Price')\n",
    "#plt.plot(df_KO.index[len(X_train)+look_back:-1], test_predict, color='red', label='Prediction')\n",
    "#plt.legend()\n",
    "#plt.show()"
   ]
  },
  {
   "cell_type": "code",
   "execution_count": null,
   "id": "2ee0663c",
   "metadata": {},
   "outputs": [],
   "source": []
  },
  {
   "cell_type": "code",
   "execution_count": null,
   "id": "d391caf6",
   "metadata": {},
   "outputs": [],
   "source": []
  },
  {
   "cell_type": "code",
   "execution_count": 42,
   "id": "0032cae8",
   "metadata": {},
   "outputs": [
    {
     "data": {
      "image/png": "[encoded data removed]",
      "text/plain": [
       "<Figure size 1008x504 with 1 Axes>"
      ]
     },
     "metadata": {
      "needs_background": "light"
     },
     "output_type": "display_data"
    }
   ],
   "source": [
    "# plot test predictions and actual values\n",
    "plt.figure(figsize=(14,7))\n",
    "plt.plot(Y_test[0], label='True Test Values')\n",
    "plt.plot(test_predict, label='Test Predictions')\n",
    "plt.title('Comparison of Test Set Predictions and True Values')\n",
    "plt.xlabel('Time Step')\n",
    "plt.ylabel('Normalized Close Price')\n",
    "plt.legend()\n",
    "plt.show()"
   ]
  },
  {
   "cell_type": "code",
   "execution_count": null,
   "id": "7b69438e",
   "metadata": {},
   "outputs": [],
   "source": []
  }
 ],
 "metadata": {
  "kernelspec": {
   "display_name": "Python 3 (ipykernel)",
   "language": "python",
   "name": "python3"
  },
  "language_info": {
   "codemirror_mode": {
    "name": "ipython",
    "version": 3
   },
   "file_extension": ".py",
   "mimetype": "text/x-python",
   "name": "python",
   "nbconvert_exporter": "python",
   "pygments_lexer": "ipython3",
   "version": "3.9.7"
  }
 },
 "nbformat": 4,
 "nbformat_minor": 5
}
