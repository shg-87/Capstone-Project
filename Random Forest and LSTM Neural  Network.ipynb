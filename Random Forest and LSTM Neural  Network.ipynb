{
 "cells": [
  {
   "cell_type": "markdown",
   "id": "d041d8d9",
   "metadata": {},
   "source": [
    "# Stock price forecasting"
   ]
  },
  {
   "cell_type": "markdown",
   "id": "40d02037",
   "metadata": {},
   "source": [
    "# Modeling Random Forests and LSTM neural network"
   ]
  },
  {
   "cell_type": "markdown",
   "id": "636314da",
   "metadata": {},
   "source": [
    "The purpose of this section is to train two machine learning models -Random Forests and LSTM neural network- to predict the `Close` price of our test dataset, and assess their performance. In both cases we will investigate how the size of the test set affects the model's performance. "
   ]
  },
  {
   "cell_type": "code",
   "execution_count": 6,
   "id": "1230f3ec",
   "metadata": {},
   "outputs": [],
   "source": [
    "import pandas as pd\n",
    "import matplotlib.pyplot as plt\n",
    "import numpy as np"
   ]
  },
  {
   "cell_type": "code",
   "execution_count": null,
   "id": "b1c2aae2",
   "metadata": {},
   "outputs": [],
   "source": []
  },
  {
   "cell_type": "markdown",
   "id": "9c44bdc2",
   "metadata": {},
   "source": [
    "## Random Forest"
   ]
  },
  {
   "cell_type": "markdown",
   "id": "b6755e9d",
   "metadata": {},
   "source": [
    "First step is to import the Random Forest Regressor model:"
   ]
  },
  {
   "cell_type": "code",
   "execution_count": 7,
   "id": "c7002862",
   "metadata": {},
   "outputs": [],
   "source": [
    "# Import the RandomForestRegressor model\n",
    "from sklearn.ensemble import RandomForestRegressor"
   ]
  },
  {
   "cell_type": "markdown",
   "id": "411ba3f4",
   "metadata": {},
   "source": [
    "We need to load the training and test features and target datasets we saved in the previous notebook. We are using the unscaled datasets as Random Forests are insensitive to scaling."
   ]
  },
  {
   "cell_type": "code",
   "execution_count": 8,
   "id": "dfd54e55",
   "metadata": {},
   "outputs": [],
   "source": [
    "# Load the X_train, y_train, X_test and y_test datasets\n",
    "\n",
    "X_train = pd.read_csv('X_train_KO.csv', parse_dates=True, index_col=0)\n",
    "y_train = pd.read_csv('y_train_KO.csv', parse_dates=True, index_col=0)\n",
    "\n",
    "X_test = pd.read_csv('X_test_KO.csv', parse_dates=True, index_col=0)\n",
    "y_test = pd.read_csv('y_test_KO.csv', parse_dates=True, index_col=0)"
   ]
  },
  {
   "cell_type": "code",
   "execution_count": 9,
   "id": "bb4e5582",
   "metadata": {},
   "outputs": [
    {
     "data": {
      "text/html": [
       "<div>\n",
       "<style scoped>\n",
       "    .dataframe tbody tr th:only-of-type {\n",
       "        vertical-align: middle;\n",
       "    }\n",
       "\n",
       "    .dataframe tbody tr th {\n",
       "        vertical-align: top;\n",
       "    }\n",
       "\n",
       "    .dataframe thead th {\n",
       "        text-align: right;\n",
       "    }\n",
       "</style>\n",
       "<table border=\"1\" class=\"dataframe\">\n",
       "  <thead>\n",
       "    <tr style=\"text-align: right;\">\n",
       "      <th></th>\n",
       "      <th>Open</th>\n",
       "      <th>High</th>\n",
       "      <th>Low</th>\n",
       "      <th>Adj Close</th>\n",
       "      <th>Volume</th>\n",
       "      <th>Reported EPS</th>\n",
       "      <th>Price Change</th>\n",
       "      <th>RSI</th>\n",
       "      <th>K</th>\n",
       "      <th>EMA12</th>\n",
       "      <th>EMA26</th>\n",
       "      <th>MACD Line</th>\n",
       "      <th>Signal Line</th>\n",
       "      <th>MACD Histogram</th>\n",
       "      <th>ROC</th>\n",
       "      <th>OBV</th>\n",
       "      <th>P/E</th>\n",
       "      <th>Day</th>\n",
       "      <th>Month</th>\n",
       "      <th>Year</th>\n",
       "    </tr>\n",
       "    <tr>\n",
       "      <th>Date</th>\n",
       "      <th></th>\n",
       "      <th></th>\n",
       "      <th></th>\n",
       "      <th></th>\n",
       "      <th></th>\n",
       "      <th></th>\n",
       "      <th></th>\n",
       "      <th></th>\n",
       "      <th></th>\n",
       "      <th></th>\n",
       "      <th></th>\n",
       "      <th></th>\n",
       "      <th></th>\n",
       "      <th></th>\n",
       "      <th></th>\n",
       "      <th></th>\n",
       "      <th></th>\n",
       "      <th></th>\n",
       "      <th></th>\n",
       "      <th></th>\n",
       "    </tr>\n",
       "  </thead>\n",
       "  <tbody>\n",
       "    <tr>\n",
       "      <th>1996-05-06</th>\n",
       "      <td>19.937500</td>\n",
       "      <td>20.218750</td>\n",
       "      <td>19.750000</td>\n",
       "      <td>10.236874</td>\n",
       "      <td>7170400</td>\n",
       "      <td>0.14</td>\n",
       "      <td>0.281250</td>\n",
       "      <td>54.166667</td>\n",
       "      <td>70.000000</td>\n",
       "      <td>20.167723</td>\n",
       "      <td>20.122550</td>\n",
       "      <td>0.045173</td>\n",
       "      <td>0.045976</td>\n",
       "      <td>-0.000803</td>\n",
       "      <td>-0.154321</td>\n",
       "      <td>-10631600</td>\n",
       "      <td>144.419643</td>\n",
       "      <td>6</td>\n",
       "      <td>5</td>\n",
       "      <td>1996</td>\n",
       "    </tr>\n",
       "    <tr>\n",
       "      <th>1996-05-07</th>\n",
       "      <td>20.218750</td>\n",
       "      <td>20.406250</td>\n",
       "      <td>20.156250</td>\n",
       "      <td>10.300159</td>\n",
       "      <td>6702800</td>\n",
       "      <td>0.14</td>\n",
       "      <td>0.125000</td>\n",
       "      <td>56.578947</td>\n",
       "      <td>83.333333</td>\n",
       "      <td>20.194804</td>\n",
       "      <td>20.138935</td>\n",
       "      <td>0.055869</td>\n",
       "      <td>0.047955</td>\n",
       "      <td>0.007914</td>\n",
       "      <td>1.244168</td>\n",
       "      <td>-3928800</td>\n",
       "      <td>145.312500</td>\n",
       "      <td>7</td>\n",
       "      <td>5</td>\n",
       "      <td>1996</td>\n",
       "    </tr>\n",
       "    <tr>\n",
       "      <th>1996-05-08</th>\n",
       "      <td>20.343750</td>\n",
       "      <td>20.687500</td>\n",
       "      <td>20.062500</td>\n",
       "      <td>10.474213</td>\n",
       "      <td>8292800</td>\n",
       "      <td>0.14</td>\n",
       "      <td>0.343750</td>\n",
       "      <td>65.853659</td>\n",
       "      <td>100.000000</td>\n",
       "      <td>20.270603</td>\n",
       "      <td>20.179569</td>\n",
       "      <td>0.091034</td>\n",
       "      <td>0.056571</td>\n",
       "      <td>0.034463</td>\n",
       "      <td>1.846154</td>\n",
       "      <td>4364000</td>\n",
       "      <td>147.767857</td>\n",
       "      <td>8</td>\n",
       "      <td>5</td>\n",
       "      <td>1996</td>\n",
       "    </tr>\n",
       "    <tr>\n",
       "      <th>1996-05-09</th>\n",
       "      <td>20.687500</td>\n",
       "      <td>20.937500</td>\n",
       "      <td>20.593750</td>\n",
       "      <td>10.474213</td>\n",
       "      <td>4820400</td>\n",
       "      <td>0.14</td>\n",
       "      <td>0.000000</td>\n",
       "      <td>71.052632</td>\n",
       "      <td>78.947368</td>\n",
       "      <td>20.334741</td>\n",
       "      <td>20.217194</td>\n",
       "      <td>0.117547</td>\n",
       "      <td>0.068766</td>\n",
       "      <td>0.048781</td>\n",
       "      <td>1.846154</td>\n",
       "      <td>4364000</td>\n",
       "      <td>147.767857</td>\n",
       "      <td>9</td>\n",
       "      <td>5</td>\n",
       "      <td>1996</td>\n",
       "    </tr>\n",
       "    <tr>\n",
       "      <th>1996-05-10</th>\n",
       "      <td>20.718750</td>\n",
       "      <td>20.968750</td>\n",
       "      <td>20.718750</td>\n",
       "      <td>10.616608</td>\n",
       "      <td>4942800</td>\n",
       "      <td>0.14</td>\n",
       "      <td>0.281250</td>\n",
       "      <td>68.571429</td>\n",
       "      <td>100.000000</td>\n",
       "      <td>20.432281</td>\n",
       "      <td>20.272865</td>\n",
       "      <td>0.159416</td>\n",
       "      <td>0.086896</td>\n",
       "      <td>0.072520</td>\n",
       "      <td>3.389831</td>\n",
       "      <td>9306800</td>\n",
       "      <td>149.776786</td>\n",
       "      <td>10</td>\n",
       "      <td>5</td>\n",
       "      <td>1996</td>\n",
       "    </tr>\n",
       "    <tr>\n",
       "      <th>...</th>\n",
       "      <td>...</td>\n",
       "      <td>...</td>\n",
       "      <td>...</td>\n",
       "      <td>...</td>\n",
       "      <td>...</td>\n",
       "      <td>...</td>\n",
       "      <td>...</td>\n",
       "      <td>...</td>\n",
       "      <td>...</td>\n",
       "      <td>...</td>\n",
       "      <td>...</td>\n",
       "      <td>...</td>\n",
       "      <td>...</td>\n",
       "      <td>...</td>\n",
       "      <td>...</td>\n",
       "      <td>...</td>\n",
       "      <td>...</td>\n",
       "      <td>...</td>\n",
       "      <td>...</td>\n",
       "      <td>...</td>\n",
       "    </tr>\n",
       "    <tr>\n",
       "      <th>2022-06-13</th>\n",
       "      <td>60.750000</td>\n",
       "      <td>62.290001</td>\n",
       "      <td>60.669998</td>\n",
       "      <td>59.126160</td>\n",
       "      <td>23064200</td>\n",
       "      <td>0.64</td>\n",
       "      <td>-0.070000</td>\n",
       "      <td>39.502762</td>\n",
       "      <td>18.965543</td>\n",
       "      <td>62.600185</td>\n",
       "      <td>63.125886</td>\n",
       "      <td>-0.525701</td>\n",
       "      <td>-0.299640</td>\n",
       "      <td>-0.226061</td>\n",
       "      <td>-3.218682</td>\n",
       "      <td>2802664700</td>\n",
       "      <td>95.843750</td>\n",
       "      <td>13</td>\n",
       "      <td>6</td>\n",
       "      <td>2022</td>\n",
       "    </tr>\n",
       "    <tr>\n",
       "      <th>2022-06-14</th>\n",
       "      <td>60.730000</td>\n",
       "      <td>60.889999</td>\n",
       "      <td>58.660000</td>\n",
       "      <td>57.504799</td>\n",
       "      <td>24620000</td>\n",
       "      <td>0.64</td>\n",
       "      <td>-2.110001</td>\n",
       "      <td>20.757061</td>\n",
       "      <td>8.850929</td>\n",
       "      <td>62.081695</td>\n",
       "      <td>62.837302</td>\n",
       "      <td>-0.755607</td>\n",
       "      <td>-0.390833</td>\n",
       "      <td>-0.364773</td>\n",
       "      <td>-6.088473</td>\n",
       "      <td>2778044700</td>\n",
       "      <td>92.546874</td>\n",
       "      <td>14</td>\n",
       "      <td>6</td>\n",
       "      <td>2022</td>\n",
       "    </tr>\n",
       "    <tr>\n",
       "      <th>2022-06-15</th>\n",
       "      <td>60.000000</td>\n",
       "      <td>60.639999</td>\n",
       "      <td>58.970001</td>\n",
       "      <td>57.931984</td>\n",
       "      <td>19684700</td>\n",
       "      <td>0.64</td>\n",
       "      <td>0.439999</td>\n",
       "      <td>24.358971</td>\n",
       "      <td>15.683207</td>\n",
       "      <td>61.710665</td>\n",
       "      <td>62.602687</td>\n",
       "      <td>-0.892022</td>\n",
       "      <td>-0.491071</td>\n",
       "      <td>-0.400951</td>\n",
       "      <td>-6.370628</td>\n",
       "      <td>2797729400</td>\n",
       "      <td>93.234372</td>\n",
       "      <td>15</td>\n",
       "      <td>6</td>\n",
       "      <td>2022</td>\n",
       "    </tr>\n",
       "    <tr>\n",
       "      <th>2022-06-16</th>\n",
       "      <td>58.639999</td>\n",
       "      <td>59.520000</td>\n",
       "      <td>58.250000</td>\n",
       "      <td>57.349461</td>\n",
       "      <td>15053800</td>\n",
       "      <td>0.64</td>\n",
       "      <td>-0.599998</td>\n",
       "      <td>20.782094</td>\n",
       "      <td>12.461998</td>\n",
       "      <td>61.304409</td>\n",
       "      <td>62.341006</td>\n",
       "      <td>-1.036597</td>\n",
       "      <td>-0.600176</td>\n",
       "      <td>-0.436421</td>\n",
       "      <td>-6.193428</td>\n",
       "      <td>2782675600</td>\n",
       "      <td>92.296875</td>\n",
       "      <td>16</td>\n",
       "      <td>6</td>\n",
       "      <td>2022</td>\n",
       "    </tr>\n",
       "    <tr>\n",
       "      <th>2022-06-17</th>\n",
       "      <td>59.700001</td>\n",
       "      <td>60.130001</td>\n",
       "      <td>59.130001</td>\n",
       "      <td>57.698975</td>\n",
       "      <td>34781900</td>\n",
       "      <td>0.64</td>\n",
       "      <td>0.360001</td>\n",
       "      <td>20.604704</td>\n",
       "      <td>19.439874</td>\n",
       "      <td>61.016038</td>\n",
       "      <td>62.125376</td>\n",
       "      <td>-1.109338</td>\n",
       "      <td>-0.702009</td>\n",
       "      <td>-0.407329</td>\n",
       "      <td>-5.471606</td>\n",
       "      <td>2817457500</td>\n",
       "      <td>92.859375</td>\n",
       "      <td>17</td>\n",
       "      <td>6</td>\n",
       "      <td>2022</td>\n",
       "    </tr>\n",
       "  </tbody>\n",
       "</table>\n",
       "<p>6576 rows × 20 columns</p>\n",
       "</div>"
      ],
      "text/plain": [
       "                 Open       High        Low  Adj Close    Volume  \\\n",
       "Date                                                               \n",
       "1996-05-06  19.937500  20.218750  19.750000  10.236874   7170400   \n",
       "1996-05-07  20.218750  20.406250  20.156250  10.300159   6702800   \n",
       "1996-05-08  20.343750  20.687500  20.062500  10.474213   8292800   \n",
       "1996-05-09  20.687500  20.937500  20.593750  10.474213   4820400   \n",
       "1996-05-10  20.718750  20.968750  20.718750  10.616608   4942800   \n",
       "...               ...        ...        ...        ...       ...   \n",
       "2022-06-13  60.750000  62.290001  60.669998  59.126160  23064200   \n",
       "2022-06-14  60.730000  60.889999  58.660000  57.504799  24620000   \n",
       "2022-06-15  60.000000  60.639999  58.970001  57.931984  19684700   \n",
       "2022-06-16  58.639999  59.520000  58.250000  57.349461  15053800   \n",
       "2022-06-17  59.700001  60.130001  59.130001  57.698975  34781900   \n",
       "\n",
       "            Reported EPS  Price Change        RSI           K      EMA12  \\\n",
       "Date                                                                       \n",
       "1996-05-06          0.14      0.281250  54.166667   70.000000  20.167723   \n",
       "1996-05-07          0.14      0.125000  56.578947   83.333333  20.194804   \n",
       "1996-05-08          0.14      0.343750  65.853659  100.000000  20.270603   \n",
       "1996-05-09          0.14      0.000000  71.052632   78.947368  20.334741   \n",
       "1996-05-10          0.14      0.281250  68.571429  100.000000  20.432281   \n",
       "...                  ...           ...        ...         ...        ...   \n",
       "2022-06-13          0.64     -0.070000  39.502762   18.965543  62.600185   \n",
       "2022-06-14          0.64     -2.110001  20.757061    8.850929  62.081695   \n",
       "2022-06-15          0.64      0.439999  24.358971   15.683207  61.710665   \n",
       "2022-06-16          0.64     -0.599998  20.782094   12.461998  61.304409   \n",
       "2022-06-17          0.64      0.360001  20.604704   19.439874  61.016038   \n",
       "\n",
       "                EMA26  MACD Line  Signal Line  MACD Histogram       ROC  \\\n",
       "Date                                                                      \n",
       "1996-05-06  20.122550   0.045173     0.045976       -0.000803 -0.154321   \n",
       "1996-05-07  20.138935   0.055869     0.047955        0.007914  1.244168   \n",
       "1996-05-08  20.179569   0.091034     0.056571        0.034463  1.846154   \n",
       "1996-05-09  20.217194   0.117547     0.068766        0.048781  1.846154   \n",
       "1996-05-10  20.272865   0.159416     0.086896        0.072520  3.389831   \n",
       "...               ...        ...          ...             ...       ...   \n",
       "2022-06-13  63.125886  -0.525701    -0.299640       -0.226061 -3.218682   \n",
       "2022-06-14  62.837302  -0.755607    -0.390833       -0.364773 -6.088473   \n",
       "2022-06-15  62.602687  -0.892022    -0.491071       -0.400951 -6.370628   \n",
       "2022-06-16  62.341006  -1.036597    -0.600176       -0.436421 -6.193428   \n",
       "2022-06-17  62.125376  -1.109338    -0.702009       -0.407329 -5.471606   \n",
       "\n",
       "                   OBV         P/E  Day  Month  Year  \n",
       "Date                                                  \n",
       "1996-05-06   -10631600  144.419643    6      5  1996  \n",
       "1996-05-07    -3928800  145.312500    7      5  1996  \n",
       "1996-05-08     4364000  147.767857    8      5  1996  \n",
       "1996-05-09     4364000  147.767857    9      5  1996  \n",
       "1996-05-10     9306800  149.776786   10      5  1996  \n",
       "...                ...         ...  ...    ...   ...  \n",
       "2022-06-13  2802664700   95.843750   13      6  2022  \n",
       "2022-06-14  2778044700   92.546874   14      6  2022  \n",
       "2022-06-15  2797729400   93.234372   15      6  2022  \n",
       "2022-06-16  2782675600   92.296875   16      6  2022  \n",
       "2022-06-17  2817457500   92.859375   17      6  2022  \n",
       "\n",
       "[6576 rows x 20 columns]"
      ]
     },
     "execution_count": 9,
     "metadata": {},
     "output_type": "execute_result"
    }
   ],
   "source": [
    "X_train"
   ]
  },
  {
   "cell_type": "markdown",
   "id": "7c4ce233",
   "metadata": {},
   "source": [
    "We now proceed to train our Random Forest model and make predictions on the testing dataset. We choose to use a Random Forest Regressor model with 100 trees (n_estimators=100) and set a random seed for reproducibility of our results (random_state=42)."
   ]
  },
  {
   "cell_type": "code",
   "execution_count": 10,
   "id": "7473bfe6",
   "metadata": {},
   "outputs": [],
   "source": [
    "# Initialize the random forest regressor\n",
    "rf_model = RandomForestRegressor(n_estimators=100, random_state=42)\n",
    "\n",
    "# Fit the model on the training data\n",
    "rf_model.fit(X_train, y_train.values.ravel())\n",
    "\n",
    "# Make predictions on the testing data\n",
    "y_pred = rf_model.predict(X_test)\n"
   ]
  },
  {
   "cell_type": "markdown",
   "id": "b461b619",
   "metadata": {},
   "source": [
    "The performance of the model will be assessed by using the mean squared error (MSE):"
   ]
  },
  {
   "cell_type": "code",
   "execution_count": 11,
   "id": "7caaf56a",
   "metadata": {},
   "outputs": [
    {
     "name": "stdout",
     "output_type": "stream",
     "text": [
      "Mean Squared Error: 0.4868624290997525\n"
     ]
    }
   ],
   "source": [
    "from sklearn.metrics import mean_squared_error\n",
    "\n",
    "mse = mean_squared_error(y_test, y_pred)\n",
    "print(\"Mean Squared Error:\", mse)"
   ]
  },
  {
   "cell_type": "markdown",
   "id": "2442c737",
   "metadata": {},
   "source": [
    "In order to compare the predicted values of the target variable and its actual values we plot the corresponding series:"
   ]
  },
  {
   "cell_type": "code",
   "execution_count": 12,
   "id": "abdf24fd",
   "metadata": {},
   "outputs": [
    {
     "data": {
      "image/png": "[encoded data removed]",
      "text/plain": [
       "<Figure size 432x288 with 1 Axes>"
      ]
     },
     "metadata": {
      "needs_background": "light"
     },
     "output_type": "display_data"
    }
   ],
   "source": [
    "# Create a range of indices for the x-axis\n",
    "x = range(len(y_pred))\n",
    "\n",
    "# Plot the predicted values (y_pred) and the true values (y_test)\n",
    "plt.plot(x, y_pred, label='Predicted')\n",
    "plt.plot(x, y_test, label='Actual')\n",
    "\n",
    "# Set y-axis label\n",
    "plt.ylabel('Closing Price')\n",
    "\n",
    "# Set x-axis label\n",
    "plt.xlabel('Time')\n",
    "\n",
    "# Set plot title\n",
    "plt.title('Predicted vs Actual Closing Price')\n",
    "\n",
    "# Add legend\n",
    "plt.legend()\n",
    "\n",
    "# Show the plot\n",
    "plt.show()"
   ]
  },
  {
   "cell_type": "markdown",
   "id": "9c79dd41",
   "metadata": {},
   "source": [
    "We observe a quite good match between the predicted and actual Closing price distributions. Although the curves tend to slightly spread out from each other past around 90 timesteps, their shapes remain practically identical."
   ]
  },
  {
   "cell_type": "markdown",
   "id": "9aa2a1e9",
   "metadata": {},
   "source": []
  },
  {
   "cell_type": "markdown",
   "id": "e05a5ff5",
   "metadata": {},
   "source": [
    "## Long-Short-Term-Memory neural network"
   ]
  },
  {
   "cell_type": "markdown",
   "id": "27dd5d84",
   "metadata": {},
   "source": [
    "LSTM networks are a type of Recurrent Neural Network (RNN) that are designed to remember patterns over time. They are particularly good at recognizing patterns over periods of time which makes them very useful for time-series data."
   ]
  },
  {
   "cell_type": "code",
   "execution_count": null,
   "id": "2a46a7f6",
   "metadata": {},
   "outputs": [],
   "source": []
  },
  {
   "cell_type": "code",
   "execution_count": 13,
   "id": "02c8d7d7",
   "metadata": {},
   "outputs": [],
   "source": [
    "from sklearn.preprocessing import MinMaxScaler\n",
    "import pandas as pd\n",
    "import numpy as np\n",
    "\n",
    "# Load data into DataFrame \n",
    "df = pd.read_csv('KO.csv')\n",
    "\n",
    "# Compute the number of data points for 80% of the data\n",
    "train_size = int(0.8 * len(df))\n",
    "\n",
    "# Split into train and test sets\n",
    "train = df[['Close']][:train_size]\n",
    "test = df[['Close']][train_size:]\n",
    "\n",
    "# Scale the features and target together\n",
    "scaler = MinMaxScaler(feature_range=(0,1))\n",
    "\n",
    "# Fit the scaler using only the training data and transform\n",
    "train_scaled = pd.DataFrame(scaler.fit_transform(train), columns=['Close'])\n",
    "\n",
    "# Scale the test data\n",
    "test_scaled = pd.DataFrame(scaler.transform(test), columns=['Close'])"
   ]
  },
  {
   "cell_type": "markdown",
   "id": "2b91cf71",
   "metadata": {},
   "source": [
    "In order to train our LSTM network, we need a further processing of our data that will render it into a suitable format that can be fed to the network. In time series forecasting with LSTM, it is common to use a certain number of previous steps to predict the next step. This is often referred to as a 'sliding window' approach. \n",
    "\n",
    "\n",
    "We will define a function `create_dataset` that creates this sliding window, taking a time series dataset and a parameter `look_back` as inputs. The `look_back` parameter is the number of previous time steps to use as input variables to predict the next time period.   The function will return two outputs:  a 2D numpy array `X` where each row corresponds to a sequence of `look_back` number of previous values from the dataset, and a 1D numpy array `Y` where each value corresponds to the next value in the dataset that follows the sequence in `X`. `X` contains the input features for our LSTM model, whereas `Y` is the target variable that our LSTM model will aim to predict."
   ]
  },
  {
   "cell_type": "code",
   "execution_count": 14,
   "id": "b1670a58",
   "metadata": {},
   "outputs": [],
   "source": [
    "def create_sequences(data, seq_length):\n",
    "    xs = []\n",
    "    ys = []\n",
    "\n",
    "    for i in range(len(data)-seq_length-1):\n",
    "        x = data.iloc[i:(i+seq_length)].values\n",
    "        y = data.iloc[i+seq_length]  # removed .values\n",
    "        xs.append(x)\n",
    "        ys.append(y)\n",
    "\n",
    "    return np.array(xs), np.array(ys)\n",
    "\n",
    "# Specify the sequence length\n",
    "seq_length = 60\n",
    "\n",
    "# Create sequences from train and test data\n",
    "X_train, y_train = create_sequences(train_scaled['Close'], seq_length)\n",
    "X_test, y_test = create_sequences(test_scaled['Close'], seq_length)\n"
   ]
  },
  {
   "cell_type": "code",
   "execution_count": null,
   "id": "22de7152",
   "metadata": {},
   "outputs": [],
   "source": []
  },
  {
   "cell_type": "code",
   "execution_count": 15,
   "id": "386a9389",
   "metadata": {},
   "outputs": [],
   "source": [
    "# Reshape the inputs to be suitable for LSTM\n",
    "X_train = np.reshape(X_train, (X_train.shape[0], X_train.shape[1], 1))\n",
    "X_test = np.reshape(X_test, (X_test.shape[0], X_test.shape[1], 1))"
   ]
  },
  {
   "cell_type": "code",
   "execution_count": null,
   "id": "497398c4",
   "metadata": {},
   "outputs": [],
   "source": []
  },
  {
   "cell_type": "code",
   "execution_count": 16,
   "id": "c2348d85",
   "metadata": {},
   "outputs": [
    {
     "name": "stderr",
     "output_type": "stream",
     "text": [
      "2023-07-30 13:06:23.976227: I tensorflow/tsl/cuda/cudart_stub.cc:28] Could not find cuda drivers on your machine, GPU will not be used.\n",
      "2023-07-30 13:06:24.422817: I tensorflow/tsl/cuda/cudart_stub.cc:28] Could not find cuda drivers on your machine, GPU will not be used.\n",
      "2023-07-30 13:06:24.425633: I tensorflow/core/platform/cpu_feature_guard.cc:182] This TensorFlow binary is optimized to use available CPU instructions in performance-critical operations.\n",
      "To enable the following instructions: AVX2 FMA, in other operations, rebuild TensorFlow with the appropriate compiler flags.\n",
      "2023-07-30 13:06:26.819832: W tensorflow/compiler/tf2tensorrt/utils/py_utils.cc:38] TF-TRT Warning: Could not find TensorRT\n"
     ]
    }
   ],
   "source": [
    "import tensorflow as tf\n",
    "from sklearn.model_selection import train_test_split\n",
    "from keras.models import Sequential\n",
    "from keras.layers import Dense, LSTM, Dropout\n",
    "import matplotlib.pyplot as plt\n",
    "from pandas.tseries.offsets import DateOffset"
   ]
  },
  {
   "cell_type": "code",
   "execution_count": null,
   "id": "7b21782d",
   "metadata": {},
   "outputs": [],
   "source": []
  },
  {
   "cell_type": "code",
   "execution_count": 17,
   "id": "2b4d563d",
   "metadata": {},
   "outputs": [
    {
     "name": "stderr",
     "output_type": "stream",
     "text": [
      "2023-07-30 13:06:32.088247: I tensorflow/core/common_runtime/executor.cc:1197] [/device:CPU:0] (DEBUG INFO) Executor start aborting (this does not indicate an error and you can ignore this message): INVALID_ARGUMENT: You must feed a value for placeholder tensor 'gradients/split_2_grad/concat/split_2/split_dim' with dtype int32\n",
      "\t [[{{node gradients/split_2_grad/concat/split_2/split_dim}}]]\n",
      "2023-07-30 13:06:32.092437: I tensorflow/core/common_runtime/executor.cc:1197] [/device:CPU:0] (DEBUG INFO) Executor start aborting (this does not indicate an error and you can ignore this message): INVALID_ARGUMENT: You must feed a value for placeholder tensor 'gradients/split_grad/concat/split/split_dim' with dtype int32\n",
      "\t [[{{node gradients/split_grad/concat/split/split_dim}}]]\n",
      "2023-07-30 13:06:32.095188: I tensorflow/core/common_runtime/executor.cc:1197] [/device:CPU:0] (DEBUG INFO) Executor start aborting (this does not indicate an error and you can ignore this message): INVALID_ARGUMENT: You must feed a value for placeholder tensor 'gradients/split_1_grad/concat/split_1/split_dim' with dtype int32\n",
      "\t [[{{node gradients/split_1_grad/concat/split_1/split_dim}}]]\n",
      "2023-07-30 13:06:32.696987: I tensorflow/core/common_runtime/executor.cc:1197] [/device:CPU:0] (DEBUG INFO) Executor start aborting (this does not indicate an error and you can ignore this message): INVALID_ARGUMENT: You must feed a value for placeholder tensor 'gradients/split_2_grad/concat/split_2/split_dim' with dtype int32\n",
      "\t [[{{node gradients/split_2_grad/concat/split_2/split_dim}}]]\n",
      "2023-07-30 13:06:32.700341: I tensorflow/core/common_runtime/executor.cc:1197] [/device:CPU:0] (DEBUG INFO) Executor start aborting (this does not indicate an error and you can ignore this message): INVALID_ARGUMENT: You must feed a value for placeholder tensor 'gradients/split_grad/concat/split/split_dim' with dtype int32\n",
      "\t [[{{node gradients/split_grad/concat/split/split_dim}}]]\n",
      "2023-07-30 13:06:32.706032: I tensorflow/core/common_runtime/executor.cc:1197] [/device:CPU:0] (DEBUG INFO) Executor start aborting (this does not indicate an error and you can ignore this message): INVALID_ARGUMENT: You must feed a value for placeholder tensor 'gradients/split_1_grad/concat/split_1/split_dim' with dtype int32\n",
      "\t [[{{node gradients/split_1_grad/concat/split_1/split_dim}}]]\n",
      "2023-07-30 13:06:33.298495: I tensorflow/core/common_runtime/executor.cc:1197] [/device:CPU:0] (DEBUG INFO) Executor start aborting (this does not indicate an error and you can ignore this message): INVALID_ARGUMENT: You must feed a value for placeholder tensor 'gradients/split_2_grad/concat/split_2/split_dim' with dtype int32\n",
      "\t [[{{node gradients/split_2_grad/concat/split_2/split_dim}}]]\n",
      "2023-07-30 13:06:33.303947: I tensorflow/core/common_runtime/executor.cc:1197] [/device:CPU:0] (DEBUG INFO) Executor start aborting (this does not indicate an error and you can ignore this message): INVALID_ARGUMENT: You must feed a value for placeholder tensor 'gradients/split_grad/concat/split/split_dim' with dtype int32\n",
      "\t [[{{node gradients/split_grad/concat/split/split_dim}}]]\n",
      "2023-07-30 13:06:33.309458: I tensorflow/core/common_runtime/executor.cc:1197] [/device:CPU:0] (DEBUG INFO) Executor start aborting (this does not indicate an error and you can ignore this message): INVALID_ARGUMENT: You must feed a value for placeholder tensor 'gradients/split_1_grad/concat/split_1/split_dim' with dtype int32\n",
      "\t [[{{node gradients/split_1_grad/concat/split_1/split_dim}}]]\n"
     ]
    }
   ],
   "source": [
    "\n",
    "# Initialize a sequential model\n",
    "model = Sequential()\n",
    "\n",
    "# Add the first LSTM layer with 50 units, input shape, and return sequences\n",
    "model.add(LSTM(units=50, return_sequences=True, input_shape=(X_train.shape[1], 1)))\n",
    "# Add dropout to prevent overfitting\n",
    "model.add(Dropout(0.2))\n",
    "\n",
    "# Add a second LSTM layer with 50 units and return sequences\n",
    "model.add(LSTM(units=50, return_sequences=True))\n",
    "# Add dropout to prevent overfitting\n",
    "model.add(Dropout(0.2))\n",
    "\n",
    "# Add a third LSTM layer with 50 units\n",
    "model.add(LSTM(units=50))\n",
    "# Add dropout to prevent overfitting\n",
    "model.add(Dropout(0.2))\n",
    "\n",
    "# Add a dense output layer with one unit\n",
    "model.add(Dense(units=1))"
   ]
  },
  {
   "cell_type": "code",
   "execution_count": null,
   "id": "44d12e4e",
   "metadata": {},
   "outputs": [],
   "source": []
  },
  {
   "cell_type": "code",
   "execution_count": 18,
   "id": "b1d26400",
   "metadata": {},
   "outputs": [
    {
     "name": "stdout",
     "output_type": "stream",
     "text": [
      "Model: \"sequential\"\n",
      "_________________________________________________________________\n",
      " Layer (type)                Output Shape              Param #   \n",
      "=================================================================\n",
      " lstm (LSTM)                 (None, 60, 50)            10400     \n",
      "                                                                 \n",
      " dropout (Dropout)           (None, 60, 50)            0         \n",
      "                                                                 \n",
      " lstm_1 (LSTM)               (None, 60, 50)            20200     \n",
      "                                                                 \n",
      " dropout_1 (Dropout)         (None, 60, 50)            0         \n",
      "                                                                 \n",
      " lstm_2 (LSTM)               (None, 50)                20200     \n",
      "                                                                 \n",
      " dropout_2 (Dropout)         (None, 50)                0         \n",
      "                                                                 \n",
      " dense (Dense)               (None, 1)                 51        \n",
      "                                                                 \n",
      "=================================================================\n",
      "Total params: 50,851\n",
      "Trainable params: 50,851\n",
      "Non-trainable params: 0\n",
      "_________________________________________________________________\n"
     ]
    }
   ],
   "source": [
    "model.summary()\n",
    "model.compile(\n",
    "    optimizer='adam', \n",
    "    loss='mean_squared_error'\n",
    ")"
   ]
  },
  {
   "cell_type": "code",
   "execution_count": null,
   "id": "eab69cc3",
   "metadata": {},
   "outputs": [],
   "source": []
  },
  {
   "cell_type": "code",
   "execution_count": 19,
   "id": "150061aa",
   "metadata": {},
   "outputs": [
    {
     "name": "stdout",
     "output_type": "stream",
     "text": [
      "Epoch 1/25\n"
     ]
    },
    {
     "name": "stderr",
     "output_type": "stream",
     "text": [
      "2023-07-30 13:06:41.838499: I tensorflow/core/common_runtime/executor.cc:1197] [/device:CPU:0] (DEBUG INFO) Executor start aborting (this does not indicate an error and you can ignore this message): INVALID_ARGUMENT: You must feed a value for placeholder tensor 'gradients/split_2_grad/concat/split_2/split_dim' with dtype int32\n",
      "\t [[{{node gradients/split_2_grad/concat/split_2/split_dim}}]]\n",
      "2023-07-30 13:06:41.842536: I tensorflow/core/common_runtime/executor.cc:1197] [/device:CPU:0] (DEBUG INFO) Executor start aborting (this does not indicate an error and you can ignore this message): INVALID_ARGUMENT: You must feed a value for placeholder tensor 'gradients/split_grad/concat/split/split_dim' with dtype int32\n",
      "\t [[{{node gradients/split_grad/concat/split/split_dim}}]]\n",
      "2023-07-30 13:06:41.846410: I tensorflow/core/common_runtime/executor.cc:1197] [/device:CPU:0] (DEBUG INFO) Executor start aborting (this does not indicate an error and you can ignore this message): INVALID_ARGUMENT: You must feed a value for placeholder tensor 'gradients/split_1_grad/concat/split_1/split_dim' with dtype int32\n",
      "\t [[{{node gradients/split_1_grad/concat/split_1/split_dim}}]]\n",
      "2023-07-30 13:06:42.393948: I tensorflow/core/common_runtime/executor.cc:1197] [/device:CPU:0] (DEBUG INFO) Executor start aborting (this does not indicate an error and you can ignore this message): INVALID_ARGUMENT: You must feed a value for placeholder tensor 'gradients/split_2_grad/concat/split_2/split_dim' with dtype int32\n",
      "\t [[{{node gradients/split_2_grad/concat/split_2/split_dim}}]]\n",
      "2023-07-30 13:06:42.399109: I tensorflow/core/common_runtime/executor.cc:1197] [/device:CPU:0] (DEBUG INFO) Executor start aborting (this does not indicate an error and you can ignore this message): INVALID_ARGUMENT: You must feed a value for placeholder tensor 'gradients/split_grad/concat/split/split_dim' with dtype int32\n",
      "\t [[{{node gradients/split_grad/concat/split/split_dim}}]]\n",
      "2023-07-30 13:06:42.404161: I tensorflow/core/common_runtime/executor.cc:1197] [/device:CPU:0] (DEBUG INFO) Executor start aborting (this does not indicate an error and you can ignore this message): INVALID_ARGUMENT: You must feed a value for placeholder tensor 'gradients/split_1_grad/concat/split_1/split_dim' with dtype int32\n",
      "\t [[{{node gradients/split_1_grad/concat/split_1/split_dim}}]]\n",
      "2023-07-30 13:06:43.141097: I tensorflow/core/common_runtime/executor.cc:1197] [/device:CPU:0] (DEBUG INFO) Executor start aborting (this does not indicate an error and you can ignore this message): INVALID_ARGUMENT: You must feed a value for placeholder tensor 'gradients/split_2_grad/concat/split_2/split_dim' with dtype int32\n",
      "\t [[{{node gradients/split_2_grad/concat/split_2/split_dim}}]]\n",
      "2023-07-30 13:06:43.145244: I tensorflow/core/common_runtime/executor.cc:1197] [/device:CPU:0] (DEBUG INFO) Executor start aborting (this does not indicate an error and you can ignore this message): INVALID_ARGUMENT: You must feed a value for placeholder tensor 'gradients/split_grad/concat/split/split_dim' with dtype int32\n",
      "\t [[{{node gradients/split_grad/concat/split/split_dim}}]]\n",
      "2023-07-30 13:06:43.150348: I tensorflow/core/common_runtime/executor.cc:1197] [/device:CPU:0] (DEBUG INFO) Executor start aborting (this does not indicate an error and you can ignore this message): INVALID_ARGUMENT: You must feed a value for placeholder tensor 'gradients/split_1_grad/concat/split_1/split_dim' with dtype int32\n",
      "\t [[{{node gradients/split_1_grad/concat/split_1/split_dim}}]]\n",
      "2023-07-30 13:06:47.471148: I tensorflow/core/common_runtime/executor.cc:1197] [/device:CPU:0] (DEBUG INFO) Executor start aborting (this does not indicate an error and you can ignore this message): INVALID_ARGUMENT: You must feed a value for placeholder tensor 'gradients/split_2_grad/concat/split_2/split_dim' with dtype int32\n",
      "\t [[{{node gradients/split_2_grad/concat/split_2/split_dim}}]]\n",
      "2023-07-30 13:06:47.475716: I tensorflow/core/common_runtime/executor.cc:1197] [/device:CPU:0] (DEBUG INFO) Executor start aborting (this does not indicate an error and you can ignore this message): INVALID_ARGUMENT: You must feed a value for placeholder tensor 'gradients/split_grad/concat/split/split_dim' with dtype int32\n",
      "\t [[{{node gradients/split_grad/concat/split/split_dim}}]]\n",
      "2023-07-30 13:06:47.481323: I tensorflow/core/common_runtime/executor.cc:1197] [/device:CPU:0] (DEBUG INFO) Executor start aborting (this does not indicate an error and you can ignore this message): INVALID_ARGUMENT: You must feed a value for placeholder tensor 'gradients/split_1_grad/concat/split_1/split_dim' with dtype int32\n",
      "\t [[{{node gradients/split_1_grad/concat/split_1/split_dim}}]]\n",
      "2023-07-30 13:06:48.201563: I tensorflow/core/common_runtime/executor.cc:1197] [/device:CPU:0] (DEBUG INFO) Executor start aborting (this does not indicate an error and you can ignore this message): INVALID_ARGUMENT: You must feed a value for placeholder tensor 'gradients/split_2_grad/concat/split_2/split_dim' with dtype int32\n",
      "\t [[{{node gradients/split_2_grad/concat/split_2/split_dim}}]]\n",
      "2023-07-30 13:06:48.208779: I tensorflow/core/common_runtime/executor.cc:1197] [/device:CPU:0] (DEBUG INFO) Executor start aborting (this does not indicate an error and you can ignore this message): INVALID_ARGUMENT: You must feed a value for placeholder tensor 'gradients/split_grad/concat/split/split_dim' with dtype int32\n",
      "\t [[{{node gradients/split_grad/concat/split/split_dim}}]]\n",
      "2023-07-30 13:06:48.217617: I tensorflow/core/common_runtime/executor.cc:1197] [/device:CPU:0] (DEBUG INFO) Executor start aborting (this does not indicate an error and you can ignore this message): INVALID_ARGUMENT: You must feed a value for placeholder tensor 'gradients/split_1_grad/concat/split_1/split_dim' with dtype int32\n",
      "\t [[{{node gradients/split_1_grad/concat/split_1/split_dim}}]]\n",
      "2023-07-30 13:06:49.172041: I tensorflow/core/common_runtime/executor.cc:1197] [/device:CPU:0] (DEBUG INFO) Executor start aborting (this does not indicate an error and you can ignore this message): INVALID_ARGUMENT: You must feed a value for placeholder tensor 'gradients/split_2_grad/concat/split_2/split_dim' with dtype int32\n",
      "\t [[{{node gradients/split_2_grad/concat/split_2/split_dim}}]]\n",
      "2023-07-30 13:06:49.179122: I tensorflow/core/common_runtime/executor.cc:1197] [/device:CPU:0] (DEBUG INFO) Executor start aborting (this does not indicate an error and you can ignore this message): INVALID_ARGUMENT: You must feed a value for placeholder tensor 'gradients/split_grad/concat/split/split_dim' with dtype int32\n",
      "\t [[{{node gradients/split_grad/concat/split/split_dim}}]]\n",
      "2023-07-30 13:06:49.187115: I tensorflow/core/common_runtime/executor.cc:1197] [/device:CPU:0] (DEBUG INFO) Executor start aborting (this does not indicate an error and you can ignore this message): INVALID_ARGUMENT: You must feed a value for placeholder tensor 'gradients/split_1_grad/concat/split_1/split_dim' with dtype int32\n",
      "\t [[{{node gradients/split_1_grad/concat/split_1/split_dim}}]]\n"
     ]
    },
    {
     "name": "stdout",
     "output_type": "stream",
     "text": [
      "167/167 [==============================] - ETA: 0s - loss: 0.0126WARNING:tensorflow:Can save best model only with val_loss available, skipping.\n",
      "167/167 [==============================] - 33s 111ms/step - loss: 0.0126\n",
      "Epoch 2/25\n",
      "167/167 [==============================] - ETA: 0s - loss: 0.0036WARNING:tensorflow:Can save best model only with val_loss available, skipping.\n",
      "167/167 [==============================] - 19s 111ms/step - loss: 0.0036\n",
      "Epoch 3/25\n",
      "167/167 [==============================] - ETA: 0s - loss: 0.0033WARNING:tensorflow:Can save best model only with val_loss available, skipping.\n",
      "167/167 [==============================] - 18s 108ms/step - loss: 0.0033\n",
      "Epoch 4/25\n",
      "167/167 [==============================] - ETA: 0s - loss: 0.0028WARNING:tensorflow:Can save best model only with val_loss available, skipping.\n",
      "167/167 [==============================] - 19s 114ms/step - loss: 0.0028\n",
      "Epoch 5/25\n",
      "167/167 [==============================] - ETA: 0s - loss: 0.0028WARNING:tensorflow:Can save best model only with val_loss available, skipping.\n",
      "167/167 [==============================] - 18s 109ms/step - loss: 0.0028\n",
      "Epoch 6/25\n",
      "167/167 [==============================] - ETA: 0s - loss: 0.0026WARNING:tensorflow:Can save best model only with val_loss available, skipping.\n",
      "167/167 [==============================] - 20s 120ms/step - loss: 0.0026\n",
      "Epoch 7/25\n",
      "167/167 [==============================] - ETA: 0s - loss: 0.0024WARNING:tensorflow:Can save best model only with val_loss available, skipping.\n",
      "167/167 [==============================] - 18s 110ms/step - loss: 0.0024\n",
      "Epoch 8/25\n",
      "167/167 [==============================] - ETA: 0s - loss: 0.0022WARNING:tensorflow:Can save best model only with val_loss available, skipping.\n",
      "167/167 [==============================] - 19s 113ms/step - loss: 0.0022\n",
      "Epoch 9/25\n",
      "167/167 [==============================] - ETA: 0s - loss: 0.0021WARNING:tensorflow:Can save best model only with val_loss available, skipping.\n",
      "167/167 [==============================] - 19s 116ms/step - loss: 0.0021\n",
      "Epoch 10/25\n",
      "167/167 [==============================] - ETA: 0s - loss: 0.0019WARNING:tensorflow:Can save best model only with val_loss available, skipping.\n",
      "167/167 [==============================] - 18s 110ms/step - loss: 0.0019\n",
      "Epoch 11/25\n",
      "167/167 [==============================] - ETA: 0s - loss: 0.0017WARNING:tensorflow:Can save best model only with val_loss available, skipping.\n",
      "167/167 [==============================] - 19s 113ms/step - loss: 0.0017\n",
      "Epoch 12/25\n",
      "167/167 [==============================] - ETA: 0s - loss: 0.0017WARNING:tensorflow:Can save best model only with val_loss available, skipping.\n",
      "167/167 [==============================] - 17s 103ms/step - loss: 0.0017\n",
      "Epoch 13/25\n",
      "167/167 [==============================] - ETA: 0s - loss: 0.0017WARNING:tensorflow:Can save best model only with val_loss available, skipping.\n",
      "167/167 [==============================] - 17s 103ms/step - loss: 0.0017\n",
      "Epoch 14/25\n",
      "167/167 [==============================] - ETA: 0s - loss: 0.0016WARNING:tensorflow:Can save best model only with val_loss available, skipping.\n",
      "167/167 [==============================] - 17s 103ms/step - loss: 0.0016\n",
      "Epoch 15/25\n",
      "167/167 [==============================] - ETA: 0s - loss: 0.0015WARNING:tensorflow:Can save best model only with val_loss available, skipping.\n",
      "167/167 [==============================] - 17s 103ms/step - loss: 0.0015\n",
      "Epoch 16/25\n",
      "167/167 [==============================] - ETA: 0s - loss: 0.0015WARNING:tensorflow:Can save best model only with val_loss available, skipping.\n",
      "167/167 [==============================] - 17s 103ms/step - loss: 0.0015\n",
      "Epoch 17/25\n",
      "167/167 [==============================] - ETA: 0s - loss: 0.0014WARNING:tensorflow:Can save best model only with val_loss available, skipping.\n",
      "167/167 [==============================] - 17s 103ms/step - loss: 0.0014\n",
      "Epoch 18/25\n",
      "167/167 [==============================] - ETA: 0s - loss: 0.0014WARNING:tensorflow:Can save best model only with val_loss available, skipping.\n",
      "167/167 [==============================] - 17s 103ms/step - loss: 0.0014\n",
      "Epoch 19/25\n",
      "167/167 [==============================] - ETA: 0s - loss: 0.0013WARNING:tensorflow:Can save best model only with val_loss available, skipping.\n",
      "167/167 [==============================] - 17s 103ms/step - loss: 0.0013\n",
      "Epoch 20/25\n",
      "167/167 [==============================] - ETA: 0s - loss: 0.0013WARNING:tensorflow:Can save best model only with val_loss available, skipping.\n",
      "167/167 [==============================] - 17s 103ms/step - loss: 0.0013\n",
      "Epoch 21/25\n",
      "167/167 [==============================] - ETA: 0s - loss: 0.0012WARNING:tensorflow:Can save best model only with val_loss available, skipping.\n",
      "167/167 [==============================] - 17s 103ms/step - loss: 0.0012\n",
      "Epoch 22/25\n",
      "167/167 [==============================] - ETA: 0s - loss: 0.0012WARNING:tensorflow:Can save best model only with val_loss available, skipping.\n",
      "167/167 [==============================] - 17s 103ms/step - loss: 0.0012\n",
      "Epoch 23/25\n",
      "167/167 [==============================] - ETA: 0s - loss: 0.0011WARNING:tensorflow:Can save best model only with val_loss available, skipping.\n",
      "167/167 [==============================] - 17s 103ms/step - loss: 0.0011\n",
      "Epoch 24/25\n",
      "167/167 [==============================] - ETA: 0s - loss: 0.0012WARNING:tensorflow:Can save best model only with val_loss available, skipping.\n",
      "167/167 [==============================] - 17s 103ms/step - loss: 0.0012\n",
      "Epoch 25/25\n",
      "167/167 [==============================] - ETA: 0s - loss: 0.0011WARNING:tensorflow:Can save best model only with val_loss available, skipping.\n",
      "167/167 [==============================] - 17s 103ms/step - loss: 0.0011\n"
     ]
    },
    {
     "data": {
      "text/plain": [
       "<keras.callbacks.History at 0x7efed441b520>"
      ]
     },
     "execution_count": 19,
     "metadata": {},
     "output_type": "execute_result"
    }
   ],
   "source": [
    "from tensorflow.keras.callbacks import ModelCheckpoint, EarlyStopping\n",
    "\n",
    "checkpointer = ModelCheckpoint(\n",
    "    filepath = 'weights_best.hdf5', \n",
    "    verbose = 2, \n",
    "    save_best_only = True\n",
    ")\n",
    "\n",
    "model.fit(\n",
    "    X_train, \n",
    "    y_train, \n",
    "    epochs=25, \n",
    "    batch_size = 32,\n",
    "    callbacks = [checkpointer]\n",
    ")"
   ]
  },
  {
   "cell_type": "code",
   "execution_count": null,
   "id": "4d09b0cf",
   "metadata": {},
   "outputs": [],
   "source": []
  },
  {
   "cell_type": "code",
   "execution_count": 20,
   "id": "b0fa908e",
   "metadata": {},
   "outputs": [
    {
     "name": "stderr",
     "output_type": "stream",
     "text": [
      "2023-07-30 13:15:27.280980: I tensorflow/core/common_runtime/executor.cc:1197] [/device:CPU:0] (DEBUG INFO) Executor start aborting (this does not indicate an error and you can ignore this message): INVALID_ARGUMENT: You must feed a value for placeholder tensor 'gradients/split_2_grad/concat/split_2/split_dim' with dtype int32\n",
      "\t [[{{node gradients/split_2_grad/concat/split_2/split_dim}}]]\n",
      "2023-07-30 13:15:27.284909: I tensorflow/core/common_runtime/executor.cc:1197] [/device:CPU:0] (DEBUG INFO) Executor start aborting (this does not indicate an error and you can ignore this message): INVALID_ARGUMENT: You must feed a value for placeholder tensor 'gradients/split_grad/concat/split/split_dim' with dtype int32\n",
      "\t [[{{node gradients/split_grad/concat/split/split_dim}}]]\n",
      "2023-07-30 13:15:27.287833: I tensorflow/core/common_runtime/executor.cc:1197] [/device:CPU:0] (DEBUG INFO) Executor start aborting (this does not indicate an error and you can ignore this message): INVALID_ARGUMENT: You must feed a value for placeholder tensor 'gradients/split_1_grad/concat/split_1/split_dim' with dtype int32\n",
      "\t [[{{node gradients/split_1_grad/concat/split_1/split_dim}}]]\n",
      "2023-07-30 13:15:27.861256: I tensorflow/core/common_runtime/executor.cc:1197] [/device:CPU:0] (DEBUG INFO) Executor start aborting (this does not indicate an error and you can ignore this message): INVALID_ARGUMENT: You must feed a value for placeholder tensor 'gradients/split_2_grad/concat/split_2/split_dim' with dtype int32\n",
      "\t [[{{node gradients/split_2_grad/concat/split_2/split_dim}}]]\n",
      "2023-07-30 13:15:27.867912: I tensorflow/core/common_runtime/executor.cc:1197] [/device:CPU:0] (DEBUG INFO) Executor start aborting (this does not indicate an error and you can ignore this message): INVALID_ARGUMENT: You must feed a value for placeholder tensor 'gradients/split_grad/concat/split/split_dim' with dtype int32\n",
      "\t [[{{node gradients/split_grad/concat/split/split_dim}}]]\n",
      "2023-07-30 13:15:27.873423: I tensorflow/core/common_runtime/executor.cc:1197] [/device:CPU:0] (DEBUG INFO) Executor start aborting (this does not indicate an error and you can ignore this message): INVALID_ARGUMENT: You must feed a value for placeholder tensor 'gradients/split_1_grad/concat/split_1/split_dim' with dtype int32\n",
      "\t [[{{node gradients/split_1_grad/concat/split_1/split_dim}}]]\n",
      "2023-07-30 13:15:28.400549: I tensorflow/core/common_runtime/executor.cc:1197] [/device:CPU:0] (DEBUG INFO) Executor start aborting (this does not indicate an error and you can ignore this message): INVALID_ARGUMENT: You must feed a value for placeholder tensor 'gradients/split_2_grad/concat/split_2/split_dim' with dtype int32\n",
      "\t [[{{node gradients/split_2_grad/concat/split_2/split_dim}}]]\n",
      "2023-07-30 13:15:28.405588: I tensorflow/core/common_runtime/executor.cc:1197] [/device:CPU:0] (DEBUG INFO) Executor start aborting (this does not indicate an error and you can ignore this message): INVALID_ARGUMENT: You must feed a value for placeholder tensor 'gradients/split_grad/concat/split/split_dim' with dtype int32\n",
      "\t [[{{node gradients/split_grad/concat/split/split_dim}}]]\n",
      "2023-07-30 13:15:28.409610: I tensorflow/core/common_runtime/executor.cc:1197] [/device:CPU:0] (DEBUG INFO) Executor start aborting (this does not indicate an error and you can ignore this message): INVALID_ARGUMENT: You must feed a value for placeholder tensor 'gradients/split_1_grad/concat/split_1/split_dim' with dtype int32\n",
      "\t [[{{node gradients/split_1_grad/concat/split_1/split_dim}}]]\n"
     ]
    },
    {
     "name": "stdout",
     "output_type": "stream",
     "text": [
      "41/41 [==============================] - 4s 38ms/step\n"
     ]
    }
   ],
   "source": [
    "test_predict = model.predict(X_test)"
   ]
  },
  {
   "cell_type": "code",
   "execution_count": null,
   "id": "760aa34b",
   "metadata": {},
   "outputs": [],
   "source": []
  },
  {
   "cell_type": "code",
   "execution_count": 21,
   "id": "5f399f11",
   "metadata": {},
   "outputs": [],
   "source": [
    "test_predict = scaler.inverse_transform(test_predict)\n",
    "y_test = scaler.inverse_transform([y_test])"
   ]
  },
  {
   "cell_type": "code",
   "execution_count": null,
   "id": "d4784e91",
   "metadata": {},
   "outputs": [],
   "source": []
  },
  {
   "cell_type": "code",
   "execution_count": 22,
   "id": "4b7cb521",
   "metadata": {},
   "outputs": [
    {
     "data": {
      "image/png": "[encoded data removed]",
      "text/plain": [
       "<Figure size 720x432 with 1 Axes>"
      ]
     },
     "metadata": {
      "needs_background": "light"
     },
     "output_type": "display_data"
    }
   ],
   "source": [
    "plt.figure(figsize=(10,6))\n",
    "plt.plot(df.index[:len(train)+seq_length], df['Close'][:len(train)+seq_length], color='blue', label='Training data')\n",
    "plt.plot(df.index[len(train)+seq_length:-1], df['Close'][len(train)+seq_length:-1], color='green', label='Actual Stock Price')\n",
    "plt.plot(df.index[len(train)+seq_length:-1], test_predict, color='red', label='Prediction')\n",
    "plt.legend()\n",
    "plt.show()"
   ]
  },
  {
   "cell_type": "code",
   "execution_count": null,
   "id": "0ea1726c",
   "metadata": {},
   "outputs": [],
   "source": []
  },
  {
   "cell_type": "code",
   "execution_count": 23,
   "id": "90d58d66",
   "metadata": {},
   "outputs": [
    {
     "data": {
      "image/png": "[encoded data removed]",
      "text/plain": [
       "<Figure size 1008x504 with 1 Axes>"
      ]
     },
     "metadata": {
      "needs_background": "light"
     },
     "output_type": "display_data"
    }
   ],
   "source": [
    "# plot test predictions and actual values\n",
    "plt.figure(figsize=(14,7))\n",
    "plt.plot(y_test[0], label='True Test Values')\n",
    "plt.plot(test_predict, label='Test Predictions')\n",
    "plt.title('Comparison of Test Set Predictions and True Values')\n",
    "plt.xlabel('Time Step')\n",
    "plt.ylabel('Close Price')\n",
    "plt.legend()\n",
    "plt.show()"
   ]
  },
  {
   "cell_type": "code",
   "execution_count": null,
   "id": "811412f6",
   "metadata": {},
   "outputs": [],
   "source": []
  },
  {
   "cell_type": "code",
   "execution_count": 24,
   "id": "078a945e",
   "metadata": {},
   "outputs": [
    {
     "name": "stdout",
     "output_type": "stream",
     "text": [
      "3.8293048065574653\n"
     ]
    }
   ],
   "source": [
    "from sklearn.metrics import mean_squared_error\n",
    "mse = mean_squared_error(y_test[0], test_predict)\n",
    "print(mse)"
   ]
  },
  {
   "cell_type": "code",
   "execution_count": null,
   "id": "2d3d0aac",
   "metadata": {},
   "outputs": [],
   "source": []
  },
  {
   "cell_type": "code",
   "execution_count": null,
   "id": "a5657636",
   "metadata": {},
   "outputs": [],
   "source": []
  },
  {
   "cell_type": "code",
   "execution_count": null,
   "id": "d3dfc773",
   "metadata": {},
   "outputs": [],
   "source": []
  },
  {
   "cell_type": "code",
   "execution_count": null,
   "id": "ce06d0a8",
   "metadata": {},
   "outputs": [],
   "source": []
  },
  {
   "cell_type": "code",
   "execution_count": null,
   "id": "e2c5b170",
   "metadata": {},
   "outputs": [],
   "source": []
  },
  {
   "cell_type": "code",
   "execution_count": null,
   "id": "565cfd09",
   "metadata": {},
   "outputs": [],
   "source": []
  },
  {
   "cell_type": "code",
   "execution_count": null,
   "id": "8d92be56",
   "metadata": {},
   "outputs": [],
   "source": []
  }
 ],
 "metadata": {
  "kernelspec": {
   "display_name": "Python 3 (ipykernel)",
   "language": "python",
   "name": "python3"
  },
  "language_info": {
   "codemirror_mode": {
    "name": "ipython",
    "version": 3
   },
   "file_extension": ".py",
   "mimetype": "text/x-python",
   "name": "python",
   "nbconvert_exporter": "python",
   "pygments_lexer": "ipython3",
   "version": "3.9.7"
  }
 },
 "nbformat": 4,
 "nbformat_minor": 5
}
