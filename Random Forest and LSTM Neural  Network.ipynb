{
 "cells": [
  {
   "cell_type": "markdown",
   "id": "d041d8d9",
   "metadata": {},
   "source": [
    "# Stock price forecasting"
   ]
  },
  {
   "cell_type": "markdown",
   "id": "40d02037",
   "metadata": {},
   "source": [
    "# Modeling Random Forests and LSTM neural networks"
   ]
  },
  {
   "cell_type": "markdown",
   "id": "636314da",
   "metadata": {},
   "source": [
    "The purpose of this section is to train two machine learning models -Random Forests and LSTM neural network- to predict the `Close` price of our test dataset, and assess their performance. In both cases we will investigate how the size of the test set affects the model's performance. "
   ]
  },
  {
   "cell_type": "code",
   "execution_count": 1,
   "id": "1230f3ec",
   "metadata": {},
   "outputs": [],
   "source": [
    "import pandas as pd\n",
    "import matplotlib.pyplot as plt\n",
    "import numpy as np\n",
    "from sklearn.metrics import mean_squared_error"
   ]
  },
  {
   "cell_type": "markdown",
   "id": "9c44bdc2",
   "metadata": {},
   "source": [
    "## Random Forest"
   ]
  },
  {
   "cell_type": "markdown",
   "id": "b1966f35-bc13-4349-93d6-fca22b271dcf",
   "metadata": {},
   "source": [
    "Random Forests are an ensemble learning method (namely, a method that combines the predictions of multiple individual models --often called \"base models\" or \"learners\"-- to improve the overall performance) used for both classification and regression. They operate by constructing multiple decision trees during training and outputting the class that is the mode (for classification) or the mean prediction (for regression) of the individual trees.\n",
    "\n",
    "Random Forests work on the following three principles:\n",
    "\n",
    "1. Bagging: Bagging (Bootstrap Aggregating) is an ensemble technique lying at the core of Random Forests. Each tree in the forest is built on a different subset of the data (drawn with replacement), which means that the individual trees are trained on diverse samples. This diversity reduces the chances of overfitting.\n",
    "\n",
    "2. Feature Randomness: In addition to bagging, Random Forests also select a random subset of features at each split. This introduces more diversity into the tree-building process and further reduces the risk of overfitting.\n",
    "\n",
    "3. Voting/Averaging: The final prediction of the Random Forest is an average (for regression) or a majority vote (for classification) of the predictions of all the trees. This aggregation helps in smoothing out the noise and anomalies of individual trees.\n",
    "\n",
    "As generic features of Random Forests, we can mention:\n",
    "\n",
    "1. Due to the averaging nature of Random Forests, they are less likely to overfit compared to individual decision trees. Nevertheless, they can overfit noisy data if not properly tuned.\n",
    "\n",
    "2. They naturally consider nonlinearities and interactions between features.\n",
    "\n",
    "3. They can handle large dataset with higher dimensionality, though they may become computationally intensive.\n",
    "\n",
    "4. Importance Scoring: Random Forests can rank the importance of input variables.\n",
    "\n",
    "5. They are insensitive to rescaling features. The splitting criterion in decision trees is based on purity scores, such as the Gini impurity or information gain. These criteria are not affected by the scale of the data. \n",
    "\n",
    "6. Flexibility: They can handle missing values and are not sensitive to outliers.\n",
    "\n",
    "7. Parallelizable: Tree constructions can be done in parallel, making them suited for large datasets.\n",
    "\n",
    "8. Less Interpretable: While an individual decision tree can be visualized and interpreted, a Random Forest is more of a \"black box,\" making it harder to interpret how decisions are made.\n",
    "\n",
    "We can argue that some of the features above make Random Forests an attractive model for stock price forecasting, as they can handle complex non-linearities of the stock market and capture interactions betwen features, and reduce overfitting (a common issue in stock price prediction) if properly tuned. Moreover, the ensemble nature of random forests can help in reducing variance and potentially provide a more stable prediction. On the other hand, the typical non-stationary of financial time-series (meaning their statistical properties change over time) presents a challenge for random forest models, as these do not take into account the temporal structure of time series data and assume that the underlying process generating the data does not change over time. Nevertheless, it is possible to engineer lagged features (values from previous time steps) to provide some context of the temporal structure. Depending on the behaviour of the stock at hand, random forest models might be more suited for understanding relationships and factors influencing stock prices rather than for making trading decisions.\n",
    "\n",
    "\n"
   ]
  },
  {
   "cell_type": "markdown",
   "id": "b6755e9d",
   "metadata": {},
   "source": [
    "First step is to import the Random Forest Regressor model:"
   ]
  },
  {
   "cell_type": "code",
   "execution_count": 2,
   "id": "c7002862",
   "metadata": {},
   "outputs": [],
   "source": [
    "# Import the RandomForestRegressor model\n",
    "from sklearn.ensemble import RandomForestRegressor"
   ]
  },
  {
   "cell_type": "markdown",
   "id": "91929ceb-ec1e-40a9-b67b-7654b8a6297c",
   "metadata": {},
   "source": [
    "### 1. Coca-Cola stock"
   ]
  },
  {
   "cell_type": "markdown",
   "id": "31f663e1-07e2-4ccb-aad9-265ce5fcb392",
   "metadata": {},
   "source": [
    "#### Loading the data"
   ]
  },
  {
   "cell_type": "markdown",
   "id": "411ba3f4",
   "metadata": {},
   "source": [
    "We need to load the training and test features and target datasets we saved in the previous notebook. We are using the unscaled datasets as Random Forests are insensitive to scaling."
   ]
  },
  {
   "cell_type": "code",
   "execution_count": 3,
   "id": "dfd54e55",
   "metadata": {},
   "outputs": [],
   "source": [
    "# Load the X_train, y_train, X_test and y_test datasets\n",
    "\n",
    "X_train = pd.read_csv('X_train_KO.csv', parse_dates=True, index_col=0)\n",
    "y_train = pd.read_csv('y_train_KO.csv', parse_dates=True, index_col=0)\n",
    "\n",
    "X_test = pd.read_csv('X_test_KO.csv', parse_dates=True, index_col=0)\n",
    "y_test = pd.read_csv('y_test_KO.csv', parse_dates=True, index_col=0)"
   ]
  },
  {
   "cell_type": "code",
   "execution_count": 4,
   "id": "bb4e5582",
   "metadata": {},
   "outputs": [
    {
     "data": {
      "text/html": [
       "<div>\n",
       "<style scoped>\n",
       "    .dataframe tbody tr th:only-of-type {\n",
       "        vertical-align: middle;\n",
       "    }\n",
       "\n",
       "    .dataframe tbody tr th {\n",
       "        vertical-align: top;\n",
       "    }\n",
       "\n",
       "    .dataframe thead th {\n",
       "        text-align: right;\n",
       "    }\n",
       "</style>\n",
       "<table border=\"1\" class=\"dataframe\">\n",
       "  <thead>\n",
       "    <tr style=\"text-align: right;\">\n",
       "      <th></th>\n",
       "      <th>Open</th>\n",
       "      <th>High</th>\n",
       "      <th>Low</th>\n",
       "      <th>Adj Close</th>\n",
       "      <th>Volume</th>\n",
       "      <th>Reported EPS</th>\n",
       "      <th>Price Change</th>\n",
       "      <th>RSI</th>\n",
       "      <th>K</th>\n",
       "      <th>EMA12</th>\n",
       "      <th>EMA26</th>\n",
       "      <th>MACD Line</th>\n",
       "      <th>Signal Line</th>\n",
       "      <th>MACD Histogram</th>\n",
       "      <th>ROC</th>\n",
       "      <th>OBV</th>\n",
       "      <th>P/E</th>\n",
       "      <th>Day</th>\n",
       "      <th>Month</th>\n",
       "      <th>Year</th>\n",
       "    </tr>\n",
       "    <tr>\n",
       "      <th>Date</th>\n",
       "      <th></th>\n",
       "      <th></th>\n",
       "      <th></th>\n",
       "      <th></th>\n",
       "      <th></th>\n",
       "      <th></th>\n",
       "      <th></th>\n",
       "      <th></th>\n",
       "      <th></th>\n",
       "      <th></th>\n",
       "      <th></th>\n",
       "      <th></th>\n",
       "      <th></th>\n",
       "      <th></th>\n",
       "      <th></th>\n",
       "      <th></th>\n",
       "      <th></th>\n",
       "      <th></th>\n",
       "      <th></th>\n",
       "      <th></th>\n",
       "    </tr>\n",
       "  </thead>\n",
       "  <tbody>\n",
       "    <tr>\n",
       "      <th>1996-05-06</th>\n",
       "      <td>19.937500</td>\n",
       "      <td>20.218750</td>\n",
       "      <td>19.750000</td>\n",
       "      <td>10.236874</td>\n",
       "      <td>7170400</td>\n",
       "      <td>0.14</td>\n",
       "      <td>0.281250</td>\n",
       "      <td>54.166667</td>\n",
       "      <td>70.000000</td>\n",
       "      <td>20.167723</td>\n",
       "      <td>20.122550</td>\n",
       "      <td>0.045173</td>\n",
       "      <td>0.045976</td>\n",
       "      <td>-0.000803</td>\n",
       "      <td>-0.154321</td>\n",
       "      <td>-10631600</td>\n",
       "      <td>144.419643</td>\n",
       "      <td>6</td>\n",
       "      <td>5</td>\n",
       "      <td>1996</td>\n",
       "    </tr>\n",
       "    <tr>\n",
       "      <th>1996-05-07</th>\n",
       "      <td>20.218750</td>\n",
       "      <td>20.406250</td>\n",
       "      <td>20.156250</td>\n",
       "      <td>10.300159</td>\n",
       "      <td>6702800</td>\n",
       "      <td>0.14</td>\n",
       "      <td>0.125000</td>\n",
       "      <td>56.578947</td>\n",
       "      <td>83.333333</td>\n",
       "      <td>20.194804</td>\n",
       "      <td>20.138935</td>\n",
       "      <td>0.055869</td>\n",
       "      <td>0.047955</td>\n",
       "      <td>0.007914</td>\n",
       "      <td>1.244168</td>\n",
       "      <td>-3928800</td>\n",
       "      <td>145.312500</td>\n",
       "      <td>7</td>\n",
       "      <td>5</td>\n",
       "      <td>1996</td>\n",
       "    </tr>\n",
       "    <tr>\n",
       "      <th>1996-05-08</th>\n",
       "      <td>20.343750</td>\n",
       "      <td>20.687500</td>\n",
       "      <td>20.062500</td>\n",
       "      <td>10.474213</td>\n",
       "      <td>8292800</td>\n",
       "      <td>0.14</td>\n",
       "      <td>0.343750</td>\n",
       "      <td>65.853659</td>\n",
       "      <td>100.000000</td>\n",
       "      <td>20.270603</td>\n",
       "      <td>20.179569</td>\n",
       "      <td>0.091034</td>\n",
       "      <td>0.056571</td>\n",
       "      <td>0.034463</td>\n",
       "      <td>1.846154</td>\n",
       "      <td>4364000</td>\n",
       "      <td>147.767857</td>\n",
       "      <td>8</td>\n",
       "      <td>5</td>\n",
       "      <td>1996</td>\n",
       "    </tr>\n",
       "    <tr>\n",
       "      <th>1996-05-09</th>\n",
       "      <td>20.687500</td>\n",
       "      <td>20.937500</td>\n",
       "      <td>20.593750</td>\n",
       "      <td>10.474213</td>\n",
       "      <td>4820400</td>\n",
       "      <td>0.14</td>\n",
       "      <td>0.000000</td>\n",
       "      <td>71.052632</td>\n",
       "      <td>78.947368</td>\n",
       "      <td>20.334741</td>\n",
       "      <td>20.217194</td>\n",
       "      <td>0.117547</td>\n",
       "      <td>0.068766</td>\n",
       "      <td>0.048781</td>\n",
       "      <td>1.846154</td>\n",
       "      <td>4364000</td>\n",
       "      <td>147.767857</td>\n",
       "      <td>9</td>\n",
       "      <td>5</td>\n",
       "      <td>1996</td>\n",
       "    </tr>\n",
       "    <tr>\n",
       "      <th>1996-05-10</th>\n",
       "      <td>20.718750</td>\n",
       "      <td>20.968750</td>\n",
       "      <td>20.718750</td>\n",
       "      <td>10.616608</td>\n",
       "      <td>4942800</td>\n",
       "      <td>0.14</td>\n",
       "      <td>0.281250</td>\n",
       "      <td>68.571429</td>\n",
       "      <td>100.000000</td>\n",
       "      <td>20.432281</td>\n",
       "      <td>20.272865</td>\n",
       "      <td>0.159416</td>\n",
       "      <td>0.086896</td>\n",
       "      <td>0.072520</td>\n",
       "      <td>3.389831</td>\n",
       "      <td>9306800</td>\n",
       "      <td>149.776786</td>\n",
       "      <td>10</td>\n",
       "      <td>5</td>\n",
       "      <td>1996</td>\n",
       "    </tr>\n",
       "    <tr>\n",
       "      <th>...</th>\n",
       "      <td>...</td>\n",
       "      <td>...</td>\n",
       "      <td>...</td>\n",
       "      <td>...</td>\n",
       "      <td>...</td>\n",
       "      <td>...</td>\n",
       "      <td>...</td>\n",
       "      <td>...</td>\n",
       "      <td>...</td>\n",
       "      <td>...</td>\n",
       "      <td>...</td>\n",
       "      <td>...</td>\n",
       "      <td>...</td>\n",
       "      <td>...</td>\n",
       "      <td>...</td>\n",
       "      <td>...</td>\n",
       "      <td>...</td>\n",
       "      <td>...</td>\n",
       "      <td>...</td>\n",
       "      <td>...</td>\n",
       "    </tr>\n",
       "    <tr>\n",
       "      <th>2022-06-13</th>\n",
       "      <td>60.750000</td>\n",
       "      <td>62.290001</td>\n",
       "      <td>60.669998</td>\n",
       "      <td>59.126160</td>\n",
       "      <td>23064200</td>\n",
       "      <td>0.64</td>\n",
       "      <td>-0.070000</td>\n",
       "      <td>39.502762</td>\n",
       "      <td>18.965543</td>\n",
       "      <td>62.600185</td>\n",
       "      <td>63.125886</td>\n",
       "      <td>-0.525701</td>\n",
       "      <td>-0.299640</td>\n",
       "      <td>-0.226061</td>\n",
       "      <td>-3.218682</td>\n",
       "      <td>2802664700</td>\n",
       "      <td>95.843750</td>\n",
       "      <td>13</td>\n",
       "      <td>6</td>\n",
       "      <td>2022</td>\n",
       "    </tr>\n",
       "    <tr>\n",
       "      <th>2022-06-14</th>\n",
       "      <td>60.730000</td>\n",
       "      <td>60.889999</td>\n",
       "      <td>58.660000</td>\n",
       "      <td>57.504799</td>\n",
       "      <td>24620000</td>\n",
       "      <td>0.64</td>\n",
       "      <td>-2.110001</td>\n",
       "      <td>20.757061</td>\n",
       "      <td>8.850929</td>\n",
       "      <td>62.081695</td>\n",
       "      <td>62.837302</td>\n",
       "      <td>-0.755607</td>\n",
       "      <td>-0.390833</td>\n",
       "      <td>-0.364773</td>\n",
       "      <td>-6.088473</td>\n",
       "      <td>2778044700</td>\n",
       "      <td>92.546874</td>\n",
       "      <td>14</td>\n",
       "      <td>6</td>\n",
       "      <td>2022</td>\n",
       "    </tr>\n",
       "    <tr>\n",
       "      <th>2022-06-15</th>\n",
       "      <td>60.000000</td>\n",
       "      <td>60.639999</td>\n",
       "      <td>58.970001</td>\n",
       "      <td>57.931984</td>\n",
       "      <td>19684700</td>\n",
       "      <td>0.64</td>\n",
       "      <td>0.439999</td>\n",
       "      <td>24.358971</td>\n",
       "      <td>15.683207</td>\n",
       "      <td>61.710665</td>\n",
       "      <td>62.602687</td>\n",
       "      <td>-0.892022</td>\n",
       "      <td>-0.491071</td>\n",
       "      <td>-0.400951</td>\n",
       "      <td>-6.370628</td>\n",
       "      <td>2797729400</td>\n",
       "      <td>93.234372</td>\n",
       "      <td>15</td>\n",
       "      <td>6</td>\n",
       "      <td>2022</td>\n",
       "    </tr>\n",
       "    <tr>\n",
       "      <th>2022-06-16</th>\n",
       "      <td>58.639999</td>\n",
       "      <td>59.520000</td>\n",
       "      <td>58.250000</td>\n",
       "      <td>57.349461</td>\n",
       "      <td>15053800</td>\n",
       "      <td>0.64</td>\n",
       "      <td>-0.599998</td>\n",
       "      <td>20.782094</td>\n",
       "      <td>12.461998</td>\n",
       "      <td>61.304409</td>\n",
       "      <td>62.341006</td>\n",
       "      <td>-1.036597</td>\n",
       "      <td>-0.600176</td>\n",
       "      <td>-0.436421</td>\n",
       "      <td>-6.193428</td>\n",
       "      <td>2782675600</td>\n",
       "      <td>92.296875</td>\n",
       "      <td>16</td>\n",
       "      <td>6</td>\n",
       "      <td>2022</td>\n",
       "    </tr>\n",
       "    <tr>\n",
       "      <th>2022-06-17</th>\n",
       "      <td>59.700001</td>\n",
       "      <td>60.130001</td>\n",
       "      <td>59.130001</td>\n",
       "      <td>57.698975</td>\n",
       "      <td>34781900</td>\n",
       "      <td>0.64</td>\n",
       "      <td>0.360001</td>\n",
       "      <td>20.604704</td>\n",
       "      <td>19.439874</td>\n",
       "      <td>61.016038</td>\n",
       "      <td>62.125376</td>\n",
       "      <td>-1.109338</td>\n",
       "      <td>-0.702009</td>\n",
       "      <td>-0.407329</td>\n",
       "      <td>-5.471606</td>\n",
       "      <td>2817457500</td>\n",
       "      <td>92.859375</td>\n",
       "      <td>17</td>\n",
       "      <td>6</td>\n",
       "      <td>2022</td>\n",
       "    </tr>\n",
       "  </tbody>\n",
       "</table>\n",
       "<p>6576 rows × 20 columns</p>\n",
       "</div>"
      ],
      "text/plain": [
       "                 Open       High        Low  Adj Close    Volume  \\\n",
       "Date                                                               \n",
       "1996-05-06  19.937500  20.218750  19.750000  10.236874   7170400   \n",
       "1996-05-07  20.218750  20.406250  20.156250  10.300159   6702800   \n",
       "1996-05-08  20.343750  20.687500  20.062500  10.474213   8292800   \n",
       "1996-05-09  20.687500  20.937500  20.593750  10.474213   4820400   \n",
       "1996-05-10  20.718750  20.968750  20.718750  10.616608   4942800   \n",
       "...               ...        ...        ...        ...       ...   \n",
       "2022-06-13  60.750000  62.290001  60.669998  59.126160  23064200   \n",
       "2022-06-14  60.730000  60.889999  58.660000  57.504799  24620000   \n",
       "2022-06-15  60.000000  60.639999  58.970001  57.931984  19684700   \n",
       "2022-06-16  58.639999  59.520000  58.250000  57.349461  15053800   \n",
       "2022-06-17  59.700001  60.130001  59.130001  57.698975  34781900   \n",
       "\n",
       "            Reported EPS  Price Change        RSI           K      EMA12  \\\n",
       "Date                                                                       \n",
       "1996-05-06          0.14      0.281250  54.166667   70.000000  20.167723   \n",
       "1996-05-07          0.14      0.125000  56.578947   83.333333  20.194804   \n",
       "1996-05-08          0.14      0.343750  65.853659  100.000000  20.270603   \n",
       "1996-05-09          0.14      0.000000  71.052632   78.947368  20.334741   \n",
       "1996-05-10          0.14      0.281250  68.571429  100.000000  20.432281   \n",
       "...                  ...           ...        ...         ...        ...   \n",
       "2022-06-13          0.64     -0.070000  39.502762   18.965543  62.600185   \n",
       "2022-06-14          0.64     -2.110001  20.757061    8.850929  62.081695   \n",
       "2022-06-15          0.64      0.439999  24.358971   15.683207  61.710665   \n",
       "2022-06-16          0.64     -0.599998  20.782094   12.461998  61.304409   \n",
       "2022-06-17          0.64      0.360001  20.604704   19.439874  61.016038   \n",
       "\n",
       "                EMA26  MACD Line  Signal Line  MACD Histogram       ROC  \\\n",
       "Date                                                                      \n",
       "1996-05-06  20.122550   0.045173     0.045976       -0.000803 -0.154321   \n",
       "1996-05-07  20.138935   0.055869     0.047955        0.007914  1.244168   \n",
       "1996-05-08  20.179569   0.091034     0.056571        0.034463  1.846154   \n",
       "1996-05-09  20.217194   0.117547     0.068766        0.048781  1.846154   \n",
       "1996-05-10  20.272865   0.159416     0.086896        0.072520  3.389831   \n",
       "...               ...        ...          ...             ...       ...   \n",
       "2022-06-13  63.125886  -0.525701    -0.299640       -0.226061 -3.218682   \n",
       "2022-06-14  62.837302  -0.755607    -0.390833       -0.364773 -6.088473   \n",
       "2022-06-15  62.602687  -0.892022    -0.491071       -0.400951 -6.370628   \n",
       "2022-06-16  62.341006  -1.036597    -0.600176       -0.436421 -6.193428   \n",
       "2022-06-17  62.125376  -1.109338    -0.702009       -0.407329 -5.471606   \n",
       "\n",
       "                   OBV         P/E  Day  Month  Year  \n",
       "Date                                                  \n",
       "1996-05-06   -10631600  144.419643    6      5  1996  \n",
       "1996-05-07    -3928800  145.312500    7      5  1996  \n",
       "1996-05-08     4364000  147.767857    8      5  1996  \n",
       "1996-05-09     4364000  147.767857    9      5  1996  \n",
       "1996-05-10     9306800  149.776786   10      5  1996  \n",
       "...                ...         ...  ...    ...   ...  \n",
       "2022-06-13  2802664700   95.843750   13      6  2022  \n",
       "2022-06-14  2778044700   92.546874   14      6  2022  \n",
       "2022-06-15  2797729400   93.234372   15      6  2022  \n",
       "2022-06-16  2782675600   92.296875   16      6  2022  \n",
       "2022-06-17  2817457500   92.859375   17      6  2022  \n",
       "\n",
       "[6576 rows x 20 columns]"
      ]
     },
     "execution_count": 4,
     "metadata": {},
     "output_type": "execute_result"
    }
   ],
   "source": [
    "X_train"
   ]
  },
  {
   "cell_type": "markdown",
   "id": "6caf3d94-6636-424f-9549-d8b4a2a19150",
   "metadata": {},
   "source": [
    "We save the features names for future use:"
   ]
  },
  {
   "cell_type": "code",
   "execution_count": 5,
   "id": "90710d68-673b-435b-b048-7656df34ce82",
   "metadata": {},
   "outputs": [],
   "source": [
    "features = X_train.columns"
   ]
  },
  {
   "cell_type": "markdown",
   "id": "6acb458e-aed9-4405-b147-7dd05de9555e",
   "metadata": {},
   "source": [
    "#### Training the model"
   ]
  },
  {
   "cell_type": "markdown",
   "id": "7c4ce233",
   "metadata": {},
   "source": [
    "We now proceed to train our Random Forest model and make predictions on the testing dataset. We choose to use a Random Forest Regressor model with 5 trees (n_estimators=5) and set a random seed for reproducibility of our results (random_state=42)."
   ]
  },
  {
   "cell_type": "code",
   "execution_count": 6,
   "id": "7473bfe6",
   "metadata": {},
   "outputs": [],
   "source": [
    "# Initialize the random forest regressor\n",
    "rf_model = RandomForestRegressor(n_estimators=5, random_state=42, n_jobs=-1)\n",
    "\n",
    "# Fit the model on the training data\n",
    "rf_model.fit(X_train, y_train.values.ravel())\n",
    "\n",
    "# Make predictions on the testing data\n",
    "y_pred = rf_model.predict(X_test)\n"
   ]
  },
  {
   "cell_type": "markdown",
   "id": "b461b619",
   "metadata": {},
   "source": [
    "The performance of the model will be assessed by using the mean squared error (MSE):"
   ]
  },
  {
   "cell_type": "code",
   "execution_count": 7,
   "id": "7caaf56a",
   "metadata": {},
   "outputs": [
    {
     "name": "stdout",
     "output_type": "stream",
     "text": [
      "Mean Squared Error: 0.566241967822413\n"
     ]
    }
   ],
   "source": [
    "mse = mean_squared_error(y_test, y_pred)\n",
    "print(\"Mean Squared Error:\", mse)"
   ]
  },
  {
   "cell_type": "markdown",
   "id": "8acfb1f3-c87f-4a6a-b20f-5197610f1d95",
   "metadata": {},
   "source": [
    "This means that  that on average, our predictions are off by roughly 0.75 dollars from the true value, which we may consider a rather small error, especially for the reduced number of trees used."
   ]
  },
  {
   "cell_type": "markdown",
   "id": "2442c737",
   "metadata": {},
   "source": [
    "In order to compare the predicted values of the target variable and its actual values we plot the corresponding series:"
   ]
  },
  {
   "cell_type": "code",
   "execution_count": 8,
   "id": "1cb065a9-1ba0-45f8-9de5-0324b9c96b6b",
   "metadata": {},
   "outputs": [],
   "source": [
    "def plot_predictions(y_pred, y_test):\n",
    "    \"\"\"\n",
    "    Plot the predicted values against the true values.\n",
    "    \n",
    "    Parameters:\n",
    "    - y_pred: list or array-like of predicted values.\n",
    "    - y_test: list or array-like of true values.\n",
    "    \"\"\"\n",
    "    \n",
    "    # Create a range of indices for the x-axis\n",
    "    x = range(len(y_pred))\n",
    "    \n",
    "    # Plot the predicted values (y_pred) and the true values (y_test)\n",
    "    plt.plot(x, y_pred, label='Predicted')\n",
    "    plt.plot(x, y_test, label='Actual')\n",
    "    \n",
    "    # Set labels and title\n",
    "    plt.ylabel('Closing Price')\n",
    "    plt.xlabel('Time')\n",
    "    plt.title('Predicted vs Actual Closing Price')\n",
    "    \n",
    "    # Add legend\n",
    "    plt.legend()\n",
    "    \n",
    "    # Show the plot\n",
    "    plt.show()"
   ]
  },
  {
   "cell_type": "code",
   "execution_count": 9,
   "id": "c0024e9d-fdb3-4808-a680-9ec897ead0cf",
   "metadata": {},
   "outputs": [
    {
     "data": {
      "image/png": "[encoded data removed]",
      "text/plain": [
       "<Figure size 432x288 with 1 Axes>"
      ]
     },
     "metadata": {
      "needs_background": "light"
     },
     "output_type": "display_data"
    }
   ],
   "source": [
    "plot_predictions(y_pred, y_test)"
   ]
  },
  {
   "cell_type": "markdown",
   "id": "9c79dd41",
   "metadata": {},
   "source": [
    "We observe a quite good match between the predicted and actual Closing price distributions. Although the curves tend to slightly spread out from each other past around 90 timesteps, their shapes remain practically identical."
   ]
  },
  {
   "cell_type": "markdown",
   "id": "ac12a08b-7fec-4269-b8f0-264af8ea88da",
   "metadata": {},
   "source": [
    "The size of the previous test set was quite small, only 2% of the total dataset. We are interested in investigating the performance of random forests in learning larger test sets. To that end, we are going to consider different test set sizes: 10%, 15% and 20%."
   ]
  },
  {
   "cell_type": "markdown",
   "id": "3f718f36-d8df-4aff-9bb2-eb916f3c4293",
   "metadata": {},
   "source": [
    "We first need to load the whole dataset:"
   ]
  },
  {
   "cell_type": "code",
   "execution_count": 10,
   "id": "d55a2cbc-7341-43df-aeb0-a7725a44b262",
   "metadata": {},
   "outputs": [],
   "source": [
    "df_KO = pd.read_csv('df_KO_.csv', parse_dates=True, index_col=0)"
   ]
  },
  {
   "cell_type": "code",
   "execution_count": null,
   "id": "89e9152e-2e6f-49a8-989b-6b0f620e93c4",
   "metadata": {},
   "outputs": [],
   "source": []
  },
  {
   "cell_type": "code",
   "execution_count": 11,
   "id": "85984b3a-585c-4159-b4b8-fa0d73672f03",
   "metadata": {},
   "outputs": [],
   "source": [
    "def split_data(df, test_size=0.02, target='Close'):\n",
    "    '''\n",
    "    Perform train-test split with respect to time series structure.\n",
    "\n",
    "    Parameters:\n",
    "    df: DataFrame, the input pandas DataFrame.\n",
    "    test_size: float, the proportion of the dataset to include in the test split.\n",
    "    target: str, the target variable to predict. Default is 'Close'.\n",
    "\n",
    "    Returns:\n",
    "    X_train, X_test, y_train, y_test : series, split datasets.\n",
    "    '''\n",
    "\n",
    "    # Ensure df is a pandas DataFrame\n",
    "    if not isinstance(df, pd.DataFrame):\n",
    "        raise TypeError(\"Data should be a pandas DataFrame.\")\n",
    "    \n",
    "    # Calculate the index at which to split the DataFrame into training and testing data\n",
    "    split_index = int(len(df) * (1 - test_size))\n",
    "    \n",
    "    # Split the DataFrame into training and testing data\n",
    "    train_data = df.iloc[:split_index]\n",
    "    test_data = df.iloc[split_index:]\n",
    "\n",
    "    # Separate the features and the target variable in the training and testing sets\n",
    "    X_train = train_data.drop([target], axis=1)\n",
    "    y_train = train_data[target].to_frame() \n",
    "    X_test = test_data.drop([target], axis=1)\n",
    "    y_test = test_data[target].to_frame() \n",
    "\n",
    "    X_train['Day'] = X_train.index.day\n",
    "    X_train['Month'] = X_train.index.month\n",
    "    X_train['Year'] = X_train.index.year\n",
    "\n",
    "    X_test['Day'] = X_test.index.day\n",
    "    X_test['Month'] = X_test.index.month\n",
    "    X_test['Year'] = X_test.index.year\n",
    "\n",
    "    \n",
    "    return X_train, X_test, y_train, y_test\n"
   ]
  },
  {
   "cell_type": "code",
   "execution_count": null,
   "id": "4405f46b-4053-4b93-a8a2-85cbc4b9e1ed",
   "metadata": {},
   "outputs": [],
   "source": []
  },
  {
   "cell_type": "code",
   "execution_count": 12,
   "id": "573eb45b-92d1-485d-92de-52d76871227a",
   "metadata": {},
   "outputs": [
    {
     "name": "stdout",
     "output_type": "stream",
     "text": [
      "Mean Squared Error: 1.634829830013316\n"
     ]
    }
   ],
   "source": [
    "# Perform a data split with test size 3%\n",
    "X_train1, X_test1, y_train1, y_test1 = split_data(df_KO, test_size=0.03)\n",
    "\n",
    "X_train1 = X_train1[['Open','High', 'Low','Adj Close']]\n",
    "X_test1 = X_test1[['Open','High', 'Low','Adj Close']]\n",
    "\n",
    "rf_model1 = RandomForestRegressor(n_estimators=5,random_state=42, n_jobs=-1)\n",
    "\n",
    "# Fit the model on the training data\n",
    "rf_model1.fit(X_train1, y_train1.values.ravel())\n",
    "\n",
    "# Make predictions on the testing data\n",
    "y_pred = rf_model1.predict(X_test1)\n",
    "\n",
    "# Compute and print MSE\n",
    "mse = mean_squared_error(y_test1, y_pred)\n",
    "print(\"Mean Squared Error:\", mse)"
   ]
  },
  {
   "cell_type": "code",
   "execution_count": null,
   "id": "c91bd91f-5a75-495a-bc48-841d579327fc",
   "metadata": {},
   "outputs": [],
   "source": []
  },
  {
   "cell_type": "code",
   "execution_count": 13,
   "id": "17ca19f1-68d3-4be5-b754-9cae01b8c259",
   "metadata": {},
   "outputs": [
    {
     "data": {
      "image/png": "[encoded data removed]",
      "text/plain": [
       "<Figure size 432x288 with 1 Axes>"
      ]
     },
     "metadata": {
      "needs_background": "light"
     },
     "output_type": "display_data"
    }
   ],
   "source": [
    "plot_predictions(y_pred, y_test1)"
   ]
  },
  {
   "cell_type": "markdown",
   "id": "a45ba91e-ccb9-499f-a5d0-d0582d13d2be",
   "metadata": {},
   "source": [
    "We already observe a pattern that will be present for larger test set sizes: the presence of segments where the prediction flattens to a noisy horizontal line, alternating with segments where the prediction adjusts relatively well to the actual data. Changing the values of the hyperparameters does not solve this issue. "
   ]
  },
  {
   "cell_type": "code",
   "execution_count": null,
   "id": "176ed73c-dde7-4837-b2bc-9fa907695ed8",
   "metadata": {},
   "outputs": [],
   "source": []
  },
  {
   "cell_type": "code",
   "execution_count": 14,
   "id": "20580bfd-b0e6-45c5-a00f-e951e712fe94",
   "metadata": {},
   "outputs": [],
   "source": [
    "X_train2, X_test2, y_train2, y_test2 = split_data(df_KO, test_size=0.1)"
   ]
  },
  {
   "cell_type": "code",
   "execution_count": 15,
   "id": "ec0a849f-6a81-4a9b-859d-802ae0e2a5cb",
   "metadata": {},
   "outputs": [
    {
     "name": "stdout",
     "output_type": "stream",
     "text": [
      "Mean Squared Error: 5.677182937718932\n"
     ]
    }
   ],
   "source": [
    "# Fit the model on the training data\n",
    "rf_model1.fit(X_train2, y_train2.values.ravel())\n",
    "\n",
    "# Make predictions on the testing data\n",
    "y_pred = rf_model1.predict(X_test2)\n",
    "\n",
    "# Compute and print MSE\n",
    "mse = mean_squared_error(y_test2, y_pred)\n",
    "print(\"Mean Squared Error:\", mse)"
   ]
  },
  {
   "cell_type": "code",
   "execution_count": 16,
   "id": "f62fafef-f744-4686-b9e9-e280d8d10a54",
   "metadata": {},
   "outputs": [
    {
     "data": {
      "image/png": "[encoded data removed]",
      "text/plain": [
       "<Figure size 432x288 with 1 Axes>"
      ]
     },
     "metadata": {
      "needs_background": "light"
     },
     "output_type": "display_data"
    }
   ],
   "source": [
    "plot_predictions(y_pred, y_test2)"
   ]
  },
  {
   "cell_type": "code",
   "execution_count": null,
   "id": "1aef7c20-1a7f-48bb-904c-7427717faf7c",
   "metadata": {},
   "outputs": [],
   "source": []
  },
  {
   "cell_type": "code",
   "execution_count": null,
   "id": "527863a8-3b0a-4357-9146-5f5646b97075",
   "metadata": {},
   "outputs": [],
   "source": []
  },
  {
   "cell_type": "code",
   "execution_count": 17,
   "id": "bbbf420c-67c9-439d-bc56-d5190984d427",
   "metadata": {},
   "outputs": [],
   "source": [
    "X_train3, X_test3, y_train3, y_test3 = split_data(df_KO, test_size=0.15)"
   ]
  },
  {
   "cell_type": "code",
   "execution_count": 18,
   "id": "2dbe7b55-828a-470b-b7df-f162370b18fc",
   "metadata": {},
   "outputs": [
    {
     "name": "stdout",
     "output_type": "stream",
     "text": [
      "Mean Squared Error: 45.256783625915396\n"
     ]
    }
   ],
   "source": [
    "# Fit the model on the training data\n",
    "rf_model1.fit(X_train3, y_train3.values.ravel())\n",
    "\n",
    "# Make predictions on the testing data\n",
    "y_pred = rf_model1.predict(X_test3)\n",
    "\n",
    "# Compute and print MSE\n",
    "mse = mean_squared_error(y_test3, y_pred)\n",
    "print(\"Mean Squared Error:\", mse)"
   ]
  },
  {
   "cell_type": "code",
   "execution_count": 19,
   "id": "c01d3458-7169-4d8f-be5e-cb95a4b2b1d9",
   "metadata": {},
   "outputs": [
    {
     "data": {
      "image/png": "[encoded data removed]",
      "text/plain": [
       "<Figure size 432x288 with 1 Axes>"
      ]
     },
     "metadata": {
      "needs_background": "light"
     },
     "output_type": "display_data"
    }
   ],
   "source": [
    "plot_predictions(y_pred, y_test3)"
   ]
  },
  {
   "cell_type": "markdown",
   "id": "e4bae45a-c3dd-4903-8ba0-6d6bd5b7a8bb",
   "metadata": {},
   "source": [
    "In general, the larger the size of the test set, the larger is the MSE due to larger regions having a constant prediction. From now on we restricti ourselves to the case of test set size 2%: this might seem small a priori, but it covers around 140 days of prediction, which is satisfactory in the context of short-term market forecasting."
   ]
  },
  {
   "cell_type": "markdown",
   "id": "a2b0e169-e093-4633-b1ba-596a280f48d2",
   "metadata": {},
   "source": [
    "#### Variable importance"
   ]
  },
  {
   "cell_type": "markdown",
   "id": "fe4347a6-022b-4a31-95db-fa864f437b38",
   "metadata": {},
   "source": [
    "We shall now perform a feature importance analysis, using the `feature_importances_` attribute, which provides a score for each feature of the data, with higher scores indicating more importance."
   ]
  },
  {
   "cell_type": "code",
   "execution_count": 20,
   "id": "ef563db2-f133-4f0d-bc30-b144695c347e",
   "metadata": {},
   "outputs": [
    {
     "data": {
      "image/png": "[encoded data removed]",
      "text/plain": [
       "<Figure size 720x432 with 1 Axes>"
      ]
     },
     "metadata": {
      "needs_background": "light"
     },
     "output_type": "display_data"
    }
   ],
   "source": [
    "importances = rf_model.feature_importances_\n",
    "\n",
    "sorted_idx = importances.argsort()[::-1]\n",
    "\n",
    "plt.figure(figsize=(10,6))\n",
    "plt.bar(features, importances[sorted_idx])\n",
    "plt.xlabel('Features')\n",
    "plt.ylabel('Importance')\n",
    "plt.title('Feature Importance from Random Forest')\n",
    "plt.xticks(rotation=45)\n",
    "plt.show()"
   ]
  },
  {
   "cell_type": "markdown",
   "id": "da5313fc-a97d-4c87-82f4-4702b789dcad",
   "metadata": {},
   "source": [
    "It turns out that the feature importance in this model is essentially split between the `Open` and `High` features, with respective importances around 0.75 and 0.25. We know that additiona features can add extra variance and worsen the performance of a random forest, as well as producing a dilution of important features at each split in a tree, which can make the model less accurate. It is worth then to check if there is a subset of features that minimizes the MSE.\n",
    "\n"
   ]
  },
  {
   "cell_type": "markdown",
   "id": "dcb0cc68-8102-4f73-a90d-d8c1a0d79196",
   "metadata": {},
   "source": [
    "In this case, we have checked that for `test_size=0.02` the minimal subset of features is composed by `Open`, `High` and `Low`. "
   ]
  },
  {
   "cell_type": "code",
   "execution_count": 21,
   "id": "87205ead-1949-4617-94e7-4f2742fbfb7b",
   "metadata": {},
   "outputs": [
    {
     "name": "stdout",
     "output_type": "stream",
     "text": [
      "Mean Squared Error: 0.1661110703294957\n"
     ]
    }
   ],
   "source": [
    "X_train = X_train[['Open','High', 'Low']]\n",
    "X_test = X_test[['Open','High', 'Low']]\n",
    "\n",
    "# Fit the model on the training data\n",
    "rf_model.fit(X_train, y_train.values.ravel())\n",
    "\n",
    "# Make predictions on the testing data\n",
    "y_pred = rf_model.predict(X_test)\n",
    "\n",
    "mse = mean_squared_error(y_test, y_pred)\n",
    "print(\"Mean Squared Error:\", mse)"
   ]
  },
  {
   "cell_type": "markdown",
   "id": "1f1421cf-afa3-4e18-b44a-96bfdba64d80",
   "metadata": {},
   "source": [
    "Note that the MSE is reduced from 0.566 to 0.166 (around 70% reduction) only by selecting the most important features.\n",
    "\n",
    "On the other hand, the presence of plateaus for higher values of the test set size is not solved by restricting the training set to the most important features."
   ]
  },
  {
   "cell_type": "markdown",
   "id": "f388026e-ff39-40fd-ae33-06824616696b",
   "metadata": {},
   "source": [
    "From now on we focus on the model trained with only `Open`, `High` and `Low` features. "
   ]
  },
  {
   "cell_type": "markdown",
   "id": "3ba6dc13-13dc-4a89-a96b-87751198edf4",
   "metadata": {},
   "source": [
    "#### Cross-validaton"
   ]
  },
  {
   "cell_type": "markdown",
   "id": "81c8e269-3425-4d65-8d5a-08e7c2c213fa",
   "metadata": {},
   "source": [
    "It is time now to perform model validation using cross-validation. \n",
    "\n",
    "When dealing with time series data, you can't use traditional k-fold cross-validation because it shuffles the data, which can result in data leakage: information from the future might be used to predict the past. Instead, you use time series cross-validation where data is split in a way that respects the order of the data. This is achieved using the `tscv.split(X)` method. Essentially, it is used to obtain indices for train/test splits suitable for time series data, ensuring that the chronological order of the data is maintained and preventing any information leakage."
   ]
  },
  {
   "cell_type": "code",
   "execution_count": 22,
   "id": "74bf9384-5e67-4aed-948c-9fed936dd1bf",
   "metadata": {},
   "outputs": [
    {
     "name": "stdout",
     "output_type": "stream",
     "text": [
      "Mean MSE: 0.1329 (+/- 0.0029)\n"
     ]
    }
   ],
   "source": [
    "from sklearn.model_selection import TimeSeriesSplit\n",
    "\n",
    "# Number of splits. For example, if n_splits=5, it will produce 5 train/test sets.\n",
    "tscv = TimeSeriesSplit(n_splits=5)\n",
    "\n",
    "# Initialize the Random Forest Regressor\n",
    "model = RandomForestRegressor()\n",
    "\n",
    "# Define a list for the MSE scores\n",
    "mse_scores = []\n",
    "\n",
    "# Perform the time series cross-validation\n",
    "for train_index, test_index in tscv.split(X_train):\n",
    "    X_train_cv, X_test_cv = X_train.iloc[train_index], X_train.iloc[test_index]\n",
    "    y_train_cv, y_test_cv = y_train.iloc[train_index], y_train.iloc[test_index]\n",
    "\n",
    "    \n",
    "    model.fit(X_train, y_train.values.ravel())\n",
    "    y_pred = model.predict(X_test)\n",
    "    \n",
    "    mse = mean_squared_error(y_test, y_pred)\n",
    "    mse_scores.append(mse)\n",
    "\n",
    "# Calculate the mean and standard deviation of MSE across folds\n",
    "mean_mse = np.mean(mse_scores)\n",
    "std_mse = np.std(mse_scores)\n",
    "\n",
    "print(f\"Mean MSE: {mean_mse:.4f} (+/- {std_mse:.4f})\")\n"
   ]
  },
  {
   "cell_type": "code",
   "execution_count": null,
   "id": "c00adcb3-eafe-45dd-be37-7ca11646cf3c",
   "metadata": {},
   "outputs": [],
   "source": []
  },
  {
   "cell_type": "markdown",
   "id": "1e0cdcbd-4c96-44cf-b6d2-04006f57966d",
   "metadata": {},
   "source": [
    "The mean MSE obtained in the cross-validation process is very similar to the MSE obtained in our test set, with a very small standard deviation. This gives us confidence that the model is showing consistent performance across different subsets of the training data (as observed during cross-validation) and on unseen data (test set). This is a good indication that the model is not overfitting to specific portions of the training data."
   ]
  },
  {
   "cell_type": "markdown",
   "id": "4490201a-c0f0-4152-83f4-e5a8a082fcfc",
   "metadata": {},
   "source": [
    "#### Hyperparameter tuning"
   ]
  },
  {
   "cell_type": "markdown",
   "id": "4e6fa3c2-3920-45a9-ba20-b373506b914f",
   "metadata": {},
   "source": [
    "Although our previous model performs quite well on the test set with a small MSE, we can still further adjust the hyperparameters to check if a better performance is possible. We should then weight how much the MSE improves versus how complicated the model gets. \n",
    "\n",
    "For this purpose, we will use `RandomizedSearchCV`. Unlike `GridSearchCV`, which evaluates the model for every combination of hyperparameters provided, `RandomizedSearchCV` randomly selects a subset of hyperparameter combinations. The number of combinations to try is specified by the `n_iter` parameter. Here we consider 100 random combinations of hyperparameter values and select the one among these that has a minimal MSE. We then check whether this MSE is less than the one of the model with the hyperparameter values previously used."
   ]
  },
  {
   "cell_type": "code",
   "execution_count": null,
   "id": "0a31061d-ae61-4c61-849d-334516fc0e00",
   "metadata": {},
   "outputs": [],
   "source": [
    "\n",
    "\n"
   ]
  },
  {
   "cell_type": "code",
   "execution_count": 23,
   "id": "6f829ddd-4178-45fa-98d1-90aa62e4e278",
   "metadata": {},
   "outputs": [
    {
     "name": "stdout",
     "output_type": "stream",
     "text": [
      "Fitting 5 folds for each of 100 candidates, totalling 500 fits\n",
      "{'n_estimators': 63, 'min_samples_split': 8, 'min_samples_leaf': 3, 'max_features': 'sqrt', 'max_depth': 9, 'bootstrap': True}\n"
     ]
    }
   ],
   "source": [
    "from sklearn.model_selection import RandomizedSearchCV\n",
    "\n",
    "# Define the parameter grid\n",
    "param_dist = {\n",
    "    'n_estimators': np.arange(3, 100),\n",
    "    'max_features': ['auto', 'sqrt', 'log2'],\n",
    "    'max_depth': [None] + list(np.arange(1, 30)),\n",
    "    'min_samples_split': np.arange(2, 50),\n",
    "    'min_samples_leaf': np.arange(1, 50),\n",
    "    'bootstrap': [True, False]\n",
    "}\n",
    "\n",
    "# Initialize RandomForestRegressor instance\n",
    "rf = RandomForestRegressor()\n",
    "\n",
    "# Perform RandomizedSearchCV\n",
    "random_search = RandomizedSearchCV(\n",
    "    rf, param_distributions=param_dist, n_iter=100, \n",
    "    scoring='neg_mean_squared_error', cv=tscv, \n",
    "    verbose=1, n_jobs=-1, random_state=42\n",
    ")\n",
    "\n",
    "# Fit the model\n",
    "random_search.fit(X_train, y_train.values.ravel())\n",
    "\n",
    "# Print the best parameters\n",
    "print(random_search.best_params_)\n"
   ]
  },
  {
   "cell_type": "code",
   "execution_count": 24,
   "id": "0a208ed9-e113-477a-abf5-7ff52d4e2b6a",
   "metadata": {},
   "outputs": [],
   "source": [
    "# Initialize the random forest regressor\n",
    "rf_model = RandomForestRegressor(n_estimators=63, min_samples_split=8, min_samples_leaf=3, max_features='sqrt', max_depth=9, bootstrap=True, random_state=42, n_jobs=-1)\n",
    "\n",
    "# Fit the model on the training data\n",
    "rf_model.fit(X_train, y_train.values.ravel())\n",
    "\n",
    "# Make predictions on the testing data\n",
    "y_pred = rf_model.predict(X_test)\n"
   ]
  },
  {
   "cell_type": "code",
   "execution_count": 25,
   "id": "7e7d4957-953f-4835-842c-6f8744a69aed",
   "metadata": {},
   "outputs": [
    {
     "name": "stdout",
     "output_type": "stream",
     "text": [
      "Mean Squared Error: 0.15678970258562255\n"
     ]
    }
   ],
   "source": [
    "from sklearn.metrics import mean_squared_error\n",
    "\n",
    "mse = mean_squared_error(y_test, y_pred)\n",
    "print(\"Mean Squared Error:\", mse)"
   ]
  },
  {
   "cell_type": "markdown",
   "id": "84c60a5c-18c5-4a0d-afb8-29fe3029e587",
   "metadata": {},
   "source": [
    "We have found a different choice of hyperparameters that slightly reduces the MSE from 0.166 to 0.156. Nevertheless, the new model is way more complicated: the number of trees has grown from 5 to 63, and other hyperparameters have also been increased.  It does not seem reasonable to complicate our model so much for such a little improvement in MSE. \n",
    "\n",
    "We should keep in mind that RandomSearchCV does not sweep over all the parameter grid we have defined, it only consider random points of the grid. So it is still possible that some choice of parameters reduces the MSE still rendering the model simple. In any case, an MSE of 0.166 is quite satisfactory, especially given the results of the cross-validation study."
   ]
  },
  {
   "cell_type": "markdown",
   "id": "9aa2a1e9",
   "metadata": {},
   "source": [
    "### 2. Tesla stock"
   ]
  },
  {
   "cell_type": "markdown",
   "id": "0e5ca410-d8ea-41ae-ac3e-1cc383374f44",
   "metadata": {},
   "source": [
    "#### Loading the data"
   ]
  },
  {
   "cell_type": "code",
   "execution_count": 26,
   "id": "00ef09e8-d28a-4601-b6e5-73517fb191fd",
   "metadata": {},
   "outputs": [],
   "source": [
    "# Load the X_train, y_train, X_test and y_test datasets\n",
    "\n",
    "X_train = pd.read_csv('X_train_TSLA.csv', parse_dates=True, index_col=0)\n",
    "y_train = pd.read_csv('y_train_TSLA.csv', parse_dates=True, index_col=0)\n",
    "\n",
    "X_test = pd.read_csv('X_test_TSLA.csv', parse_dates=True, index_col=0)\n",
    "y_test = pd.read_csv('y_test_TSLA.csv', parse_dates=True, index_col=0)"
   ]
  },
  {
   "cell_type": "code",
   "execution_count": 27,
   "id": "6be286b1-5ceb-46e6-be1b-84e1c56c2cd7",
   "metadata": {},
   "outputs": [
    {
     "data": {
      "text/html": [
       "<div>\n",
       "<style scoped>\n",
       "    .dataframe tbody tr th:only-of-type {\n",
       "        vertical-align: middle;\n",
       "    }\n",
       "\n",
       "    .dataframe tbody tr th {\n",
       "        vertical-align: top;\n",
       "    }\n",
       "\n",
       "    .dataframe thead th {\n",
       "        text-align: right;\n",
       "    }\n",
       "</style>\n",
       "<table border=\"1\" class=\"dataframe\">\n",
       "  <thead>\n",
       "    <tr style=\"text-align: right;\">\n",
       "      <th></th>\n",
       "      <th>Open</th>\n",
       "      <th>High</th>\n",
       "      <th>Low</th>\n",
       "      <th>Adj Close</th>\n",
       "      <th>Volume</th>\n",
       "      <th>Reported EPS</th>\n",
       "      <th>Price Change</th>\n",
       "      <th>RSI</th>\n",
       "      <th>K</th>\n",
       "      <th>EMA12</th>\n",
       "      <th>EMA26</th>\n",
       "      <th>MACD Line</th>\n",
       "      <th>Signal Line</th>\n",
       "      <th>MACD Histogram</th>\n",
       "      <th>ROC</th>\n",
       "      <th>OBV</th>\n",
       "      <th>P/E</th>\n",
       "      <th>Day</th>\n",
       "      <th>Month</th>\n",
       "      <th>Year</th>\n",
       "    </tr>\n",
       "    <tr>\n",
       "      <th>Date</th>\n",
       "      <th></th>\n",
       "      <th></th>\n",
       "      <th></th>\n",
       "      <th></th>\n",
       "      <th></th>\n",
       "      <th></th>\n",
       "      <th></th>\n",
       "      <th></th>\n",
       "      <th></th>\n",
       "      <th></th>\n",
       "      <th></th>\n",
       "      <th></th>\n",
       "      <th></th>\n",
       "      <th></th>\n",
       "      <th></th>\n",
       "      <th></th>\n",
       "      <th></th>\n",
       "      <th></th>\n",
       "      <th></th>\n",
       "      <th></th>\n",
       "    </tr>\n",
       "  </thead>\n",
       "  <tbody>\n",
       "    <tr>\n",
       "      <th>2010-08-24</th>\n",
       "      <td>1.283333</td>\n",
       "      <td>1.314000</td>\n",
       "      <td>1.263333</td>\n",
       "      <td>1.280000</td>\n",
       "      <td>10096500</td>\n",
       "      <td>-0.0271</td>\n",
       "      <td>-0.062000</td>\n",
       "      <td>41.184842</td>\n",
       "      <td>43.509628</td>\n",
       "      <td>1.281007</td>\n",
       "      <td>1.301034</td>\n",
       "      <td>-0.020027</td>\n",
       "      <td>-0.025088</td>\n",
       "      <td>0.005060</td>\n",
       "      <td>7.262595</td>\n",
       "      <td>-6639000</td>\n",
       "      <td>-47.232471</td>\n",
       "      <td>24</td>\n",
       "      <td>8</td>\n",
       "      <td>2010</td>\n",
       "    </tr>\n",
       "    <tr>\n",
       "      <th>2010-08-25</th>\n",
       "      <td>1.277333</td>\n",
       "      <td>1.332000</td>\n",
       "      <td>1.237333</td>\n",
       "      <td>1.326667</td>\n",
       "      <td>7549500</td>\n",
       "      <td>-0.0271</td>\n",
       "      <td>0.046667</td>\n",
       "      <td>46.469911</td>\n",
       "      <td>83.666960</td>\n",
       "      <td>1.288032</td>\n",
       "      <td>1.302933</td>\n",
       "      <td>-0.014901</td>\n",
       "      <td>-0.023050</td>\n",
       "      <td>0.008149</td>\n",
       "      <td>13.068233</td>\n",
       "      <td>910500</td>\n",
       "      <td>-48.954500</td>\n",
       "      <td>25</td>\n",
       "      <td>8</td>\n",
       "      <td>2010</td>\n",
       "    </tr>\n",
       "    <tr>\n",
       "      <th>2010-08-26</th>\n",
       "      <td>1.326000</td>\n",
       "      <td>1.351333</td>\n",
       "      <td>1.306667</td>\n",
       "      <td>1.316667</td>\n",
       "      <td>6507000</td>\n",
       "      <td>-0.0271</td>\n",
       "      <td>-0.010000</td>\n",
       "      <td>51.129968</td>\n",
       "      <td>78.666966</td>\n",
       "      <td>1.292437</td>\n",
       "      <td>1.303950</td>\n",
       "      <td>-0.011513</td>\n",
       "      <td>-0.020743</td>\n",
       "      <td>0.009230</td>\n",
       "      <td>7.805728</td>\n",
       "      <td>-5596500</td>\n",
       "      <td>-48.585497</td>\n",
       "      <td>26</td>\n",
       "      <td>8</td>\n",
       "      <td>2010</td>\n",
       "    </tr>\n",
       "    <tr>\n",
       "      <th>2010-08-27</th>\n",
       "      <td>1.316667</td>\n",
       "      <td>1.324667</td>\n",
       "      <td>1.300000</td>\n",
       "      <td>1.313333</td>\n",
       "      <td>5694000</td>\n",
       "      <td>-0.0271</td>\n",
       "      <td>-0.003334</td>\n",
       "      <td>50.702179</td>\n",
       "      <td>77.000004</td>\n",
       "      <td>1.295652</td>\n",
       "      <td>1.304645</td>\n",
       "      <td>-0.008994</td>\n",
       "      <td>-0.018393</td>\n",
       "      <td>0.009400</td>\n",
       "      <td>4.898807</td>\n",
       "      <td>-11290500</td>\n",
       "      <td>-48.462474</td>\n",
       "      <td>27</td>\n",
       "      <td>8</td>\n",
       "      <td>2010</td>\n",
       "    </tr>\n",
       "    <tr>\n",
       "      <th>2010-08-30</th>\n",
       "      <td>1.313333</td>\n",
       "      <td>1.346000</td>\n",
       "      <td>1.307333</td>\n",
       "      <td>1.324667</td>\n",
       "      <td>10992000</td>\n",
       "      <td>-0.0271</td>\n",
       "      <td>0.011334</td>\n",
       "      <td>56.249947</td>\n",
       "      <td>82.666973</td>\n",
       "      <td>1.300116</td>\n",
       "      <td>1.306129</td>\n",
       "      <td>-0.006013</td>\n",
       "      <td>-0.015917</td>\n",
       "      <td>0.009904</td>\n",
       "      <td>3.759788</td>\n",
       "      <td>-298500</td>\n",
       "      <td>-48.880700</td>\n",
       "      <td>30</td>\n",
       "      <td>8</td>\n",
       "      <td>2010</td>\n",
       "    </tr>\n",
       "    <tr>\n",
       "      <th>...</th>\n",
       "      <td>...</td>\n",
       "      <td>...</td>\n",
       "      <td>...</td>\n",
       "      <td>...</td>\n",
       "      <td>...</td>\n",
       "      <td>...</td>\n",
       "      <td>...</td>\n",
       "      <td>...</td>\n",
       "      <td>...</td>\n",
       "      <td>...</td>\n",
       "      <td>...</td>\n",
       "      <td>...</td>\n",
       "      <td>...</td>\n",
       "      <td>...</td>\n",
       "      <td>...</td>\n",
       "      <td>...</td>\n",
       "      <td>...</td>\n",
       "      <td>...</td>\n",
       "      <td>...</td>\n",
       "      <td>...</td>\n",
       "    </tr>\n",
       "    <tr>\n",
       "      <th>2022-09-26</th>\n",
       "      <td>271.829987</td>\n",
       "      <td>284.089996</td>\n",
       "      <td>270.309998</td>\n",
       "      <td>276.010010</td>\n",
       "      <td>58076900</td>\n",
       "      <td>0.7600</td>\n",
       "      <td>0.680023</td>\n",
       "      <td>50.841713</td>\n",
       "      <td>13.106492</td>\n",
       "      <td>291.359990</td>\n",
       "      <td>290.652674</td>\n",
       "      <td>0.707316</td>\n",
       "      <td>3.359731</td>\n",
       "      <td>-2.652415</td>\n",
       "      <td>-5.518089</td>\n",
       "      <td>17552375800</td>\n",
       "      <td>363.171065</td>\n",
       "      <td>26</td>\n",
       "      <td>9</td>\n",
       "      <td>2022</td>\n",
       "    </tr>\n",
       "    <tr>\n",
       "      <th>2022-09-27</th>\n",
       "      <td>283.839996</td>\n",
       "      <td>288.670013</td>\n",
       "      <td>277.510010</td>\n",
       "      <td>282.940002</td>\n",
       "      <td>61925200</td>\n",
       "      <td>0.7600</td>\n",
       "      <td>6.929993</td>\n",
       "      <td>49.587400</td>\n",
       "      <td>29.041177</td>\n",
       "      <td>290.064607</td>\n",
       "      <td>290.081365</td>\n",
       "      <td>-0.016758</td>\n",
       "      <td>2.684433</td>\n",
       "      <td>-2.701191</td>\n",
       "      <td>-6.500110</td>\n",
       "      <td>17614301000</td>\n",
       "      <td>372.289477</td>\n",
       "      <td>27</td>\n",
       "      <td>9</td>\n",
       "      <td>2022</td>\n",
       "    </tr>\n",
       "    <tr>\n",
       "      <th>2022-09-28</th>\n",
       "      <td>283.079987</td>\n",
       "      <td>289.000000</td>\n",
       "      <td>277.570007</td>\n",
       "      <td>287.809998</td>\n",
       "      <td>54664800</td>\n",
       "      <td>0.7600</td>\n",
       "      <td>4.869995</td>\n",
       "      <td>49.206864</td>\n",
       "      <td>40.239144</td>\n",
       "      <td>289.717744</td>\n",
       "      <td>289.913116</td>\n",
       "      <td>-0.195371</td>\n",
       "      <td>2.108472</td>\n",
       "      <td>-2.303844</td>\n",
       "      <td>-5.247737</td>\n",
       "      <td>17668965800</td>\n",
       "      <td>378.697365</td>\n",
       "      <td>28</td>\n",
       "      <td>9</td>\n",
       "      <td>2022</td>\n",
       "    </tr>\n",
       "    <tr>\n",
       "      <th>2022-09-29</th>\n",
       "      <td>282.760010</td>\n",
       "      <td>283.649994</td>\n",
       "      <td>265.779999</td>\n",
       "      <td>268.209991</td>\n",
       "      <td>77620600</td>\n",
       "      <td>0.7600</td>\n",
       "      <td>-19.600006</td>\n",
       "      <td>34.357300</td>\n",
       "      <td>5.060377</td>\n",
       "      <td>286.408859</td>\n",
       "      <td>288.305477</td>\n",
       "      <td>-1.896618</td>\n",
       "      <td>1.307454</td>\n",
       "      <td>-3.204072</td>\n",
       "      <td>-11.583983</td>\n",
       "      <td>17591345200</td>\n",
       "      <td>352.907883</td>\n",
       "      <td>29</td>\n",
       "      <td>9</td>\n",
       "      <td>2022</td>\n",
       "    </tr>\n",
       "    <tr>\n",
       "      <th>2022-09-30</th>\n",
       "      <td>266.149994</td>\n",
       "      <td>275.570007</td>\n",
       "      <td>262.470001</td>\n",
       "      <td>265.250000</td>\n",
       "      <td>67726600</td>\n",
       "      <td>0.7600</td>\n",
       "      <td>-2.959991</td>\n",
       "      <td>30.179131</td>\n",
       "      <td>5.415935</td>\n",
       "      <td>283.153650</td>\n",
       "      <td>286.597664</td>\n",
       "      <td>-3.444014</td>\n",
       "      <td>0.357161</td>\n",
       "      <td>-3.801174</td>\n",
       "      <td>-14.178020</td>\n",
       "      <td>17523618600</td>\n",
       "      <td>349.013158</td>\n",
       "      <td>30</td>\n",
       "      <td>9</td>\n",
       "      <td>2022</td>\n",
       "    </tr>\n",
       "  </tbody>\n",
       "</table>\n",
       "<p>3048 rows × 20 columns</p>\n",
       "</div>"
      ],
      "text/plain": [
       "                  Open        High         Low   Adj Close    Volume  \\\n",
       "Date                                                                   \n",
       "2010-08-24    1.283333    1.314000    1.263333    1.280000  10096500   \n",
       "2010-08-25    1.277333    1.332000    1.237333    1.326667   7549500   \n",
       "2010-08-26    1.326000    1.351333    1.306667    1.316667   6507000   \n",
       "2010-08-27    1.316667    1.324667    1.300000    1.313333   5694000   \n",
       "2010-08-30    1.313333    1.346000    1.307333    1.324667  10992000   \n",
       "...                ...         ...         ...         ...       ...   \n",
       "2022-09-26  271.829987  284.089996  270.309998  276.010010  58076900   \n",
       "2022-09-27  283.839996  288.670013  277.510010  282.940002  61925200   \n",
       "2022-09-28  283.079987  289.000000  277.570007  287.809998  54664800   \n",
       "2022-09-29  282.760010  283.649994  265.779999  268.209991  77620600   \n",
       "2022-09-30  266.149994  275.570007  262.470001  265.250000  67726600   \n",
       "\n",
       "            Reported EPS  Price Change        RSI          K       EMA12  \\\n",
       "Date                                                                       \n",
       "2010-08-24       -0.0271     -0.062000  41.184842  43.509628    1.281007   \n",
       "2010-08-25       -0.0271      0.046667  46.469911  83.666960    1.288032   \n",
       "2010-08-26       -0.0271     -0.010000  51.129968  78.666966    1.292437   \n",
       "2010-08-27       -0.0271     -0.003334  50.702179  77.000004    1.295652   \n",
       "2010-08-30       -0.0271      0.011334  56.249947  82.666973    1.300116   \n",
       "...                  ...           ...        ...        ...         ...   \n",
       "2022-09-26        0.7600      0.680023  50.841713  13.106492  291.359990   \n",
       "2022-09-27        0.7600      6.929993  49.587400  29.041177  290.064607   \n",
       "2022-09-28        0.7600      4.869995  49.206864  40.239144  289.717744   \n",
       "2022-09-29        0.7600    -19.600006  34.357300   5.060377  286.408859   \n",
       "2022-09-30        0.7600     -2.959991  30.179131   5.415935  283.153650   \n",
       "\n",
       "                 EMA26  MACD Line  Signal Line  MACD Histogram        ROC  \\\n",
       "Date                                                                        \n",
       "2010-08-24    1.301034  -0.020027    -0.025088        0.005060   7.262595   \n",
       "2010-08-25    1.302933  -0.014901    -0.023050        0.008149  13.068233   \n",
       "2010-08-26    1.303950  -0.011513    -0.020743        0.009230   7.805728   \n",
       "2010-08-27    1.304645  -0.008994    -0.018393        0.009400   4.898807   \n",
       "2010-08-30    1.306129  -0.006013    -0.015917        0.009904   3.759788   \n",
       "...                ...        ...          ...             ...        ...   \n",
       "2022-09-26  290.652674   0.707316     3.359731       -2.652415  -5.518089   \n",
       "2022-09-27  290.081365  -0.016758     2.684433       -2.701191  -6.500110   \n",
       "2022-09-28  289.913116  -0.195371     2.108472       -2.303844  -5.247737   \n",
       "2022-09-29  288.305477  -1.896618     1.307454       -3.204072 -11.583983   \n",
       "2022-09-30  286.597664  -3.444014     0.357161       -3.801174 -14.178020   \n",
       "\n",
       "                    OBV         P/E  Day  Month  Year  \n",
       "Date                                                   \n",
       "2010-08-24     -6639000  -47.232471   24      8  2010  \n",
       "2010-08-25       910500  -48.954500   25      8  2010  \n",
       "2010-08-26     -5596500  -48.585497   26      8  2010  \n",
       "2010-08-27    -11290500  -48.462474   27      8  2010  \n",
       "2010-08-30      -298500  -48.880700   30      8  2010  \n",
       "...                 ...         ...  ...    ...   ...  \n",
       "2022-09-26  17552375800  363.171065   26      9  2022  \n",
       "2022-09-27  17614301000  372.289477   27      9  2022  \n",
       "2022-09-28  17668965800  378.697365   28      9  2022  \n",
       "2022-09-29  17591345200  352.907883   29      9  2022  \n",
       "2022-09-30  17523618600  349.013158   30      9  2022  \n",
       "\n",
       "[3048 rows x 20 columns]"
      ]
     },
     "execution_count": 27,
     "metadata": {},
     "output_type": "execute_result"
    }
   ],
   "source": [
    "X_train"
   ]
  },
  {
   "cell_type": "code",
   "execution_count": 28,
   "id": "672cf7eb-fbbd-4d71-b056-222ee1c14c8f",
   "metadata": {},
   "outputs": [],
   "source": [
    "features = X_train.columns"
   ]
  },
  {
   "cell_type": "markdown",
   "id": "392d65c5-0af7-48a3-a0ed-0ae65e868558",
   "metadata": {},
   "source": [
    "#### Training the model"
   ]
  },
  {
   "cell_type": "code",
   "execution_count": 29,
   "id": "25ac6c25-5047-4129-83c1-958748c07e70",
   "metadata": {},
   "outputs": [],
   "source": [
    "# Initialize the random forest regressor\n",
    "rf_model2 = RandomForestRegressor(n_estimators=17, random_state=42, n_jobs=-1)\n",
    "\n",
    "# Fit the model on the training data\n",
    "rf_model2.fit(X_train, y_train.values.ravel())\n",
    "\n",
    "# Make predictions on the testing data\n",
    "y_pred = rf_model2.predict(X_test)\n"
   ]
  },
  {
   "cell_type": "code",
   "execution_count": null,
   "id": "e0efb884-32bb-4aac-96b4-a1e63a39595d",
   "metadata": {},
   "outputs": [],
   "source": []
  },
  {
   "cell_type": "code",
   "execution_count": 30,
   "id": "cc0bb3e5-99e3-4b0a-bdc7-8bfab8c1f59c",
   "metadata": {},
   "outputs": [
    {
     "name": "stdout",
     "output_type": "stream",
     "text": [
      "Mean Squared Error: 24.10017321535006\n"
     ]
    }
   ],
   "source": [
    "from sklearn.metrics import mean_squared_error\n",
    "\n",
    "mse = mean_squared_error(y_test, y_pred)\n",
    "print(\"Mean Squared Error:\", mse)"
   ]
  },
  {
   "cell_type": "markdown",
   "id": "e6e3af09-3379-4153-9537-189d612e91be",
   "metadata": {},
   "source": [
    "On average, the model's predictions deviate from the actual prices by about 4.91 dollars. This is about 6.55 times higher than in the case of the Coca-Cola stock (0.75 dollars); however the scale of prices is also higher from 2020, reaching up to 400 dollars with high volatility (which is more than x6 times the highest value of the Coca-Cola stock price, around 60 dollars). Thus, it seems that this second random forest model is performing comparably to the first one, especially taking into account the larg volatility of TSLA stock. "
   ]
  },
  {
   "cell_type": "code",
   "execution_count": 31,
   "id": "9a53d217-5d17-48f6-b45d-9fd24d453d04",
   "metadata": {},
   "outputs": [
    {
     "data": {
      "image/png": "[encoded data removed]",
      "text/plain": [
       "<Figure size 432x288 with 1 Axes>"
      ]
     },
     "metadata": {
      "needs_background": "light"
     },
     "output_type": "display_data"
    }
   ],
   "source": [
    "plot_predictions(y_pred, y_test)"
   ]
  },
  {
   "cell_type": "markdown",
   "id": "848857ea-11f6-48b6-822a-0392a560111e",
   "metadata": {},
   "source": [
    "We observe a perfect match up to day 25. Afterwards the predicted time series captures the general contracting trend, but showing values between 5% and 10% higher then the actual data over certain intermediate periods of time. Nevertheless, both predicted and actual time series end up convegenging during the last days within the test set."
   ]
  },
  {
   "cell_type": "markdown",
   "id": "8398f2ff-be93-4b79-a950-e8d646c70c5d",
   "metadata": {},
   "source": [
    "#### Variable importance"
   ]
  },
  {
   "cell_type": "code",
   "execution_count": 32,
   "id": "6db1bee0-4b8e-4cbf-aa67-9a33b818a57e",
   "metadata": {},
   "outputs": [
    {
     "data": {
      "image/png": "[encoded data removed]",
      "text/plain": [
       "<Figure size 720x432 with 1 Axes>"
      ]
     },
     "metadata": {
      "needs_background": "light"
     },
     "output_type": "display_data"
    }
   ],
   "source": [
    "importances = rf_model2.feature_importances_\n",
    "\n",
    "sorted_idx = importances.argsort()[::-1]\n",
    "\n",
    "plt.figure(figsize=(10,6))\n",
    "plt.bar(features, importances[sorted_idx])\n",
    "plt.xlabel('Features')\n",
    "plt.ylabel('Importance')\n",
    "plt.title('Feature Importance from Random Forest')\n",
    "plt.xticks(rotation=45)\n",
    "plt.show()"
   ]
  },
  {
   "cell_type": "markdown",
   "id": "aebbbdfe-a13a-4d2f-9fbe-de5283787ff2",
   "metadata": {},
   "source": [
    "In this case most of the feature importance is concentrated in the `Open` price (0.86), followed by `High` and `Low` (with around 0.7). The rest of features have essentially insignificant importance."
   ]
  },
  {
   "cell_type": "markdown",
   "id": "5e7b1632-d20a-4d8d-bf30-5d841239b946",
   "metadata": {},
   "source": [
    "We find that, if we only consider the subset of features `Open`, `High`, `Low` and `Adj Close` the MSE is drastically minimized from 24.10 to 6.70."
   ]
  },
  {
   "cell_type": "code",
   "execution_count": 33,
   "id": "4bc4a9f0-145f-4ff3-a867-2ff783692451",
   "metadata": {},
   "outputs": [
    {
     "name": "stdout",
     "output_type": "stream",
     "text": [
      "Mean Squared Error: 6.700998439567296\n"
     ]
    }
   ],
   "source": [
    "X_train = X_train[['Open','High', 'Low','Adj Close']]\n",
    "X_test = X_test[['Open','High', 'Low','Adj Close']]\n",
    "\n",
    "# Fit the model on the training data\n",
    "rf_model2.fit(X_train, y_train.values.ravel())\n",
    "\n",
    "# Make predictions on the testing data\n",
    "y_pred = rf_model2.predict(X_test)\n",
    "\n",
    "mse = mean_squared_error(y_test, y_pred)\n",
    "print(\"Mean Squared Error:\", mse)"
   ]
  },
  {
   "cell_type": "markdown",
   "id": "8141af1e-102d-4228-960c-fd5e50fece95",
   "metadata": {},
   "source": [
    "Therefore we focus in the sequel on this model with truncated number of features. "
   ]
  },
  {
   "cell_type": "code",
   "execution_count": 34,
   "id": "71de732f-b9e4-48ca-95a4-1cce8524af96",
   "metadata": {},
   "outputs": [
    {
     "data": {
      "image/png": "[encoded data removed]",
      "text/plain": [
       "<Figure size 432x288 with 1 Axes>"
      ]
     },
     "metadata": {
      "needs_background": "light"
     },
     "output_type": "display_data"
    }
   ],
   "source": [
    "plot_predictions(y_pred, y_test)"
   ]
  },
  {
   "cell_type": "markdown",
   "id": "d119d1c1-20bc-48a4-93ad-51df15b054cc",
   "metadata": {},
   "source": [
    "#### Cross-validation"
   ]
  },
  {
   "cell_type": "code",
   "execution_count": 35,
   "id": "fe60b0a9-2749-4975-9c34-2459d70dec75",
   "metadata": {},
   "outputs": [
    {
     "name": "stdout",
     "output_type": "stream",
     "text": [
      "Mean MSE: 6.5567 (+/- 0.2536)\n"
     ]
    }
   ],
   "source": [
    "# Number of splits. For example, if n_splits=5, it will produce 5 train/test sets.\n",
    "tscv = TimeSeriesSplit(n_splits=5)\n",
    "\n",
    "# Initialize the Random Forest Regressor\n",
    "model = RandomForestRegressor()\n",
    "\n",
    "mse_scores = []\n",
    "\n",
    "# Perform the time series cross-validation\n",
    "for train_index, test_index in tscv.split(X_train):\n",
    "    X_train_cv, X_test_cv = X_train.iloc[train_index], X_train.iloc[test_index]\n",
    "    y_train_cv, y_test_cv = y_train.iloc[train_index], y_train.iloc[test_index]\n",
    "\n",
    "    \n",
    "    model.fit(X_train, y_train.values.ravel())\n",
    "    y_pred = model.predict(X_test)\n",
    "    \n",
    "    mse = mean_squared_error(y_test, y_pred)\n",
    "    mse_scores.append(mse)\n",
    "\n",
    "# Calculate the mean and standard deviation of MSE across folds\n",
    "mean_mse = np.mean(mse_scores)\n",
    "std_mse = np.std(mse_scores)\n",
    "\n",
    "print(f\"Mean MSE: {mean_mse:.4f} (+/- {std_mse:.4f})\")"
   ]
  },
  {
   "cell_type": "markdown",
   "id": "a51c5b92-a37f-4fa1-8c0c-7232bc53c00c",
   "metadata": {},
   "source": [
    "The MSE from the test set is quite close to the mean MSE from cross-validation, with a standard devition of around 8% of the mean MSE. This suggests that the model performs consistently on different subsets of the data and generalizes fairly well to unseen data. On average, the model has a squared error of about 6.38 units, and this error can vary by about 0.53 units across different data splits. "
   ]
  },
  {
   "cell_type": "markdown",
   "id": "0b4c55c0-cd0c-4596-9b10-6eac1b3bab69",
   "metadata": {},
   "source": [
    "#### Hyperparameter tuning"
   ]
  },
  {
   "cell_type": "markdown",
   "id": "9e97ba06-268d-4119-87f0-d2e96e778f65",
   "metadata": {},
   "source": [
    "In this case we can expect the possibility of improving the MSE of our model by hyperparameter tuning up to at least 5.95. Again, we should assess if the complexity of the new model is worth the reduction of MSE. \n",
    "\n",
    "Let us perform an exhaustive `RandomizedSearchCV` picking 5000 random combinations of hyperparameters values. "
   ]
  },
  {
   "cell_type": "code",
   "execution_count": 36,
   "id": "caeaedfe-7ee5-45a6-9b72-2deca2c9b106",
   "metadata": {},
   "outputs": [
    {
     "name": "stdout",
     "output_type": "stream",
     "text": [
      "Fitting 5 folds for each of 5000 candidates, totalling 25000 fits\n",
      "{'n_estimators': 24, 'min_samples_split': 2, 'min_samples_leaf': 1, 'max_features': 'sqrt', 'max_depth': 22}\n"
     ]
    }
   ],
   "source": [
    "param_dist = {\n",
    "    'n_estimators': np.arange(3, 100),\n",
    "    'max_features': ['auto', 'sqrt', 'log2'],\n",
    "    'max_depth': [None] + list(np.arange(1, 30)),\n",
    "    'min_samples_split': np.arange(2, 50),\n",
    "    'min_samples_leaf': np.arange(1, 50)\n",
    "}\n",
    "\n",
    "#  RandomForestRegressor instance\n",
    "rf = RandomForestRegressor()\n",
    "\n",
    "# RandomizedSearchCV\n",
    "random_search = RandomizedSearchCV(\n",
    "    rf, param_distributions=param_dist, n_iter=5000, \n",
    "    scoring='neg_mean_squared_error', cv=tscv, \n",
    "    verbose=1, n_jobs=-1, random_state=42\n",
    ")\n",
    "\n",
    "# Fit the model\n",
    "random_search.fit(X_train, y_train.values.ravel())\n",
    "\n",
    "# Print the best parameters\n",
    "print(random_search.best_params_)"
   ]
  },
  {
   "cell_type": "code",
   "execution_count": null,
   "id": "a9afa6d2-6da9-4a00-a934-cd10887a9d92",
   "metadata": {},
   "outputs": [],
   "source": []
  },
  {
   "cell_type": "code",
   "execution_count": 37,
   "id": "88f75e7b-b57f-44d7-9482-77365d0b5d4f",
   "metadata": {},
   "outputs": [],
   "source": [
    "# Initialize the random forest regressor\n",
    "rf_model = RandomForestRegressor(n_estimators=18, min_samples_split=5, min_samples_leaf=1, max_features='sqrt', max_depth=11, random_state=42, n_jobs=-1)\n",
    "\n",
    "# Fit the model on the training data\n",
    "rf_model.fit(X_train, y_train.values.ravel())\n",
    "\n",
    "# Make predictions on the testing data\n",
    "y_pred = rf_model.predict(X_test)"
   ]
  },
  {
   "cell_type": "code",
   "execution_count": 38,
   "id": "afbdaa29-3022-4c4d-b06c-81564b02586a",
   "metadata": {},
   "outputs": [
    {
     "name": "stdout",
     "output_type": "stream",
     "text": [
      "Mean Squared Error: 4.914689431382644\n"
     ]
    }
   ],
   "source": [
    "from sklearn.metrics import mean_squared_error\n",
    "mse = mean_squared_error(y_test, y_pred)\n",
    "print(\"Mean Squared Error:\", mse)"
   ]
  },
  {
   "cell_type": "markdown",
   "id": "1ebbc6ff-9bfb-465b-b29c-4e2e4507945b",
   "metadata": {},
   "source": [
    "We find that without further introducing much complexity we can reduce the MSE to 4.91. This only requires adding one more tree to the forest, increasing `min_samples_split` from 2 to 5 and imposing a reasonable maximal depth of 11. "
   ]
  },
  {
   "cell_type": "markdown",
   "id": "e05a5ff5",
   "metadata": {},
   "source": [
    "## Long-Short-Term-Memory neural network"
   ]
  },
  {
   "cell_type": "markdown",
   "id": "27dd5d84",
   "metadata": {},
   "source": [
    "LSTM networks are a type of Recurrent Neural Network (RNN) that are designed to remember patterns in sequential data over long-term time. Introduced by Hochreiter and Schmidhuber in 1997, LSTMs were designed to overcome the limitations of traditional RNNs, namely the issues related to the vanishing and exploding gradient problems. These challenges made it difficult for RNNs to capture long-term dependencies in sequence data, a problem that LSTMs solve.\n",
    "\n",
    "The key innovation in LSTMs is the introduction of memory cells and three multiplicative gates: the input, forget, and output gates. These components allow LSTMs to regulate the flow of information, determining what to retain, discard, or pass on to the next time step. As a result, LSTMs can effectively learn and remember patterns over long sequences, making them especially suitable for tasks involving sequential data such as time series forecasting, natural language processing, and speech recognition.\n",
    "\n",
    "Here we apply LSTMs to the problem of stock price forecasting. LSTMs can model intricate patterns and dependencies in historical stock price data, which might be overlooked or deemed infeasible by traditional models. By leveraging their proficiency in handling sequential data and effectively capture long-term dependencies, LSTMs have proved to be an excellent tool in forecasting future stock prices with high degree of accuracy.\n",
    "\n",
    "Concretely, our goal is to make predictions for the `Close` column in our dataset. Due to the nature of LSTM, past values of the `Close` variable (appropriately preprocessed) will be considered as input features for making the prediction. This means that the `Close` variable will act both as a feature and the target, in contradistinction with typical machine learning scenarios where features and the target variable are clearly separated. This requires a further preprocessing of the data based on creating sequences of a certain number of past observations to make the prediction, which we will explain later on. \n",
    "\n",
    "We will consider two scenarios: feeding the LSTM only just past values of `Close` (univariate) and the itnroduction of additional features (multivariate).  "
   ]
  },
  {
   "cell_type": "markdown",
   "id": "a3ac3273-fd4f-4bbb-9c66-0d14ba99dacd",
   "metadata": {},
   "source": [
    "#### Univariate LSTM"
   ]
  },
  {
   "cell_type": "markdown",
   "id": "98af6b9b-dc31-4750-b0d1-c2631c31587a",
   "metadata": {},
   "source": [
    "Since the performance of LSTMs are sensitive to feature scaling, the first step is to perform a train/test split and rescale our dataset. We define a function that takes as input our dataset filename and returns the dataframe, the scaled and unscaled versions of the train and\n",
    "test sets constructed out of just the `Close` column (using a 80-20 split) and the scaler, that we will need to unscale our predictions in the end."
   ]
  },
  {
   "cell_type": "code",
   "execution_count": 39,
   "id": "02c8d7d7",
   "metadata": {},
   "outputs": [],
   "source": [
    "from sklearn.preprocessing import MinMaxScaler\n",
    "import pandas as pd\n",
    "import numpy as np\n",
    "\n",
    "# This function reads our csv file and returns the dataframe, train set, test set, scaled train set, scaled test set and scaler\n",
    "\n",
    "def scale_dataframe(filename):\n",
    "    # Load data into DataFrame \n",
    "    df = pd.read_csv(filename)\n",
    "\n",
    "    # Compute the number of data points for 80% of the data\n",
    "    train_size = int(0.8 * len(df))\n",
    "\n",
    "    # Split into train and test sets\n",
    "    train = df[['Close']][:train_size]\n",
    "    test = df[['Close']][train_size:]\n",
    "\n",
    "    # Scale the features and target together\n",
    "    scaler = MinMaxScaler(feature_range=(0,1))\n",
    "\n",
    "    # Fit the scaler using only the training data and transform\n",
    "    train_scaled = pd.DataFrame(scaler.fit_transform(train), columns=['Close'])\n",
    "\n",
    "    # Scale the test data\n",
    "    test_scaled = pd.DataFrame(scaler.transform(test), columns=['Close'])\n",
    "    \n",
    "    return df, train, test, train_scaled, test_scaled, scaler\n"
   ]
  },
  {
   "cell_type": "code",
   "execution_count": 40,
   "id": "290e9cb5-9e71-404d-880c-a9dbc62cf8bd",
   "metadata": {},
   "outputs": [],
   "source": [
    "df, train, test, train_scaled, test_scaled, scaler = scale_dataframe('KO.csv')"
   ]
  },
  {
   "cell_type": "markdown",
   "id": "2b91cf71",
   "metadata": {},
   "source": [
    "In order to train our LSTM network, we need a further preprocessing of our data that will render it into a suitable format that can be fed to the network. In time series forecasting with LSTM, it is common to use a certain number of previous steps to predict the next step. This is often referred to as a 'sliding window' approach. \n",
    "\n",
    "\n",
    "We will define a function `create_dataset` that creates this sliding window, taking a time series dataset and a parameter `look_back` as inputs. The `look_back` parameter is the number of previous time steps to use as input variables for the prediction. The function will return two outputs:  a 2D numpy array `X` where each row corresponds to a sequence of `look_back` number of previous values from the dataset, and a 1D numpy array `Y` where each value corresponds to the next value in the dataset that follows the sequence in `X`. `X` contains the input features for our LSTM model, whereas `Y` is the target variable that our LSTM model will aim to predict."
   ]
  },
  {
   "cell_type": "code",
   "execution_count": 41,
   "id": "b1670a58",
   "metadata": {},
   "outputs": [],
   "source": [
    "def create_sequences(data, seq_length):\n",
    "    xs = []\n",
    "    ys = []\n",
    "\n",
    "    for i in range(len(data)-seq_length-1):\n",
    "        x = data.iloc[i:(i+seq_length)].values\n",
    "        y = data.iloc[i+seq_length]  # removed .values\n",
    "        xs.append(x)\n",
    "        ys.append(y)\n",
    "\n",
    "    return np.array(xs), np.array(ys)\n",
    "\n",
    "# Specify the sequence length\n",
    "seq_length = 60"
   ]
  },
  {
   "cell_type": "markdown",
   "id": "0884a9df-550f-48e7-aaa9-5772736114c7",
   "metadata": {},
   "source": [
    "Now we use the previosuly defined function to create the actual sequences from the train and test sets:"
   ]
  },
  {
   "cell_type": "code",
   "execution_count": 42,
   "id": "22de7152",
   "metadata": {},
   "outputs": [],
   "source": [
    "# Create sequences from train and test data\n",
    "X_train, y_train = create_sequences(train_scaled['Close'], seq_length)\n",
    "X_test, y_test = create_sequences(test_scaled['Close'], seq_length)"
   ]
  },
  {
   "cell_type": "markdown",
   "id": "6d48d739-d763-4297-98e8-698d6d2489ee",
   "metadata": {},
   "source": [
    "There is yet another subtlety we should take care of. The LSTM layer in Keras expects an input in the form of a 3D array, where the dimensions represent:\n",
    "\n",
    "1. batch_size: the number of samples in a batch.\n",
    "2. time_steps: the number of time steps in a single input sequence. For time series data, this would be the length of a sequence.\n",
    "3. features: the number of features at each time step.\n",
    "\n",
    "We must ensure that our data is in the right shape for the LSTM to process it."
   ]
  },
  {
   "cell_type": "code",
   "execution_count": 43,
   "id": "386a9389",
   "metadata": {},
   "outputs": [],
   "source": [
    "# Reshape the inputs to be suitable for LSTM\n",
    "X_train = np.reshape(X_train, (X_train.shape[0], X_train.shape[1], 1))\n",
    "X_test = np.reshape(X_test, (X_test.shape[0], X_test.shape[1], 1))"
   ]
  },
  {
   "cell_type": "markdown",
   "id": "9d32b32a-b9b3-41a6-b33b-d64168ef751c",
   "metadata": {},
   "source": [
    "By reshaping with (X_train.shape[0], X_train.shape[1], 1), we are essentially adding an extra dimension to the data to indicate that there is just one feature at every time step."
   ]
  },
  {
   "cell_type": "markdown",
   "id": "64a80622-2529-418a-991a-de4573a51fc9",
   "metadata": {},
   "source": [
    "Now we are ready to define our LSTM model. In order to do so we need to import the relevant TensorFlow and Keras libraries."
   ]
  },
  {
   "cell_type": "code",
   "execution_count": 44,
   "id": "c2348d85",
   "metadata": {},
   "outputs": [
    {
     "name": "stderr",
     "output_type": "stream",
     "text": [
      "2023-08-16 17:12:35.383246: I tensorflow/tsl/cuda/cudart_stub.cc:28] Could not find cuda drivers on your machine, GPU will not be used.\n",
      "2023-08-16 17:12:35.623914: I tensorflow/tsl/cuda/cudart_stub.cc:28] Could not find cuda drivers on your machine, GPU will not be used.\n",
      "2023-08-16 17:12:35.629059: I tensorflow/core/platform/cpu_feature_guard.cc:182] This TensorFlow binary is optimized to use available CPU instructions in performance-critical operations.\n",
      "To enable the following instructions: AVX2 FMA, in other operations, rebuild TensorFlow with the appropriate compiler flags.\n",
      "2023-08-16 17:12:37.055636: W tensorflow/compiler/tf2tensorrt/utils/py_utils.cc:38] TF-TRT Warning: Could not find TensorRT\n"
     ]
    }
   ],
   "source": [
    "import tensorflow as tf\n",
    "\n",
    "# Set a random seed for reproducibility of results\n",
    "np.random.seed(42)\n",
    "tf.random.set_seed(42)\n",
    "\n",
    "from keras.models import Sequential\n",
    "from keras.layers import Dense, LSTM, Dropout\n",
    "from pandas.tseries.offsets import DateOffset"
   ]
  },
  {
   "cell_type": "markdown",
   "id": "98ce0067-7ed5-4522-8e2e-0d801b875880",
   "metadata": {},
   "source": [
    "Our LSTM model architecture will consist of three LSTM layers of 50 units, each of them followed by a dropout layer to prevent overfitting. The final layer is a dense layer that outputs into a single continuous value, which represent the prediction in a forecasting task (recall we are doing a one-day-ahead prediction). Having in the dense layer a single unit and no activation function defined makes the model suitable for regression, as this is what produces a single continuous value as output. \n",
    "\n",
    "We will define a class LSTMModel that encapsulates the architecture of our LSTM neural network, as we will need to use several instances of the model."
   ]
  },
  {
   "cell_type": "code",
   "execution_count": 45,
   "id": "2b4d563d",
   "metadata": {},
   "outputs": [],
   "source": [
    "\n",
    "class LSTMModel:\n",
    "    # Call the '__init__' method to perform initializations and set up attributes\n",
    "    def __init__(self, input_shape=(None,1)):\n",
    "        self.input_shape = input_shape\n",
    "\n",
    "        # Call the '_build_model' method to construct the actual LSTM and store it in the 'self.model' attribute\n",
    "        self.model = self._build_model()\n",
    "        \n",
    "    # Define the architecture of the LSTM neural network\n",
    "    def _build_model(self):\n",
    "        model = Sequential()\n",
    "        \n",
    "        model.add(LSTM(units=50, return_sequences=True, input_shape=self.input_shape)) # This LSTM layer will output a sequence with the same length as the input sequence\n",
    "        model.add(Dropout(0.2))\n",
    "\n",
    "        model.add(LSTM(units=50, return_sequences=True))\n",
    "        model.add(Dropout(0.2))\n",
    "\n",
    "        model.add(LSTM(units=50))\n",
    "        model.add(Dropout(0.2))\n",
    "\n",
    "        model.add(Dense(units=1))\n",
    "\n",
    "        return model\n"
   ]
  },
  {
   "cell_type": "markdown",
   "id": "3e954d0f-f354-47d8-a4e4-ffda98d8aa72",
   "metadata": {},
   "source": [
    "Using the `summary()' method we can display the architecture of our model. It provides a quick overview of all the layers that make up our model, along with the shape and number of parameters (weights and biases) in each layer. "
   ]
  },
  {
   "cell_type": "code",
   "execution_count": 46,
   "id": "b1d26400",
   "metadata": {
    "scrolled": true
   },
   "outputs": [
    {
     "name": "stdout",
     "output_type": "stream",
     "text": [
      "Model: \"sequential\"\n",
      "_________________________________________________________________\n",
      " Layer (type)                Output Shape              Param #   \n",
      "=================================================================\n",
      " lstm (LSTM)                 (None, None, 50)          10400     \n",
      "                                                                 \n",
      " dropout (Dropout)           (None, None, 50)          0         \n",
      "                                                                 \n",
      " lstm_1 (LSTM)               (None, None, 50)          20200     \n",
      "                                                                 \n",
      " dropout_1 (Dropout)         (None, None, 50)          0         \n",
      "                                                                 \n",
      " lstm_2 (LSTM)               (None, 50)                20200     \n",
      "                                                                 \n",
      " dropout_2 (Dropout)         (None, 50)                0         \n",
      "                                                                 \n",
      " dense (Dense)               (None, 1)                 51        \n",
      "                                                                 \n",
      "=================================================================\n",
      "Total params: 50851 (198.64 KB)\n",
      "Trainable params: 50851 (198.64 KB)\n",
      "Non-trainable params: 0 (0.00 Byte)\n",
      "_________________________________________________________________\n"
     ]
    }
   ],
   "source": [
    "# Print out a summary of the model\n",
    "lstm_model = LSTMModel((None, 1))\n",
    "lstm_model.model.summary()\n"
   ]
  },
  {
   "cell_type": "markdown",
   "id": "c5e443fb-89b3-44ff-8d09-a3865ae088b9",
   "metadata": {},
   "source": [
    "We can plot the graphical representation of this network using `plot_model`:"
   ]
  },
  {
   "cell_type": "code",
   "execution_count": 47,
   "id": "eab69cc3",
   "metadata": {},
   "outputs": [
    {
     "data": {
      "image/png": "[encoded data removed]",
      "text/plain": [
       "<IPython.core.display.Image object>"
      ]
     },
     "execution_count": 47,
     "metadata": {},
     "output_type": "execute_result"
    }
   ],
   "source": [
    "from tensorflow.keras.utils import plot_model\n",
    "plot_model(lstm_model.model, to_file='model.png', show_shapes=True, rankdir='LR')"
   ]
  },
  {
   "cell_type": "markdown",
   "id": "b3435199-4eef-4767-be51-a30e9bed3d6b",
   "metadata": {},
   "source": [
    "Now we need to configure our model for training using the `compile` method. We choose to work with the Adam optimizer and to minimize the Mean Squared Error."
   ]
  },
  {
   "cell_type": "code",
   "execution_count": 48,
   "id": "e987c4eb-5d10-42e7-b6a6-954f9ccb43db",
   "metadata": {},
   "outputs": [],
   "source": [
    "lstm_model.model.compile(optimizer='adam', loss='mean_squared_error')"
   ]
  },
  {
   "cell_type": "markdown",
   "id": "ad5911e5-5c12-4005-b2d0-b7911c91e3d4",
   "metadata": {},
   "source": [
    "We will sue the `ModelCheckpoint` callback as a way to save the model at different points during training. The checkpointer in this code will monitor the model's validation loss during the training, and whenever the validation loss improves (namely, decreases), it saves the current weights of the model to the file 'weights_best.hdf5'."
   ]
  },
  {
   "cell_type": "code",
   "execution_count": 49,
   "id": "150061aa",
   "metadata": {},
   "outputs": [],
   "source": [
    "from tensorflow.keras.callbacks import ModelCheckpoint\n",
    "\n",
    "checkpointer = ModelCheckpoint(\n",
    "    filepath = 'weights_best.hdf5', \n",
    "    verbose = 2, \n",
    "    save_best_only = True\n",
    ")\n"
   ]
  },
  {
   "cell_type": "markdown",
   "id": "c03c5706-f09c-43e4-bfd4-5c0695b21c51",
   "metadata": {},
   "source": [
    "Finally we proceed to the training phase."
   ]
  },
  {
   "cell_type": "code",
   "execution_count": 50,
   "id": "8620d646-3843-4589-b5b1-631796fe2b13",
   "metadata": {},
   "outputs": [
    {
     "name": "stdout",
     "output_type": "stream",
     "text": [
      "Epoch 1/25\n",
      "167/167 [==============================] - ETA: 0s - loss: 0.0130WARNING:tensorflow:Can save best model only with val_loss available, skipping.\n",
      "167/167 [==============================] - 19s 79ms/step - loss: 0.0130\n",
      "Epoch 2/25\n",
      "167/167 [==============================] - ETA: 0s - loss: 0.0038WARNING:tensorflow:Can save best model only with val_loss available, skipping.\n",
      "167/167 [==============================] - 13s 80ms/step - loss: 0.0038\n",
      "Epoch 3/25\n",
      "167/167 [==============================] - ETA: 0s - loss: 0.0033WARNING:tensorflow:Can save best model only with val_loss available, skipping.\n",
      "167/167 [==============================] - 13s 80ms/step - loss: 0.0033\n",
      "Epoch 4/25\n",
      "167/167 [==============================] - ETA: 0s - loss: 0.0029WARNING:tensorflow:Can save best model only with val_loss available, skipping.\n",
      "167/167 [==============================] - 13s 80ms/step - loss: 0.0029\n",
      "Epoch 5/25\n",
      "167/167 [==============================] - ETA: 0s - loss: 0.0029WARNING:tensorflow:Can save best model only with val_loss available, skipping.\n",
      "167/167 [==============================] - 13s 80ms/step - loss: 0.0029\n",
      "Epoch 6/25\n",
      "167/167 [==============================] - ETA: 0s - loss: 0.0025WARNING:tensorflow:Can save best model only with val_loss available, skipping.\n",
      "167/167 [==============================] - 13s 81ms/step - loss: 0.0025\n",
      "Epoch 7/25\n",
      "167/167 [==============================] - ETA: 0s - loss: 0.0023WARNING:tensorflow:Can save best model only with val_loss available, skipping.\n",
      "167/167 [==============================] - 13s 81ms/step - loss: 0.0023\n",
      "Epoch 8/25\n",
      "167/167 [==============================] - ETA: 0s - loss: 0.0023WARNING:tensorflow:Can save best model only with val_loss available, skipping.\n",
      "167/167 [==============================] - 13s 80ms/step - loss: 0.0023\n",
      "Epoch 9/25\n",
      "167/167 [==============================] - ETA: 0s - loss: 0.0021WARNING:tensorflow:Can save best model only with val_loss available, skipping.\n",
      "167/167 [==============================] - 13s 80ms/step - loss: 0.0021\n",
      "Epoch 10/25\n",
      "167/167 [==============================] - ETA: 0s - loss: 0.0019WARNING:tensorflow:Can save best model only with val_loss available, skipping.\n",
      "167/167 [==============================] - 13s 81ms/step - loss: 0.0019\n",
      "Epoch 11/25\n",
      "167/167 [==============================] - ETA: 0s - loss: 0.0019WARNING:tensorflow:Can save best model only with val_loss available, skipping.\n",
      "167/167 [==============================] - 13s 80ms/step - loss: 0.0019\n",
      "Epoch 12/25\n",
      "167/167 [==============================] - ETA: 0s - loss: 0.0017WARNING:tensorflow:Can save best model only with val_loss available, skipping.\n",
      "167/167 [==============================] - 13s 80ms/step - loss: 0.0017\n",
      "Epoch 13/25\n",
      "167/167 [==============================] - ETA: 0s - loss: 0.0019WARNING:tensorflow:Can save best model only with val_loss available, skipping.\n",
      "167/167 [==============================] - 13s 80ms/step - loss: 0.0019\n",
      "Epoch 14/25\n",
      "167/167 [==============================] - ETA: 0s - loss: 0.0016WARNING:tensorflow:Can save best model only with val_loss available, skipping.\n",
      "167/167 [==============================] - 13s 80ms/step - loss: 0.0016\n",
      "Epoch 15/25\n",
      "167/167 [==============================] - ETA: 0s - loss: 0.0015WARNING:tensorflow:Can save best model only with val_loss available, skipping.\n",
      "167/167 [==============================] - 14s 83ms/step - loss: 0.0015\n",
      "Epoch 16/25\n",
      "167/167 [==============================] - ETA: 0s - loss: 0.0015WARNING:tensorflow:Can save best model only with val_loss available, skipping.\n",
      "167/167 [==============================] - 14s 83ms/step - loss: 0.0015\n",
      "Epoch 17/25\n",
      "167/167 [==============================] - ETA: 0s - loss: 0.0014WARNING:tensorflow:Can save best model only with val_loss available, skipping.\n",
      "167/167 [==============================] - 14s 83ms/step - loss: 0.0014\n",
      "Epoch 18/25\n",
      "167/167 [==============================] - ETA: 0s - loss: 0.0013WARNING:tensorflow:Can save best model only with val_loss available, skipping.\n",
      "167/167 [==============================] - 14s 81ms/step - loss: 0.0013\n",
      "Epoch 19/25\n",
      "167/167 [==============================] - ETA: 0s - loss: 0.0013WARNING:tensorflow:Can save best model only with val_loss available, skipping.\n",
      "167/167 [==============================] - 13s 81ms/step - loss: 0.0013\n",
      "Epoch 20/25\n",
      "167/167 [==============================] - ETA: 0s - loss: 0.0013WARNING:tensorflow:Can save best model only with val_loss available, skipping.\n",
      "167/167 [==============================] - 13s 81ms/step - loss: 0.0013\n",
      "Epoch 21/25\n",
      "167/167 [==============================] - ETA: 0s - loss: 0.0012WARNING:tensorflow:Can save best model only with val_loss available, skipping.\n",
      "167/167 [==============================] - 13s 80ms/step - loss: 0.0012\n",
      "Epoch 22/25\n",
      "167/167 [==============================] - ETA: 0s - loss: 0.0011WARNING:tensorflow:Can save best model only with val_loss available, skipping.\n",
      "167/167 [==============================] - 14s 82ms/step - loss: 0.0011\n",
      "Epoch 23/25\n",
      "167/167 [==============================] - ETA: 0s - loss: 0.0011WARNING:tensorflow:Can save best model only with val_loss available, skipping.\n",
      "167/167 [==============================] - 14s 81ms/step - loss: 0.0011\n",
      "Epoch 24/25\n",
      "167/167 [==============================] - ETA: 0s - loss: 0.0011WARNING:tensorflow:Can save best model only with val_loss available, skipping.\n",
      "167/167 [==============================] - 14s 81ms/step - loss: 0.0011\n",
      "Epoch 25/25\n",
      "167/167 [==============================] - ETA: 0s - loss: 0.0011WARNING:tensorflow:Can save best model only with val_loss available, skipping.\n",
      "167/167 [==============================] - 13s 80ms/step - loss: 0.0011\n"
     ]
    },
    {
     "data": {
      "text/plain": [
       "<keras.src.callbacks.History at 0x7fc9c9689c70>"
      ]
     },
     "execution_count": 50,
     "metadata": {},
     "output_type": "execute_result"
    }
   ],
   "source": [
    "lstm_model.model.fit(\n",
    "    X_train, \n",
    "    y_train, \n",
    "    epochs=25, \n",
    "    batch_size = 32,\n",
    "    callbacks = [checkpointer]\n",
    ")"
   ]
  },
  {
   "cell_type": "markdown",
   "id": "98f79864-3679-494e-8c6b-16fcb016baa3",
   "metadata": {},
   "source": [
    "We can now make the pediction on our test set and rescale it back to the scale of the original dataset."
   ]
  },
  {
   "cell_type": "code",
   "execution_count": 51,
   "id": "b0fa908e",
   "metadata": {},
   "outputs": [
    {
     "name": "stdout",
     "output_type": "stream",
     "text": [
      "41/41 [==============================] - 3s 31ms/step\n"
     ]
    }
   ],
   "source": [
    "# Compute the predicted values on the test set\n",
    "test_predict = lstm_model.model.predict(X_test)\n",
    "# Undo the scaling transformation on the predicted values 'test_predict' and the actual test values 'y_test'\n",
    "test_predict = scaler.inverse_transform(test_predict)\n",
    "\n"
   ]
  },
  {
   "cell_type": "code",
   "execution_count": 52,
   "id": "760aa34b",
   "metadata": {},
   "outputs": [],
   "source": [
    "y_test_reshaped = y_test.reshape(-1, 1)\n",
    "y_test = scaler.inverse_transform(y_test_reshaped)"
   ]
  },
  {
   "cell_type": "markdown",
   "id": "6596d1cb-35c6-4148-ab2f-2b622a843e24",
   "metadata": {},
   "source": [
    "Finally we plot our prediction versus the actual time-series and compute the MSE."
   ]
  },
  {
   "cell_type": "code",
   "execution_count": 53,
   "id": "4b7cb521",
   "metadata": {},
   "outputs": [
    {
     "data": {
      "image/png": "[encoded data removed]",
      "text/plain": [
       "<Figure size 720x432 with 1 Axes>"
      ]
     },
     "metadata": {
      "needs_background": "light"
     },
     "output_type": "display_data"
    }
   ],
   "source": [
    "plt.figure(figsize=(10,6))\n",
    "plt.plot(df.index[:len(train)+seq_length], df['Close'][:len(train)+seq_length], color='blue', label='Training data')\n",
    "plt.plot(df.index[len(train)+seq_length:-1], df['Close'][len(train)+seq_length:-1], color='green', label='Actual Stock Price')\n",
    "plt.plot(df.index[len(train)+seq_length:-1], test_predict, color='red', label='Prediction')\n",
    "plt.legend()\n",
    "plt.show()"
   ]
  },
  {
   "cell_type": "markdown",
   "id": "73ea1f99-51e0-4fac-a7b2-38a2e4734448",
   "metadata": {},
   "source": [
    "Focusing on the test set:"
   ]
  },
  {
   "cell_type": "code",
   "execution_count": 54,
   "id": "90d58d66",
   "metadata": {},
   "outputs": [
    {
     "data": {
      "image/png": "[encoded data removed]",
      "text/plain": [
       "<Figure size 1008x504 with 1 Axes>"
      ]
     },
     "metadata": {
      "needs_background": "light"
     },
     "output_type": "display_data"
    }
   ],
   "source": [
    "# Plot test predictions and actual values\n",
    "plt.figure(figsize=(14,7))\n",
    "plt.plot(y_test, label='True Test Values')\n",
    "plt.plot(test_predict, label='Test Predictions')\n",
    "plt.title('Comparison of Test Set Predictions and True Values')\n",
    "plt.xlabel('Time Step')\n",
    "plt.ylabel('Close Price')\n",
    "plt.legend()\n",
    "plt.show()"
   ]
  },
  {
   "cell_type": "markdown",
   "id": "7cb085de-8177-429e-b035-6aef34f4d5fb",
   "metadata": {},
   "source": [
    "Visually we already notice a remarkably good match. Let us compute the Mean Square Error:"
   ]
  },
  {
   "cell_type": "code",
   "execution_count": 55,
   "id": "078a945e",
   "metadata": {},
   "outputs": [
    {
     "name": "stdout",
     "output_type": "stream",
     "text": [
      "2.6559097200586157\n"
     ]
    }
   ],
   "source": [
    "from sklearn.metrics import mean_squared_error\n",
    "mse = mean_squared_error(y_test, test_predict)\n",
    "print(mse)"
   ]
  },
  {
   "cell_type": "markdown",
   "id": "c68b3500-2f16-4a24-84c9-6115b103d688",
   "metadata": {},
   "source": [
    "This is a quite small error, especially for the timeframe we are considering (more than 1200 days, in other words ). Recall that our Random Forest model yielded a similar error but for a test set 10 times smaller, which clearly indicates the superiority of the LSTM model in learning stock price time series. "
   ]
  },
  {
   "cell_type": "markdown",
   "id": "600cc024-f707-4e87-a4f2-80114dc4310b",
   "metadata": {},
   "source": [
    "There is yet one caveat: despite this great ability to learn time series data, it might be that our model is suffering from overfitting. We will perform a cross-validation analysis to study possible overfitting issues."
   ]
  },
  {
   "cell_type": "markdown",
   "id": "34cb8f48-6d63-411b-9752-0ed4adbce9d6",
   "metadata": {},
   "source": [
    "#### Cross validation"
   ]
  },
  {
   "cell_type": "markdown",
   "id": "dc39b6a6-9583-4d10-9c81-462a766f0d62",
   "metadata": {},
   "source": [
    "The following function performs a time series cross validation of our LSTM model"
   ]
  },
  {
   "cell_type": "code",
   "execution_count": 56,
   "id": "6ce15773-1d23-41ea-ab26-44958279618e",
   "metadata": {},
   "outputs": [],
   "source": [
    "from sklearn.model_selection import TimeSeriesSplit\n",
    "\n",
    "def train_lstm_cv(data, seq_length, model_function, n_splits=5):\n",
    "    \"\"\"\n",
    "    Perform TimeSeries cross-validation on the LSTM model.\n",
    "    \n",
    "    Args:\n",
    "    - data (pd.Series): The entire time series data.\n",
    "    - seq_length (int): Length of input sequences.\n",
    "    - model_function (function): A function to initialize and compile the LSTM model.\n",
    "    - n_splits (int): Number of splits for cross-validation.\n",
    "    \n",
    "    Returns:\n",
    "    - history_list (list): List of training histories.\n",
    "    - mse_values (list): List of mean squared errors for each fold.\n",
    "    \"\"\"\n",
    "    tscv = TimeSeriesSplit(n_splits=n_splits)\n",
    "    history_list = []\n",
    "    mse_values = []\n",
    "\n",
    "    for train_index, test_index in tscv.split(data):\n",
    "        \n",
    "        # Split the data into train and test sets for this fold\n",
    "        train_data, test_data = data.iloc[train_index], data.iloc[test_index]\n",
    "\n",
    "        # Scale the training data for this fold and transform the test data\n",
    "        scaler = MinMaxScaler(feature_range=(0,1))\n",
    "        train_scaled = scaler.fit_transform(train_data.values.reshape(-1, 1))\n",
    "        test_scaled = scaler.transform(test_data.values.reshape(-1, 1))\n",
    "\n",
    "        # Create sequences for this fold's scaled data\n",
    "        X_train, y_train = create_sequences(pd.DataFrame(train_scaled), seq_length)\n",
    "        X_test, y_test = create_sequences(pd.DataFrame(test_scaled), seq_length)\n",
    "        \n",
    "        # Adjust the shape for LSTM input\n",
    "        X_train = np.reshape(X_train, (X_train.shape[0], X_train.shape[1], 1))\n",
    "        X_test = np.reshape(X_test, (X_test.shape[0], X_test.shape[1], 1))\n",
    "\n",
    "        # Use the provided model_function to get the model\n",
    "        lstm_model = model_function((X_train.shape[1], 1))\n",
    "        lstm_model.model.compile(optimizer='adam', loss='mean_squared_error')\n",
    "\n",
    "        checkpointer = ModelCheckpoint(\n",
    "            filepath='weights_best_cv.hdf5',\n",
    "            verbose=2,\n",
    "            save_best_only=True\n",
    "        )\n",
    "\n",
    "        # Train the model\n",
    "        history = lstm_model.model.fit(\n",
    "            X_train,\n",
    "            y_train,\n",
    "            validation_data=(X_test, y_test),\n",
    "            epochs=25,\n",
    "            batch_size=32,\n",
    "            callbacks=[checkpointer]\n",
    "        )\n",
    "\n",
    "        history_list.append(history)\n",
    "\n",
    "        # Use the trained model to predict on the test set\n",
    "        predictions = lstm_model.model.predict(X_test)\n",
    "\n",
    "        # Inverse transform the predictions and actual values\n",
    "        y_test_unscaled = scaler.inverse_transform(y_test.reshape(-1, 1))\n",
    "        predictions_unscaled = scaler.inverse_transform(predictions)\n",
    "\n",
    "        # Calculate MSE for this fold using unscaled data\n",
    "        mse = mean_squared_error(y_test_unscaled, predictions_unscaled)\n",
    "        mse_values.append(mse)\n",
    "\n",
    "    return history_list, mse_values\n",
    "\n",
    "\n",
    "# Each item in 'history_list' contains the training history for one fold.\n",
    "# We can analyze these histories to assess the performance of the LSTM across different folds.\n"
   ]
  },
  {
   "cell_type": "markdown",
   "id": "9b8a224a-c467-448f-88a2-37b47e1210b9",
   "metadata": {},
   "source": [
    "Let us perform the cross validation analysis on the train set:"
   ]
  },
  {
   "cell_type": "code",
   "execution_count": 57,
   "id": "154ad1d3-913c-4ca3-8d1a-ed676202cc3c",
   "metadata": {
    "scrolled": true
   },
   "outputs": [
    {
     "name": "stdout",
     "output_type": "stream",
     "text": [
      "Epoch 1/25\n",
      "27/27 [==============================] - ETA: 0s - loss: 0.0519\n",
      "Epoch 1: val_loss improved from inf to 0.01902, saving model to weights_best.hdf5\n",
      "27/27 [==============================] - 9s 153ms/step - loss: 0.0519 - val_loss: 0.0190\n",
      "Epoch 2/25\n",
      " 1/27 [>.............................] - ETA: 2s - loss: 0.0171"
     ]
    },
    {
     "name": "stderr",
     "output_type": "stream",
     "text": [
      "/home/sergio/anaconda3/lib/python3.9/site-packages/keras/src/engine/training.py:3000: UserWarning: You are saving your model as an HDF5 file via `model.save()`. This file format is considered legacy. We recommend using instead the native Keras format, e.g. `model.save('my_model.keras')`.\n",
      "  saving_api.save_model(\n"
     ]
    },
    {
     "name": "stdout",
     "output_type": "stream",
     "text": [
      "27/27 [==============================] - ETA: 0s - loss: 0.0101\n",
      "Epoch 2: val_loss improved from 0.01902 to 0.00562, saving model to weights_best.hdf5\n",
      "27/27 [==============================] - 3s 111ms/step - loss: 0.0101 - val_loss: 0.0056\n",
      "Epoch 3/25\n",
      "27/27 [==============================] - ETA: 0s - loss: 0.0073\n",
      "Epoch 3: val_loss improved from 0.00562 to 0.00302, saving model to weights_best.hdf5\n",
      "27/27 [==============================] - 3s 111ms/step - loss: 0.0073 - val_loss: 0.0030\n",
      "Epoch 4/25\n",
      "27/27 [==============================] - ETA: 0s - loss: 0.0066\n",
      "Epoch 4: val_loss improved from 0.00302 to 0.00281, saving model to weights_best.hdf5\n",
      "27/27 [==============================] - 3s 112ms/step - loss: 0.0066 - val_loss: 0.0028\n",
      "Epoch 5/25\n",
      "27/27 [==============================] - ETA: 0s - loss: 0.0074\n",
      "Epoch 5: val_loss did not improve from 0.00281\n",
      "27/27 [==============================] - 3s 110ms/step - loss: 0.0074 - val_loss: 0.0033\n",
      "Epoch 6/25\n",
      "27/27 [==============================] - ETA: 0s - loss: 0.0066\n",
      "Epoch 6: val_loss improved from 0.00281 to 0.00228, saving model to weights_best.hdf5\n",
      "27/27 [==============================] - 3s 114ms/step - loss: 0.0066 - val_loss: 0.0023\n",
      "Epoch 7/25\n",
      "27/27 [==============================] - ETA: 0s - loss: 0.0061\n",
      "Epoch 7: val_loss did not improve from 0.00228\n",
      "27/27 [==============================] - 3s 111ms/step - loss: 0.0061 - val_loss: 0.0030\n",
      "Epoch 8/25\n",
      "27/27 [==============================] - ETA: 0s - loss: 0.0063\n",
      "Epoch 8: val_loss did not improve from 0.00228\n",
      "27/27 [==============================] - 3s 114ms/step - loss: 0.0063 - val_loss: 0.0038\n",
      "Epoch 9/25\n",
      "27/27 [==============================] - ETA: 0s - loss: 0.0055\n",
      "Epoch 9: val_loss did not improve from 0.00228\n",
      "27/27 [==============================] - 3s 110ms/step - loss: 0.0055 - val_loss: 0.0034\n",
      "Epoch 10/25\n",
      "27/27 [==============================] - ETA: 0s - loss: 0.0056\n",
      "Epoch 10: val_loss did not improve from 0.00228\n",
      "27/27 [==============================] - 3s 111ms/step - loss: 0.0056 - val_loss: 0.0024\n",
      "Epoch 11/25\n",
      "27/27 [==============================] - ETA: 0s - loss: 0.0058\n",
      "Epoch 11: val_loss did not improve from 0.00228\n",
      "27/27 [==============================] - 3s 111ms/step - loss: 0.0058 - val_loss: 0.0027\n",
      "Epoch 12/25\n",
      "27/27 [==============================] - ETA: 0s - loss: 0.0050\n",
      "Epoch 12: val_loss improved from 0.00228 to 0.00220, saving model to weights_best.hdf5\n",
      "27/27 [==============================] - 3s 112ms/step - loss: 0.0050 - val_loss: 0.0022\n",
      "Epoch 13/25\n",
      "27/27 [==============================] - ETA: 0s - loss: 0.0044\n",
      "Epoch 13: val_loss improved from 0.00220 to 0.00193, saving model to weights_best.hdf5\n",
      "27/27 [==============================] - 3s 113ms/step - loss: 0.0044 - val_loss: 0.0019\n",
      "Epoch 14/25\n",
      "27/27 [==============================] - ETA: 0s - loss: 0.0054\n",
      "Epoch 14: val_loss did not improve from 0.00193\n",
      "27/27 [==============================] - 3s 110ms/step - loss: 0.0054 - val_loss: 0.0020\n",
      "Epoch 15/25\n",
      "27/27 [==============================] - ETA: 0s - loss: 0.0049\n",
      "Epoch 15: val_loss did not improve from 0.00193\n",
      "27/27 [==============================] - 3s 111ms/step - loss: 0.0049 - val_loss: 0.0028\n",
      "Epoch 16/25\n",
      "27/27 [==============================] - ETA: 0s - loss: 0.0050\n",
      "Epoch 16: val_loss did not improve from 0.00193\n",
      "27/27 [==============================] - 3s 112ms/step - loss: 0.0050 - val_loss: 0.0020\n",
      "Epoch 17/25\n",
      "27/27 [==============================] - ETA: 0s - loss: 0.0046\n",
      "Epoch 17: val_loss improved from 0.00193 to 0.00174, saving model to weights_best.hdf5\n",
      "27/27 [==============================] - 3s 112ms/step - loss: 0.0046 - val_loss: 0.0017\n",
      "Epoch 18/25\n",
      "27/27 [==============================] - ETA: 0s - loss: 0.0043\n",
      "Epoch 18: val_loss did not improve from 0.00174\n",
      "27/27 [==============================] - 3s 110ms/step - loss: 0.0043 - val_loss: 0.0029\n",
      "Epoch 19/25\n",
      "27/27 [==============================] - ETA: 0s - loss: 0.0045\n",
      "Epoch 19: val_loss did not improve from 0.00174\n",
      "27/27 [==============================] - 3s 110ms/step - loss: 0.0045 - val_loss: 0.0020\n",
      "Epoch 20/25\n",
      "27/27 [==============================] - ETA: 0s - loss: 0.0043\n",
      "Epoch 20: val_loss did not improve from 0.00174\n",
      "27/27 [==============================] - 3s 111ms/step - loss: 0.0043 - val_loss: 0.0019\n",
      "Epoch 21/25\n",
      "27/27 [==============================] - ETA: 0s - loss: 0.0043\n",
      "Epoch 21: val_loss did not improve from 0.00174\n",
      "27/27 [==============================] - 3s 109ms/step - loss: 0.0043 - val_loss: 0.0017\n",
      "Epoch 22/25\n",
      "27/27 [==============================] - ETA: 0s - loss: 0.0041\n",
      "Epoch 22: val_loss did not improve from 0.00174\n",
      "27/27 [==============================] - 3s 110ms/step - loss: 0.0041 - val_loss: 0.0024\n",
      "Epoch 23/25\n",
      "27/27 [==============================] - ETA: 0s - loss: 0.0042\n",
      "Epoch 23: val_loss improved from 0.00174 to 0.00165, saving model to weights_best.hdf5\n",
      "27/27 [==============================] - 3s 113ms/step - loss: 0.0042 - val_loss: 0.0017\n",
      "Epoch 24/25\n",
      "27/27 [==============================] - ETA: 0s - loss: 0.0041\n",
      "Epoch 24: val_loss did not improve from 0.00165\n",
      "27/27 [==============================] - 3s 110ms/step - loss: 0.0041 - val_loss: 0.0017\n",
      "Epoch 25/25\n",
      "27/27 [==============================] - ETA: 0s - loss: 0.0042\n",
      "Epoch 25: val_loss improved from 0.00165 to 0.00161, saving model to weights_best.hdf5\n",
      "27/27 [==============================] - 3s 113ms/step - loss: 0.0042 - val_loss: 0.0016\n",
      "27/27 [==============================] - 2s 30ms/step\n",
      "Epoch 1/25\n",
      "55/55 [==============================] - ETA: 0s - loss: 0.0208\n",
      "Epoch 1: val_loss improved from inf to 0.00063, saving model to weights_best.hdf5\n",
      "55/55 [==============================] - 11s 116ms/step - loss: 0.0208 - val_loss: 6.3271e-04\n",
      "Epoch 2/25\n",
      " 1/55 [..............................] - ETA: 4s - loss: 0.0101"
     ]
    },
    {
     "name": "stderr",
     "output_type": "stream",
     "text": [
      "/home/sergio/anaconda3/lib/python3.9/site-packages/keras/src/engine/training.py:3000: UserWarning: You are saving your model as an HDF5 file via `model.save()`. This file format is considered legacy. We recommend using instead the native Keras format, e.g. `model.save('my_model.keras')`.\n",
      "  saving_api.save_model(\n"
     ]
    },
    {
     "name": "stdout",
     "output_type": "stream",
     "text": [
      "55/55 [==============================] - ETA: 0s - loss: 0.0060\n",
      "Epoch 2: val_loss improved from 0.00063 to 0.00061, saving model to weights_best.hdf5\n",
      "55/55 [==============================] - 5s 96ms/step - loss: 0.0060 - val_loss: 6.0738e-04\n",
      "Epoch 3/25\n",
      "55/55 [==============================] - ETA: 0s - loss: 0.0061\n",
      "Epoch 3: val_loss improved from 0.00061 to 0.00048, saving model to weights_best.hdf5\n",
      "55/55 [==============================] - 5s 97ms/step - loss: 0.0061 - val_loss: 4.8266e-04\n",
      "Epoch 4/25\n",
      "55/55 [==============================] - ETA: 0s - loss: 0.0048\n",
      "Epoch 4: val_loss did not improve from 0.00048\n",
      "55/55 [==============================] - 5s 95ms/step - loss: 0.0048 - val_loss: 5.4701e-04\n",
      "Epoch 5/25\n",
      "55/55 [==============================] - ETA: 0s - loss: 0.0042\n",
      "Epoch 5: val_loss improved from 0.00048 to 0.00044, saving model to weights_best.hdf5\n",
      "55/55 [==============================] - 5s 97ms/step - loss: 0.0042 - val_loss: 4.3752e-04\n",
      "Epoch 6/25\n",
      "55/55 [==============================] - ETA: 0s - loss: 0.0041\n",
      "Epoch 6: val_loss did not improve from 0.00044\n",
      "55/55 [==============================] - 5s 95ms/step - loss: 0.0041 - val_loss: 5.6461e-04\n",
      "Epoch 7/25\n",
      "55/55 [==============================] - ETA: 0s - loss: 0.0043\n",
      "Epoch 7: val_loss improved from 0.00044 to 0.00041, saving model to weights_best.hdf5\n",
      "55/55 [==============================] - 5s 96ms/step - loss: 0.0043 - val_loss: 4.1123e-04\n",
      "Epoch 8/25\n",
      "55/55 [==============================] - ETA: 0s - loss: 0.0036\n",
      "Epoch 8: val_loss did not improve from 0.00041\n",
      "55/55 [==============================] - 5s 96ms/step - loss: 0.0036 - val_loss: 6.1931e-04\n",
      "Epoch 9/25\n",
      "55/55 [==============================] - ETA: 0s - loss: 0.0038\n",
      "Epoch 9: val_loss improved from 0.00041 to 0.00036, saving model to weights_best.hdf5\n",
      "55/55 [==============================] - 5s 97ms/step - loss: 0.0038 - val_loss: 3.5764e-04\n",
      "Epoch 10/25\n",
      "55/55 [==============================] - ETA: 0s - loss: 0.0038\n",
      "Epoch 10: val_loss improved from 0.00036 to 0.00033, saving model to weights_best.hdf5\n",
      "55/55 [==============================] - 5s 97ms/step - loss: 0.0038 - val_loss: 3.3279e-04\n",
      "Epoch 11/25\n",
      "55/55 [==============================] - ETA: 0s - loss: 0.0034\n",
      "Epoch 11: val_loss did not improve from 0.00033\n",
      "55/55 [==============================] - 5s 96ms/step - loss: 0.0034 - val_loss: 0.0010\n",
      "Epoch 12/25\n",
      "55/55 [==============================] - ETA: 0s - loss: 0.0034\n",
      "Epoch 12: val_loss did not improve from 0.00033\n",
      "55/55 [==============================] - 5s 95ms/step - loss: 0.0034 - val_loss: 3.6143e-04\n",
      "Epoch 13/25\n",
      "55/55 [==============================] - ETA: 0s - loss: 0.0032\n",
      "Epoch 13: val_loss improved from 0.00033 to 0.00028, saving model to weights_best.hdf5\n",
      "55/55 [==============================] - 5s 97ms/step - loss: 0.0032 - val_loss: 2.8387e-04\n",
      "Epoch 14/25\n",
      "55/55 [==============================] - ETA: 0s - loss: 0.0028\n",
      "Epoch 14: val_loss improved from 0.00028 to 0.00026, saving model to weights_best.hdf5\n",
      "55/55 [==============================] - 5s 96ms/step - loss: 0.0028 - val_loss: 2.6311e-04\n",
      "Epoch 15/25\n",
      "55/55 [==============================] - ETA: 0s - loss: 0.0030\n",
      "Epoch 15: val_loss did not improve from 0.00026\n",
      "55/55 [==============================] - 5s 96ms/step - loss: 0.0030 - val_loss: 6.9558e-04\n",
      "Epoch 16/25\n",
      "55/55 [==============================] - ETA: 0s - loss: 0.0029\n",
      "Epoch 16: val_loss did not improve from 0.00026\n",
      "55/55 [==============================] - 5s 96ms/step - loss: 0.0029 - val_loss: 2.8191e-04\n",
      "Epoch 17/25\n",
      "55/55 [==============================] - ETA: 0s - loss: 0.0026\n",
      "Epoch 17: val_loss did not improve from 0.00026\n",
      "55/55 [==============================] - 5s 95ms/step - loss: 0.0026 - val_loss: 2.6830e-04\n",
      "Epoch 18/25\n",
      "55/55 [==============================] - ETA: 0s - loss: 0.0026\n",
      "Epoch 18: val_loss did not improve from 0.00026\n",
      "55/55 [==============================] - 5s 95ms/step - loss: 0.0026 - val_loss: 4.2454e-04\n",
      "Epoch 19/25\n",
      "55/55 [==============================] - ETA: 0s - loss: 0.0026\n",
      "Epoch 19: val_loss improved from 0.00026 to 0.00024, saving model to weights_best.hdf5\n",
      "55/55 [==============================] - 5s 97ms/step - loss: 0.0026 - val_loss: 2.3701e-04\n",
      "Epoch 20/25\n",
      "55/55 [==============================] - ETA: 0s - loss: 0.0026\n",
      "Epoch 20: val_loss improved from 0.00024 to 0.00022, saving model to weights_best.hdf5\n",
      "55/55 [==============================] - 5s 96ms/step - loss: 0.0026 - val_loss: 2.1774e-04\n",
      "Epoch 21/25\n",
      "55/55 [==============================] - ETA: 0s - loss: 0.0026\n",
      "Epoch 21: val_loss did not improve from 0.00022\n",
      "55/55 [==============================] - 5s 96ms/step - loss: 0.0026 - val_loss: 2.6239e-04\n",
      "Epoch 22/25\n",
      "55/55 [==============================] - ETA: 0s - loss: 0.0025\n",
      "Epoch 22: val_loss improved from 0.00022 to 0.00022, saving model to weights_best.hdf5\n",
      "55/55 [==============================] - 5s 96ms/step - loss: 0.0025 - val_loss: 2.1753e-04\n",
      "Epoch 23/25\n",
      "55/55 [==============================] - ETA: 0s - loss: 0.0025\n",
      "Epoch 23: val_loss did not improve from 0.00022\n",
      "55/55 [==============================] - 5s 96ms/step - loss: 0.0025 - val_loss: 2.3067e-04\n",
      "Epoch 24/25\n",
      "55/55 [==============================] - ETA: 0s - loss: 0.0022\n",
      "Epoch 24: val_loss did not improve from 0.00022\n",
      "55/55 [==============================] - 5s 96ms/step - loss: 0.0022 - val_loss: 2.2301e-04\n",
      "Epoch 25/25\n",
      "55/55 [==============================] - ETA: 0s - loss: 0.0022\n",
      "Epoch 25: val_loss improved from 0.00022 to 0.00020, saving model to weights_best.hdf5\n",
      "55/55 [==============================] - 5s 97ms/step - loss: 0.0022 - val_loss: 2.0090e-04\n",
      "27/27 [==============================] - 2s 31ms/step\n",
      "Epoch 1/25\n",
      "83/83 [==============================] - ETA: 0s - loss: 0.0094\n",
      "Epoch 1: val_loss improved from inf to 0.00108, saving model to weights_best.hdf5\n",
      "83/83 [==============================] - 14s 105ms/step - loss: 0.0094 - val_loss: 0.0011\n",
      "Epoch 2/25\n",
      " 1/83 [..............................] - ETA: 7s - loss: 0.0085"
     ]
    },
    {
     "name": "stderr",
     "output_type": "stream",
     "text": [
      "/home/sergio/anaconda3/lib/python3.9/site-packages/keras/src/engine/training.py:3000: UserWarning: You are saving your model as an HDF5 file via `model.save()`. This file format is considered legacy. We recommend using instead the native Keras format, e.g. `model.save('my_model.keras')`.\n",
      "  saving_api.save_model(\n"
     ]
    },
    {
     "name": "stdout",
     "output_type": "stream",
     "text": [
      "83/83 [==============================] - ETA: 0s - loss: 0.0036\n",
      "Epoch 2: val_loss improved from 0.00108 to 0.00096, saving model to weights_best.hdf5\n",
      "83/83 [==============================] - 8s 91ms/step - loss: 0.0036 - val_loss: 9.5721e-04\n",
      "Epoch 3/25\n",
      "83/83 [==============================] - ETA: 0s - loss: 0.0034\n",
      "Epoch 3: val_loss did not improve from 0.00096\n",
      "83/83 [==============================] - 8s 91ms/step - loss: 0.0034 - val_loss: 0.0011\n",
      "Epoch 4/25\n",
      "83/83 [==============================] - ETA: 0s - loss: 0.0030\n",
      "Epoch 4: val_loss did not improve from 0.00096\n",
      "83/83 [==============================] - 8s 91ms/step - loss: 0.0030 - val_loss: 0.0014\n",
      "Epoch 5/25\n",
      "83/83 [==============================] - ETA: 0s - loss: 0.0027\n",
      "Epoch 5: val_loss did not improve from 0.00096\n",
      "83/83 [==============================] - 8s 91ms/step - loss: 0.0027 - val_loss: 0.0013\n",
      "Epoch 6/25\n",
      "83/83 [==============================] - ETA: 0s - loss: 0.0026\n",
      "Epoch 6: val_loss improved from 0.00096 to 0.00071, saving model to weights_best.hdf5\n",
      "83/83 [==============================] - 8s 91ms/step - loss: 0.0026 - val_loss: 7.1482e-04\n",
      "Epoch 7/25\n",
      "83/83 [==============================] - ETA: 0s - loss: 0.0024\n",
      "Epoch 7: val_loss did not improve from 0.00071\n",
      "83/83 [==============================] - 8s 91ms/step - loss: 0.0024 - val_loss: 8.0348e-04\n",
      "Epoch 8/25\n",
      "83/83 [==============================] - ETA: 0s - loss: 0.0022\n",
      "Epoch 8: val_loss did not improve from 0.00071\n",
      "83/83 [==============================] - 8s 91ms/step - loss: 0.0022 - val_loss: 0.0016\n",
      "Epoch 9/25\n",
      "83/83 [==============================] - ETA: 0s - loss: 0.0023\n",
      "Epoch 9: val_loss did not improve from 0.00071\n",
      "83/83 [==============================] - 8s 91ms/step - loss: 0.0023 - val_loss: 0.0012\n",
      "Epoch 10/25\n",
      "83/83 [==============================] - ETA: 0s - loss: 0.0021\n",
      "Epoch 10: val_loss improved from 0.00071 to 0.00066, saving model to weights_best.hdf5\n",
      "83/83 [==============================] - 8s 92ms/step - loss: 0.0021 - val_loss: 6.5976e-04\n",
      "Epoch 11/25\n",
      "83/83 [==============================] - ETA: 0s - loss: 0.0019\n",
      "Epoch 11: val_loss did not improve from 0.00066\n",
      "83/83 [==============================] - 8s 91ms/step - loss: 0.0019 - val_loss: 6.6757e-04\n",
      "Epoch 12/25\n",
      "83/83 [==============================] - ETA: 0s - loss: 0.0020\n",
      "Epoch 12: val_loss did not improve from 0.00066\n",
      "83/83 [==============================] - 8s 91ms/step - loss: 0.0020 - val_loss: 8.0615e-04\n",
      "Epoch 13/25\n",
      "83/83 [==============================] - ETA: 0s - loss: 0.0017\n",
      "Epoch 13: val_loss improved from 0.00066 to 0.00058, saving model to weights_best.hdf5\n",
      "83/83 [==============================] - 8s 92ms/step - loss: 0.0017 - val_loss: 5.8074e-04\n",
      "Epoch 14/25\n",
      "83/83 [==============================] - ETA: 0s - loss: 0.0018\n",
      "Epoch 14: val_loss did not improve from 0.00058\n",
      "83/83 [==============================] - 8s 91ms/step - loss: 0.0018 - val_loss: 8.7626e-04\n",
      "Epoch 15/25\n",
      "83/83 [==============================] - ETA: 0s - loss: 0.0017\n",
      "Epoch 15: val_loss improved from 0.00058 to 0.00052, saving model to weights_best.hdf5\n",
      "83/83 [==============================] - 8s 92ms/step - loss: 0.0017 - val_loss: 5.1707e-04\n",
      "Epoch 16/25\n",
      "83/83 [==============================] - ETA: 0s - loss: 0.0015\n",
      "Epoch 16: val_loss did not improve from 0.00052\n",
      "83/83 [==============================] - 8s 91ms/step - loss: 0.0015 - val_loss: 5.3927e-04\n",
      "Epoch 17/25\n",
      "83/83 [==============================] - ETA: 0s - loss: 0.0016\n",
      "Epoch 17: val_loss improved from 0.00052 to 0.00050, saving model to weights_best.hdf5\n",
      "83/83 [==============================] - 8s 92ms/step - loss: 0.0016 - val_loss: 4.9516e-04\n",
      "Epoch 18/25\n",
      "83/83 [==============================] - ETA: 0s - loss: 0.0015\n",
      "Epoch 18: val_loss did not improve from 0.00050\n",
      "83/83 [==============================] - 8s 92ms/step - loss: 0.0015 - val_loss: 5.0249e-04\n",
      "Epoch 19/25\n",
      "83/83 [==============================] - ETA: 0s - loss: 0.0014\n",
      "Epoch 19: val_loss improved from 0.00050 to 0.00046, saving model to weights_best.hdf5\n",
      "83/83 [==============================] - 8s 92ms/step - loss: 0.0014 - val_loss: 4.5737e-04\n",
      "Epoch 20/25\n",
      "83/83 [==============================] - ETA: 0s - loss: 0.0014\n",
      "Epoch 20: val_loss improved from 0.00046 to 0.00045, saving model to weights_best.hdf5\n",
      "83/83 [==============================] - 8s 92ms/step - loss: 0.0014 - val_loss: 4.4851e-04\n",
      "Epoch 21/25\n",
      "83/83 [==============================] - ETA: 0s - loss: 0.0014\n",
      "Epoch 21: val_loss did not improve from 0.00045\n",
      "83/83 [==============================] - 8s 92ms/step - loss: 0.0014 - val_loss: 5.4836e-04\n",
      "Epoch 22/25\n",
      "83/83 [==============================] - ETA: 0s - loss: 0.0013\n",
      "Epoch 22: val_loss improved from 0.00045 to 0.00042, saving model to weights_best.hdf5\n",
      "83/83 [==============================] - 8s 91ms/step - loss: 0.0013 - val_loss: 4.2384e-04\n",
      "Epoch 23/25\n",
      "83/83 [==============================] - ETA: 0s - loss: 0.0013\n",
      "Epoch 23: val_loss did not improve from 0.00042\n",
      "83/83 [==============================] - 8s 91ms/step - loss: 0.0013 - val_loss: 4.3866e-04\n",
      "Epoch 24/25\n",
      "83/83 [==============================] - ETA: 0s - loss: 0.0013\n",
      "Epoch 24: val_loss improved from 0.00042 to 0.00039, saving model to weights_best.hdf5\n",
      "83/83 [==============================] - 8s 92ms/step - loss: 0.0013 - val_loss: 3.9421e-04\n",
      "Epoch 25/25\n",
      "83/83 [==============================] - ETA: 0s - loss: 0.0012\n",
      "Epoch 25: val_loss improved from 0.00039 to 0.00039, saving model to weights_best.hdf5\n",
      "83/83 [==============================] - 8s 92ms/step - loss: 0.0012 - val_loss: 3.8510e-04\n",
      "27/27 [==============================] - 2s 32ms/step\n",
      "Epoch 1/25\n",
      "111/111 [==============================] - ETA: 0s - loss: 0.0098\n",
      "Epoch 1: val_loss improved from inf to 0.00092, saving model to weights_best.hdf5\n",
      "111/111 [==============================] - 16s 99ms/step - loss: 0.0098 - val_loss: 9.1708e-04\n",
      "Epoch 2/25\n",
      "  1/111 [..............................] - ETA: 9s - loss: 0.0040"
     ]
    },
    {
     "name": "stderr",
     "output_type": "stream",
     "text": [
      "/home/sergio/anaconda3/lib/python3.9/site-packages/keras/src/engine/training.py:3000: UserWarning: You are saving your model as an HDF5 file via `model.save()`. This file format is considered legacy. We recommend using instead the native Keras format, e.g. `model.save('my_model.keras')`.\n",
      "  saving_api.save_model(\n"
     ]
    },
    {
     "name": "stdout",
     "output_type": "stream",
     "text": [
      "111/111 [==============================] - ETA: 0s - loss: 0.0036\n",
      "Epoch 2: val_loss did not improve from 0.00092\n",
      "111/111 [==============================] - 10s 89ms/step - loss: 0.0036 - val_loss: 9.2193e-04\n",
      "Epoch 3/25\n",
      "111/111 [==============================] - ETA: 0s - loss: 0.0027\n",
      "Epoch 3: val_loss improved from 0.00092 to 0.00070, saving model to weights_best.hdf5\n",
      "111/111 [==============================] - 10s 89ms/step - loss: 0.0027 - val_loss: 7.0282e-04\n",
      "Epoch 4/25\n",
      "111/111 [==============================] - ETA: 0s - loss: 0.0026\n",
      "Epoch 4: val_loss did not improve from 0.00070\n",
      "111/111 [==============================] - 10s 89ms/step - loss: 0.0026 - val_loss: 8.3425e-04\n",
      "Epoch 5/25\n",
      "111/111 [==============================] - ETA: 0s - loss: 0.0023\n",
      "Epoch 5: val_loss did not improve from 0.00070\n",
      "111/111 [==============================] - 10s 88ms/step - loss: 0.0023 - val_loss: 0.0018\n",
      "Epoch 6/25\n",
      "111/111 [==============================] - ETA: 0s - loss: 0.0020\n",
      "Epoch 6: val_loss did not improve from 0.00070\n",
      "111/111 [==============================] - 10s 89ms/step - loss: 0.0020 - val_loss: 0.0014\n",
      "Epoch 7/25\n",
      "111/111 [==============================] - ETA: 0s - loss: 0.0022\n",
      "Epoch 7: val_loss did not improve from 0.00070\n",
      "111/111 [==============================] - 10s 89ms/step - loss: 0.0022 - val_loss: 0.0035\n",
      "Epoch 8/25\n",
      "111/111 [==============================] - ETA: 0s - loss: 0.0019\n",
      "Epoch 8: val_loss did not improve from 0.00070\n",
      "111/111 [==============================] - 10s 89ms/step - loss: 0.0019 - val_loss: 9.3803e-04\n",
      "Epoch 9/25\n",
      "111/111 [==============================] - ETA: 0s - loss: 0.0018\n",
      "Epoch 9: val_loss improved from 0.00070 to 0.00065, saving model to weights_best.hdf5\n",
      "111/111 [==============================] - 10s 89ms/step - loss: 0.0018 - val_loss: 6.5156e-04\n",
      "Epoch 10/25\n",
      "111/111 [==============================] - ETA: 0s - loss: 0.0018\n",
      "Epoch 10: val_loss did not improve from 0.00065\n",
      "111/111 [==============================] - 10s 89ms/step - loss: 0.0018 - val_loss: 9.1158e-04\n",
      "Epoch 11/25\n",
      "111/111 [==============================] - ETA: 0s - loss: 0.0017\n",
      "Epoch 11: val_loss improved from 0.00065 to 0.00053, saving model to weights_best.hdf5\n",
      "111/111 [==============================] - 10s 89ms/step - loss: 0.0017 - val_loss: 5.3218e-04\n",
      "Epoch 12/25\n",
      "111/111 [==============================] - ETA: 0s - loss: 0.0016\n",
      "Epoch 12: val_loss did not improve from 0.00053\n",
      "111/111 [==============================] - 10s 88ms/step - loss: 0.0016 - val_loss: 0.0016\n",
      "Epoch 13/25\n",
      "111/111 [==============================] - ETA: 0s - loss: 0.0016\n",
      "Epoch 13: val_loss did not improve from 0.00053\n",
      "111/111 [==============================] - 10s 88ms/step - loss: 0.0016 - val_loss: 0.0022\n",
      "Epoch 14/25\n",
      "111/111 [==============================] - ETA: 0s - loss: 0.0014\n",
      "Epoch 14: val_loss did not improve from 0.00053\n",
      "111/111 [==============================] - 10s 89ms/step - loss: 0.0014 - val_loss: 0.0015\n",
      "Epoch 15/25\n",
      "111/111 [==============================] - ETA: 0s - loss: 0.0014\n",
      "Epoch 15: val_loss did not improve from 0.00053\n",
      "111/111 [==============================] - 10s 88ms/step - loss: 0.0014 - val_loss: 0.0013\n",
      "Epoch 16/25\n",
      "111/111 [==============================] - ETA: 0s - loss: 0.0013\n",
      "Epoch 16: val_loss improved from 0.00053 to 0.00051, saving model to weights_best.hdf5\n",
      "111/111 [==============================] - 10s 89ms/step - loss: 0.0013 - val_loss: 5.1009e-04\n",
      "Epoch 17/25\n",
      "111/111 [==============================] - ETA: 0s - loss: 0.0013\n",
      "Epoch 17: val_loss improved from 0.00051 to 0.00034, saving model to weights_best.hdf5\n",
      "111/111 [==============================] - 10s 89ms/step - loss: 0.0013 - val_loss: 3.4199e-04\n",
      "Epoch 18/25\n",
      "111/111 [==============================] - ETA: 0s - loss: 0.0012\n",
      "Epoch 18: val_loss did not improve from 0.00034\n",
      "111/111 [==============================] - 10s 89ms/step - loss: 0.0012 - val_loss: 3.7455e-04\n",
      "Epoch 19/25\n",
      "111/111 [==============================] - ETA: 0s - loss: 0.0012\n",
      "Epoch 19: val_loss improved from 0.00034 to 0.00031, saving model to weights_best.hdf5\n",
      "111/111 [==============================] - 10s 89ms/step - loss: 0.0012 - val_loss: 3.0723e-04\n",
      "Epoch 20/25\n",
      "111/111 [==============================] - ETA: 0s - loss: 0.0012\n",
      "Epoch 20: val_loss did not improve from 0.00031\n",
      "111/111 [==============================] - 10s 89ms/step - loss: 0.0012 - val_loss: 4.5886e-04\n",
      "Epoch 21/25\n",
      "111/111 [==============================] - ETA: 0s - loss: 0.0011\n",
      "Epoch 21: val_loss improved from 0.00031 to 0.00029, saving model to weights_best.hdf5\n",
      "111/111 [==============================] - 10s 90ms/step - loss: 0.0011 - val_loss: 2.8791e-04\n",
      "Epoch 22/25\n",
      "111/111 [==============================] - ETA: 0s - loss: 0.0010\n",
      "Epoch 22: val_loss did not improve from 0.00029\n",
      "111/111 [==============================] - 10s 88ms/step - loss: 0.0010 - val_loss: 7.6942e-04\n",
      "Epoch 23/25\n",
      "111/111 [==============================] - ETA: 0s - loss: 0.0010\n",
      "Epoch 23: val_loss improved from 0.00029 to 0.00027, saving model to weights_best.hdf5\n",
      "111/111 [==============================] - 10s 89ms/step - loss: 0.0010 - val_loss: 2.7363e-04\n",
      "Epoch 24/25\n",
      "111/111 [==============================] - ETA: 0s - loss: 0.0010\n",
      "Epoch 24: val_loss did not improve from 0.00027\n",
      "111/111 [==============================] - 10s 88ms/step - loss: 0.0010 - val_loss: 8.6285e-04\n",
      "Epoch 25/25\n",
      "111/111 [==============================] - ETA: 0s - loss: 0.0010\n",
      "Epoch 25: val_loss did not improve from 0.00027\n",
      "111/111 [==============================] - 10s 89ms/step - loss: 0.0010 - val_loss: 6.4344e-04\n",
      "27/27 [==============================] - 2s 31ms/step\n",
      "Epoch 1/25\n",
      "139/139 [==============================] - ETA: 0s - loss: 0.0087\n",
      "Epoch 1: val_loss improved from inf to 0.00138, saving model to weights_best.hdf5\n",
      "139/139 [==============================] - 19s 95ms/step - loss: 0.0087 - val_loss: 0.0014\n",
      "Epoch 2/25\n",
      "  1/139 [..............................] - ETA: 11s - loss: 0.0041"
     ]
    },
    {
     "name": "stderr",
     "output_type": "stream",
     "text": [
      "/home/sergio/anaconda3/lib/python3.9/site-packages/keras/src/engine/training.py:3000: UserWarning: You are saving your model as an HDF5 file via `model.save()`. This file format is considered legacy. We recommend using instead the native Keras format, e.g. `model.save('my_model.keras')`.\n",
      "  saving_api.save_model(\n"
     ]
    },
    {
     "name": "stdout",
     "output_type": "stream",
     "text": [
      "139/139 [==============================] - ETA: 0s - loss: 0.0034\n",
      "Epoch 2: val_loss did not improve from 0.00138\n",
      "139/139 [==============================] - 12s 87ms/step - loss: 0.0034 - val_loss: 0.0014\n",
      "Epoch 3/25\n",
      "139/139 [==============================] - ETA: 0s - loss: 0.0037\n",
      "Epoch 3: val_loss did not improve from 0.00138\n",
      "139/139 [==============================] - 12s 87ms/step - loss: 0.0037 - val_loss: 0.0014\n",
      "Epoch 4/25\n",
      "139/139 [==============================] - ETA: 0s - loss: 0.0029\n",
      "Epoch 4: val_loss did not improve from 0.00138\n",
      "139/139 [==============================] - 12s 87ms/step - loss: 0.0029 - val_loss: 0.0028\n",
      "Epoch 5/25\n",
      "139/139 [==============================] - ETA: 0s - loss: 0.0026\n",
      "Epoch 5: val_loss did not improve from 0.00138\n",
      "139/139 [==============================] - 12s 87ms/step - loss: 0.0026 - val_loss: 0.0024\n",
      "Epoch 6/25\n",
      "139/139 [==============================] - ETA: 0s - loss: 0.0023\n",
      "Epoch 6: val_loss did not improve from 0.00138\n",
      "139/139 [==============================] - 12s 87ms/step - loss: 0.0023 - val_loss: 0.0053\n",
      "Epoch 7/25\n",
      "139/139 [==============================] - ETA: 0s - loss: 0.0022\n",
      "Epoch 7: val_loss did not improve from 0.00138\n",
      "139/139 [==============================] - 12s 87ms/step - loss: 0.0022 - val_loss: 0.0047\n",
      "Epoch 8/25\n",
      "139/139 [==============================] - ETA: 0s - loss: 0.0023\n",
      "Epoch 8: val_loss improved from 0.00138 to 0.00062, saving model to weights_best.hdf5\n",
      "139/139 [==============================] - 12s 88ms/step - loss: 0.0023 - val_loss: 6.2428e-04\n",
      "Epoch 9/25\n",
      "139/139 [==============================] - ETA: 0s - loss: 0.0019\n",
      "Epoch 9: val_loss did not improve from 0.00062\n",
      "139/139 [==============================] - 12s 87ms/step - loss: 0.0019 - val_loss: 9.6949e-04\n",
      "Epoch 10/25\n",
      "139/139 [==============================] - ETA: 0s - loss: 0.0020\n",
      "Epoch 10: val_loss did not improve from 0.00062\n",
      "139/139 [==============================] - 12s 87ms/step - loss: 0.0020 - val_loss: 0.0011\n",
      "Epoch 11/25\n",
      "139/139 [==============================] - ETA: 0s - loss: 0.0018\n",
      "Epoch 11: val_loss did not improve from 0.00062\n",
      "139/139 [==============================] - 12s 87ms/step - loss: 0.0018 - val_loss: 7.7698e-04\n",
      "Epoch 12/25\n",
      "139/139 [==============================] - ETA: 0s - loss: 0.0017\n",
      "Epoch 12: val_loss did not improve from 0.00062\n",
      "139/139 [==============================] - 12s 87ms/step - loss: 0.0017 - val_loss: 0.0039\n",
      "Epoch 13/25\n",
      "139/139 [==============================] - ETA: 0s - loss: 0.0016\n",
      "Epoch 13: val_loss did not improve from 0.00062\n",
      "139/139 [==============================] - 12s 88ms/step - loss: 0.0016 - val_loss: 0.0011\n",
      "Epoch 14/25\n",
      "139/139 [==============================] - ETA: 0s - loss: 0.0016\n",
      "Epoch 14: val_loss did not improve from 0.00062\n",
      "139/139 [==============================] - 12s 87ms/step - loss: 0.0016 - val_loss: 0.0011\n",
      "Epoch 15/25\n",
      "139/139 [==============================] - ETA: 0s - loss: 0.0015\n",
      "Epoch 15: val_loss did not improve from 0.00062\n",
      "139/139 [==============================] - 14s 103ms/step - loss: 0.0015 - val_loss: 0.0089\n",
      "Epoch 16/25\n",
      "139/139 [==============================] - ETA: 0s - loss: 0.0015\n",
      "Epoch 16: val_loss did not improve from 0.00062\n",
      "139/139 [==============================] - 15s 105ms/step - loss: 0.0015 - val_loss: 0.0011\n",
      "Epoch 17/25\n",
      "139/139 [==============================] - ETA: 0s - loss: 0.0013\n",
      "Epoch 17: val_loss did not improve from 0.00062\n",
      "139/139 [==============================] - 14s 98ms/step - loss: 0.0013 - val_loss: 8.1328e-04\n",
      "Epoch 18/25\n",
      "139/139 [==============================] - ETA: 0s - loss: 0.0013\n",
      "Epoch 18: val_loss did not improve from 0.00062\n",
      "139/139 [==============================] - 14s 100ms/step - loss: 0.0013 - val_loss: 6.4186e-04\n",
      "Epoch 19/25\n",
      "139/139 [==============================] - ETA: 0s - loss: 0.0013\n",
      "Epoch 19: val_loss improved from 0.00062 to 0.00057, saving model to weights_best.hdf5\n",
      "139/139 [==============================] - 13s 93ms/step - loss: 0.0013 - val_loss: 5.7362e-04\n",
      "Epoch 20/25\n",
      "139/139 [==============================] - ETA: 0s - loss: 0.0013\n",
      "Epoch 20: val_loss improved from 0.00057 to 0.00045, saving model to weights_best.hdf5\n",
      "139/139 [==============================] - 13s 92ms/step - loss: 0.0013 - val_loss: 4.5165e-04\n",
      "Epoch 21/25\n",
      "139/139 [==============================] - ETA: 0s - loss: 0.0012\n",
      "Epoch 21: val_loss improved from 0.00045 to 0.00033, saving model to weights_best.hdf5\n",
      "139/139 [==============================] - 14s 103ms/step - loss: 0.0012 - val_loss: 3.2818e-04\n",
      "Epoch 22/25\n",
      "139/139 [==============================] - ETA: 0s - loss: 0.0012\n",
      "Epoch 22: val_loss did not improve from 0.00033\n",
      "139/139 [==============================] - 13s 94ms/step - loss: 0.0012 - val_loss: 4.5591e-04\n",
      "Epoch 23/25\n",
      "139/139 [==============================] - ETA: 0s - loss: 0.0011\n",
      "Epoch 23: val_loss did not improve from 0.00033\n",
      "139/139 [==============================] - 13s 93ms/step - loss: 0.0011 - val_loss: 4.7855e-04\n",
      "Epoch 24/25\n",
      "139/139 [==============================] - ETA: 0s - loss: 0.0010\n",
      "Epoch 24: val_loss did not improve from 0.00033\n",
      "139/139 [==============================] - 13s 94ms/step - loss: 0.0010 - val_loss: 8.0253e-04\n",
      "Epoch 25/25\n",
      "139/139 [==============================] - ETA: 0s - loss: 0.0011\n",
      "Epoch 25: val_loss did not improve from 0.00033\n",
      "139/139 [==============================] - 14s 99ms/step - loss: 0.0011 - val_loss: 6.9393e-04\n",
      "27/27 [==============================] - 2s 34ms/step\n"
     ]
    }
   ],
   "source": [
    "history_list, mse_values = train_lstm_cv(train['Close'], 60, model_function=LSTMModel)"
   ]
  },
  {
   "cell_type": "markdown",
   "id": "c8e0e3c0-f4cc-45fa-bc8b-da796382fba1",
   "metadata": {},
   "source": [
    "Let's compute the average MSE and standard deviation:"
   ]
  },
  {
   "cell_type": "code",
   "execution_count": 58,
   "id": "5d83b759-5d03-4f9c-b798-45249c49567b",
   "metadata": {},
   "outputs": [
    {
     "name": "stdout",
     "output_type": "stream",
     "text": [
      "Average MSE across all folds: 0.4390\n",
      "MSE standard deviation: 0.2807\n"
     ]
    }
   ],
   "source": [
    "# Compute average MSE and its standard deviation\n",
    "average_mse = np.mean(mse_values)\n",
    "mse_std = np.std(mse_values)\n",
    "\n",
    "print(f\"Average MSE across all folds: {average_mse:.4f}\")\n",
    "print(f\"MSE standard deviation: {mse_std:.4f}\")"
   ]
  },
  {
   "cell_type": "markdown",
   "id": "85074ce2-81d9-4e7a-9dfc-95850144c300",
   "metadata": {},
   "source": [
    "From these values, and recalling that the MSE on the test set is around 2.66, we can conclude the following:\n",
    "\n",
    "1. The LSTM model, on average, performed better during cross-validation compared to its performance on the test set.\n",
    "\n",
    "2. There is a relatively moderate variability in the performance across the different folds, as indicated by the standard deviation of the MSE values being similar to the mean MSE of cross validation. This suggests that the model might be sensitive to the specific portions of the dataset it is trained on, which might be a sign of the model slightly overfitting to particular patterns in specific subsets of the data.\n",
    "\n",
    "3. The higher MSE on the test set compared to the average cross-validation MSE might indicate overfitting, or it might reflect that the test set has some characteristics or patterns that were not present in the training data. This could be due to the drastic drop due to the onset of the COVID pandemic."
   ]
  },
  {
   "cell_type": "markdown",
   "id": "1e79ff6d-a2c1-4602-860c-718744530d2c",
   "metadata": {},
   "source": [
    "We can have a look at the mean on the different folds:"
   ]
  },
  {
   "cell_type": "code",
   "execution_count": 59,
   "id": "e6f99114-3607-4c14-af5d-0a91384c3cac",
   "metadata": {},
   "outputs": [
    {
     "data": {
      "text/plain": [
       "[0.9507002120255099,\n",
       " 0.12995407001454698,\n",
       " 0.24911492146949116,\n",
       " 0.41622265535807135,\n",
       " 0.44888451762600645]"
      ]
     },
     "execution_count": 59,
     "metadata": {},
     "output_type": "execute_result"
    }
   ],
   "source": [
    "mse_values"
   ]
  },
  {
   "cell_type": "markdown",
   "id": "a6301b2b-f62f-48d3-a152-fdce8ad9935b",
   "metadata": {},
   "source": [
    "Indeed we observe a moderate variability in the performance on different folds. The MSE appears to follow a declining trend from the first fold (higher MSE of 0.95) to the second fold (lowest MSE of 0.12) with the highest MSE being approximately 8.5 times the lowest MSE, and then gradually increases from the second fold to the fifth. \n",
    "\n",
    "A higher MSE in the first fold could be indicating underfitting. Underfitting is especially plausible to happen in the first fold of a time series cross-validation for several reasons. One reason is limited data: in the first fold of a time series cross-validation, the training dataset is the smallest. If the initial segment of data is not sufficiently diverse, the model might not learn the underlying temporal structures effectively. Other reason is changing dynamics: if the time series data has non-stationary characteristics as in our case, the initial segments might not represent the later segments well. In such cases, a model trained on early data may underperform when tested on later segments.\n",
    "\n",
    "The second fold (MSE: 0.1299) shows a significant drop in error. This indicates that the model performs much better on this segment. The error starts to increase gradually from the third fold onwards. The increasing error trend could be due to overfitting: the model is trained cumulatively on previous folds, so it might start memorizing the training data, thus reducing its ability to generalize on new data. Another reason could be a data behavior shift: the later parts of the data might contain different or more complex patterns than the earlier parts which the model has not seen before, increasing prediction errors.\n",
    "\n",
    "The high test set MSE relative to the cross-validation MSEs might raise concerns about the model's generalization capabilities. This could be due to the test set containing different, more complex patterns, or it could be a sign that the model might be overfitting to the training data, hence performing poorly on unseen data."
   ]
  },
  {
   "cell_type": "markdown",
   "id": "d1eb3e96-01fa-4866-a5cc-2f40e39d42a7",
   "metadata": {},
   "source": [
    "Comparing the plots of the MSE on the train and validation sets for the different folds as a function of the epoch may shed light on this issue:"
   ]
  },
  {
   "cell_type": "code",
   "execution_count": 60,
   "id": "52537b19-02bb-47d9-913e-347170342c29",
   "metadata": {},
   "outputs": [
    {
     "data": {
      "image/png": "[encoded data removed]",
      "text/plain": [
       "<Figure size 1080x720 with 5 Axes>"
      ]
     },
     "metadata": {
      "needs_background": "light"
     },
     "output_type": "display_data"
    }
   ],
   "source": [
    "def plot_history(history_list):\n",
    "    \"\"\"\n",
    "    Plot the training and validation loss across multiple histories.\n",
    "    \n",
    "    Args:\n",
    "    - history_list (list): List of training histories.\n",
    "    \"\"\"\n",
    "    plt.figure(figsize=(15, 10))\n",
    "    \n",
    "    # Iterate over each history item\n",
    "    for index, history in enumerate(history_list, 1):\n",
    "        plt.subplot(len(history_list), 2, 2*index - 1)\n",
    "        plt.plot(history.history['loss'], label='Train Loss')\n",
    "        plt.plot(history.history['val_loss'], label='Validation Loss', linestyle='--')\n",
    "        plt.title(f'Fold {index} Loss')\n",
    "        plt.xlabel('Epochs')\n",
    "        plt.ylabel('Mean Squared Error (MSE)')\n",
    "        plt.legend()\n",
    "        \n",
    "    plt.tight_layout()\n",
    "    plt.show()\n",
    "\n",
    "# Call the function\n",
    "plot_history(history_list)"
   ]
  },
  {
   "cell_type": "markdown",
   "id": "497cf53d-0f27-4157-a888-e022d3d04f48",
   "metadata": {},
   "source": [
    "The higher value of MSE on the first fold along with the higher values of training and validation losses compared to the other folds suggests underfitting in this early step, at least in comparison with the later steps. \n",
    "\n",
    "Train and validation losses decrease subsequently until the fourth fold, where the validation loss curve has for the first time segments above the train loss curve. In the last fold train and validation losses have increased to the level of the third fold, and the validation loss curve has a few peaks above the train loss curve, with one value significantly higher. This succession suggests overfitting: the model is getting better at predicting the training data but worse at generalizing to new, unseen data."
   ]
  },
  {
   "cell_type": "markdown",
   "id": "c445ee5f-d34c-4006-b772-bd6707a31d8a",
   "metadata": {},
   "source": [
    "As a conclusion of our cross-validation analysis we can expect our model to show slight overfitting. In order to take care of this issue, an additional step of further tuning the architecture and hyperparameters of the model would be needed, which we are not taking here."
   ]
  },
  {
   "cell_type": "markdown",
   "id": "623bf0f6-2844-4d81-ba9b-510abe4b5194",
   "metadata": {},
   "source": [
    "#### Addressing overfitting"
   ]
  },
  {
   "cell_type": "markdown",
   "id": "24191fb9-434e-4e61-b014-8ce8c41a7743",
   "metadata": {},
   "source": [
    "A modification of our previous LSTM model that reduces overfitting is introduced here. We implement L2 regularization for each layer and reduce the slide window (the number of past data points we use to create the sequences that are fed to the model) from 60 to 20. "
   ]
  },
  {
   "cell_type": "code",
   "execution_count": 61,
   "id": "80b26bb8-584a-4953-beca-21570ddaa2d8",
   "metadata": {},
   "outputs": [],
   "source": [
    "# Create sequences from train and test data\n",
    "X_train, y_train = create_sequences(train_scaled['Close'], seq_length=20)\n",
    "X_test, y_test = create_sequences(test_scaled['Close'], seq_length=20)\n",
    "\n",
    "# Reshape the inputs to be suitable for LSTM\n",
    "X_train = np.reshape(X_train, (X_train.shape[0], X_train.shape[1], 1))\n",
    "X_test = np.reshape(X_test, (X_test.shape[0], X_test.shape[1], 1))"
   ]
  },
  {
   "cell_type": "code",
   "execution_count": 62,
   "id": "19ae7452-1754-4560-99d6-2ced7880d50a",
   "metadata": {},
   "outputs": [],
   "source": [
    "from keras.regularizers import l2\n",
    "\n",
    "class LSTMModel2:\n",
    "    def __init__(self, input_shape, l2_reg_strength=0.05):\n",
    "        self.input_shape = input_shape\n",
    "        self.l2_reg_strength = l2_reg_strength\n",
    "        \n",
    "        # Call the '_build_model' method to construct the actual LSTM and store it in the 'self.model' attribute\n",
    "        self.model = self._build_model()\n",
    "\n",
    "    def _build_model(self):\n",
    "        model = Sequential()\n",
    "\n",
    "        # Using instance variable for regularization strength\n",
    "        model.add(LSTM(units=50, return_sequences=True, input_shape=self.input_shape, \n",
    "                       kernel_regularizer=l2(self.l2_reg_strength), \n",
    "                       recurrent_regularizer=l2(self.l2_reg_strength)))\n",
    "        model.add(Dropout(0.2))\n",
    "        \n",
    "        model.add(LSTM(units=50, \n",
    "                       kernel_regularizer=l2(self.l2_reg_strength), \n",
    "                       recurrent_regularizer=l2(self.l2_reg_strength)))\n",
    "        model.add(Dropout(0.2))\n",
    "        \n",
    "        model.add(Dense(1))\n",
    "        return model"
   ]
  },
  {
   "cell_type": "markdown",
   "id": "2a04e36c-fd57-4b91-a0fe-4508b91bf392",
   "metadata": {},
   "source": [
    "This second LSTM model architecture now looks as follows:"
   ]
  },
  {
   "cell_type": "code",
   "execution_count": 63,
   "id": "95520ec6-adde-4cdd-b96c-3a8fa34277cb",
   "metadata": {},
   "outputs": [
    {
     "name": "stdout",
     "output_type": "stream",
     "text": [
      "Model: \"sequential_6\"\n",
      "_________________________________________________________________\n",
      " Layer (type)                Output Shape              Param #   \n",
      "=================================================================\n",
      " lstm_18 (LSTM)              (None, None, 50)          10400     \n",
      "                                                                 \n",
      " dropout_18 (Dropout)        (None, None, 50)          0         \n",
      "                                                                 \n",
      " lstm_19 (LSTM)              (None, 50)                20200     \n",
      "                                                                 \n",
      " dropout_19 (Dropout)        (None, 50)                0         \n",
      "                                                                 \n",
      " dense_6 (Dense)             (None, 1)                 51        \n",
      "                                                                 \n",
      "=================================================================\n",
      "Total params: 30651 (119.73 KB)\n",
      "Trainable params: 30651 (119.73 KB)\n",
      "Non-trainable params: 0 (0.00 Byte)\n",
      "_________________________________________________________________\n"
     ]
    }
   ],
   "source": [
    "# Print out a summary of the model\n",
    "lstm_model = LSTMModel2((None, 1),l2_reg_strength=0.01)\n",
    "lstm_model.model.summary()"
   ]
  },
  {
   "cell_type": "markdown",
   "id": "53d37f89-2c07-4ab9-b511-f0bae3357d67",
   "metadata": {},
   "source": [
    "Compiling and training the LSTMModel2"
   ]
  },
  {
   "cell_type": "code",
   "execution_count": 64,
   "id": "c73e6a1f-5743-4c0f-b2c9-eca354a99ca0",
   "metadata": {},
   "outputs": [],
   "source": [
    "lstm_model.model.compile(optimizer='adam', loss='mean_squared_error')"
   ]
  },
  {
   "cell_type": "code",
   "execution_count": 65,
   "id": "f4457280-8bc0-4300-a26d-14c51bf00f52",
   "metadata": {},
   "outputs": [],
   "source": [
    "checkpointer = ModelCheckpoint(\n",
    "    filepath = 'weights_best2.hdf5', \n",
    "    verbose = 2, \n",
    "    save_best_only = True\n",
    ")\n"
   ]
  },
  {
   "cell_type": "code",
   "execution_count": 66,
   "id": "fba4fdeb-b9a1-4b43-8f79-c01c269aee5c",
   "metadata": {
    "scrolled": true
   },
   "outputs": [
    {
     "name": "stdout",
     "output_type": "stream",
     "text": [
      "Epoch 1/25\n",
      "167/168 [============================>.] - ETA: 0s - loss: 0.5497WARNING:tensorflow:Can save best model only with val_loss available, skipping.\n",
      "168/168 [==============================] - 9s 30ms/step - loss: 0.5484\n",
      "Epoch 2/25\n",
      "167/168 [============================>.] - ETA: 0s - loss: 0.0276WARNING:tensorflow:Can save best model only with val_loss available, skipping.\n",
      "168/168 [==============================] - 5s 27ms/step - loss: 0.0275\n",
      "Epoch 3/25\n",
      "166/168 [============================>.] - ETA: 0s - loss: 0.0107WARNING:tensorflow:Can save best model only with val_loss available, skipping.\n",
      "168/168 [==============================] - 4s 23ms/step - loss: 0.0107\n",
      "Epoch 4/25\n",
      "167/168 [============================>.] - ETA: 0s - loss: 0.0092WARNING:tensorflow:Can save best model only with val_loss available, skipping.\n",
      "168/168 [==============================] - 4s 22ms/step - loss: 0.0092\n",
      "Epoch 5/25\n",
      "166/168 [============================>.] - ETA: 0s - loss: 0.0080WARNING:tensorflow:Can save best model only with val_loss available, skipping.\n",
      "168/168 [==============================] - 4s 22ms/step - loss: 0.0080\n",
      "Epoch 6/25\n",
      "166/168 [============================>.] - ETA: 0s - loss: 0.0073WARNING:tensorflow:Can save best model only with val_loss available, skipping.\n",
      "168/168 [==============================] - 4s 23ms/step - loss: 0.0073\n",
      "Epoch 7/25\n",
      "167/168 [============================>.] - ETA: 0s - loss: 0.0064WARNING:tensorflow:Can save best model only with val_loss available, skipping.\n",
      "168/168 [==============================] - 4s 23ms/step - loss: 0.0064\n",
      "Epoch 8/25\n",
      "166/168 [============================>.] - ETA: 0s - loss: 0.0058WARNING:tensorflow:Can save best model only with val_loss available, skipping.\n",
      "168/168 [==============================] - 4s 23ms/step - loss: 0.0058\n",
      "Epoch 9/25\n",
      "166/168 [============================>.] - ETA: 0s - loss: 0.0055WARNING:tensorflow:Can save best model only with val_loss available, skipping.\n",
      "168/168 [==============================] - 4s 22ms/step - loss: 0.0055\n",
      "Epoch 10/25\n",
      "167/168 [============================>.] - ETA: 0s - loss: 0.0050WARNING:tensorflow:Can save best model only with val_loss available, skipping.\n",
      "168/168 [==============================] - 4s 23ms/step - loss: 0.0050\n",
      "Epoch 11/25\n",
      "167/168 [============================>.] - ETA: 0s - loss: 0.0047WARNING:tensorflow:Can save best model only with val_loss available, skipping.\n",
      "168/168 [==============================] - 4s 23ms/step - loss: 0.0048\n",
      "Epoch 12/25\n",
      "168/168 [==============================] - ETA: 0s - loss: 0.0046WARNING:tensorflow:Can save best model only with val_loss available, skipping.\n",
      "168/168 [==============================] - 4s 22ms/step - loss: 0.0046\n",
      "Epoch 13/25\n",
      "168/168 [==============================] - ETA: 0s - loss: 0.0044WARNING:tensorflow:Can save best model only with val_loss available, skipping.\n",
      "168/168 [==============================] - 4s 23ms/step - loss: 0.0044\n",
      "Epoch 14/25\n",
      "168/168 [==============================] - ETA: 0s - loss: 0.0045WARNING:tensorflow:Can save best model only with val_loss available, skipping.\n",
      "168/168 [==============================] - 4s 23ms/step - loss: 0.0045\n",
      "Epoch 15/25\n",
      "166/168 [============================>.] - ETA: 0s - loss: 0.0042WARNING:tensorflow:Can save best model only with val_loss available, skipping.\n",
      "168/168 [==============================] - 4s 23ms/step - loss: 0.0042\n",
      "Epoch 16/25\n",
      "166/168 [============================>.] - ETA: 0s - loss: 0.0039WARNING:tensorflow:Can save best model only with val_loss available, skipping.\n",
      "168/168 [==============================] - 4s 23ms/step - loss: 0.0039\n",
      "Epoch 17/25\n",
      "167/168 [============================>.] - ETA: 0s - loss: 0.0040WARNING:tensorflow:Can save best model only with val_loss available, skipping.\n",
      "168/168 [==============================] - 4s 25ms/step - loss: 0.0040\n",
      "Epoch 18/25\n",
      "168/168 [==============================] - ETA: 0s - loss: 0.0039WARNING:tensorflow:Can save best model only with val_loss available, skipping.\n",
      "168/168 [==============================] - 4s 24ms/step - loss: 0.0039\n",
      "Epoch 19/25\n",
      "168/168 [==============================] - ETA: 0s - loss: 0.0039WARNING:tensorflow:Can save best model only with val_loss available, skipping.\n",
      "168/168 [==============================] - 4s 24ms/step - loss: 0.0039\n",
      "Epoch 20/25\n",
      "166/168 [============================>.] - ETA: 0s - loss: 0.0037WARNING:tensorflow:Can save best model only with val_loss available, skipping.\n",
      "168/168 [==============================] - 4s 25ms/step - loss: 0.0037\n",
      "Epoch 21/25\n",
      "166/168 [============================>.] - ETA: 0s - loss: 0.0038WARNING:tensorflow:Can save best model only with val_loss available, skipping.\n",
      "168/168 [==============================] - 5s 27ms/step - loss: 0.0038\n",
      "Epoch 22/25\n",
      "167/168 [============================>.] - ETA: 0s - loss: 0.0037WARNING:tensorflow:Can save best model only with val_loss available, skipping.\n",
      "168/168 [==============================] - 6s 37ms/step - loss: 0.0037\n",
      "Epoch 23/25\n",
      "166/168 [============================>.] - ETA: 0s - loss: 0.0035WARNING:tensorflow:Can save best model only with val_loss available, skipping.\n",
      "168/168 [==============================] - 5s 31ms/step - loss: 0.0035\n",
      "Epoch 24/25\n",
      "168/168 [==============================] - ETA: 0s - loss: 0.0035WARNING:tensorflow:Can save best model only with val_loss available, skipping.\n",
      "168/168 [==============================] - 5s 30ms/step - loss: 0.0035\n",
      "Epoch 25/25\n",
      "167/168 [============================>.] - ETA: 0s - loss: 0.0037WARNING:tensorflow:Can save best model only with val_loss available, skipping.\n",
      "168/168 [==============================] - 5s 30ms/step - loss: 0.0037\n"
     ]
    },
    {
     "data": {
      "text/plain": [
       "<keras.src.callbacks.History at 0x7fc97b65df70>"
      ]
     },
     "execution_count": 66,
     "metadata": {},
     "output_type": "execute_result"
    }
   ],
   "source": [
    "lstm_model.model.fit(\n",
    "    X_train, \n",
    "    y_train, \n",
    "    epochs=25, \n",
    "    batch_size = 32,\n",
    "    callbacks = [checkpointer]\n",
    ")"
   ]
  },
  {
   "cell_type": "code",
   "execution_count": 67,
   "id": "7b210cd9-cd2f-43e5-bb56-4fa73be5c435",
   "metadata": {},
   "outputs": [
    {
     "name": "stdout",
     "output_type": "stream",
     "text": [
      "42/42 [==============================] - 2s 12ms/step\n"
     ]
    }
   ],
   "source": [
    "# Compute the predicted values on the test set\n",
    "test_predict = lstm_model.model.predict(X_test)\n",
    "# Undo the scaling transformation on the predicted values 'test_predict' and the actual test values 'y_test'\n",
    "test_predict = scaler.inverse_transform(test_predict)\n"
   ]
  },
  {
   "cell_type": "code",
   "execution_count": 68,
   "id": "75182b51-0393-4320-9c0f-577dbe4406fb",
   "metadata": {},
   "outputs": [],
   "source": [
    "# Reshape y_test to a 2D array structure for input to scaler\n",
    "y_test_reshaped = y_test.reshape(-1, 1)\n",
    "y_test = scaler.inverse_transform(y_test_reshaped)"
   ]
  },
  {
   "cell_type": "markdown",
   "id": "ae69e6c3-44cc-4181-96d1-33900fa1fcd0",
   "metadata": {},
   "source": [
    "Let's plot our prediction versus actual values on the test set for our second LSTM model:"
   ]
  },
  {
   "cell_type": "code",
   "execution_count": 69,
   "id": "be44d09b-9323-4f08-8ef0-e1cece6da044",
   "metadata": {},
   "outputs": [
    {
     "data": {
      "image/png": "[encoded data removed]",
      "text/plain": [
       "<Figure size 1008x504 with 1 Axes>"
      ]
     },
     "metadata": {
      "needs_background": "light"
     },
     "output_type": "display_data"
    }
   ],
   "source": [
    "# Plot test predictions and actual values\n",
    "plt.figure(figsize=(14,7))\n",
    "plt.plot(y_test, label='True Test Values')\n",
    "plt.plot(test_predict, label='Test Predictions')\n",
    "plt.title('Comparison of Test Set Predictions and True Values')\n",
    "plt.xlabel('Time Step')\n",
    "plt.ylabel('Close Price')\n",
    "plt.legend()\n",
    "plt.show()"
   ]
  },
  {
   "cell_type": "code",
   "execution_count": 70,
   "id": "13fb293b-2fe4-44a2-ae1a-bb647acc9057",
   "metadata": {},
   "outputs": [
    {
     "name": "stdout",
     "output_type": "stream",
     "text": [
      "5.595769797308592\n"
     ]
    }
   ],
   "source": [
    "mse = mean_squared_error(y_test, test_predict)\n",
    "print(mse)"
   ]
  },
  {
   "cell_type": "markdown",
   "id": "2aea0c28-9edf-459d-9735-c10cf41f659d",
   "metadata": {},
   "source": [
    "We note that overall trends are captured but the MSE has increased. This is typically the price to pay for overfitting avoidance.\n",
    "\n",
    "A cross-validation analysis will determine whether we have correctly taken care of overfitting."
   ]
  },
  {
   "cell_type": "code",
   "execution_count": 71,
   "id": "69220dd6-5575-44fe-acb5-02c3861c78e5",
   "metadata": {
    "scrolled": true
   },
   "outputs": [
    {
     "name": "stdout",
     "output_type": "stream",
     "text": [
      "Epoch 1/25\n",
      "26/28 [==========================>...] - ETA: 0s - loss: 7.1890\n",
      "Epoch 1: val_loss improved from inf to 5.03674, saving model to weights_best.hdf5\n"
     ]
    },
    {
     "name": "stderr",
     "output_type": "stream",
     "text": [
      "/home/sergio/anaconda3/lib/python3.9/site-packages/keras/src/engine/training.py:3000: UserWarning: You are saving your model as an HDF5 file via `model.save()`. This file format is considered legacy. We recommend using instead the native Keras format, e.g. `model.save('my_model.keras')`.\n",
      "  saving_api.save_model(\n"
     ]
    },
    {
     "name": "stdout",
     "output_type": "stream",
     "text": [
      "28/28 [==============================] - 11s 106ms/step - loss: 7.0865 - val_loss: 5.0367\n",
      "Epoch 2/25\n",
      "28/28 [==============================] - ETA: 0s - loss: 3.8048\n",
      "Epoch 2: val_loss improved from 5.03674 to 2.68551, saving model to weights_best.hdf5\n",
      "28/28 [==============================] - 1s 34ms/step - loss: 3.8048 - val_loss: 2.6855\n",
      "Epoch 3/25\n",
      "28/28 [==============================] - ETA: 0s - loss: 2.0152\n",
      "Epoch 3: val_loss improved from 2.68551 to 1.42417, saving model to weights_best.hdf5\n",
      "28/28 [==============================] - 1s 37ms/step - loss: 2.0152 - val_loss: 1.4242\n",
      "Epoch 4/25\n",
      "26/28 [==========================>...] - ETA: 0s - loss: 1.0765\n",
      "Epoch 4: val_loss improved from 1.42417 to 0.75531, saving model to weights_best.hdf5\n",
      "28/28 [==============================] - 1s 34ms/step - loss: 1.0605 - val_loss: 0.7553\n",
      "Epoch 5/25\n",
      "27/28 [===========================>..] - ETA: 0s - loss: 0.5609\n",
      "Epoch 5: val_loss improved from 0.75531 to 0.40854, saving model to weights_best.hdf5\n",
      "28/28 [==============================] - 1s 36ms/step - loss: 0.5583 - val_loss: 0.4085\n",
      "Epoch 6/25\n",
      "28/28 [==============================] - ETA: 0s - loss: 0.2971\n",
      "Epoch 6: val_loss improved from 0.40854 to 0.21972, saving model to weights_best.hdf5\n",
      "28/28 [==============================] - 1s 36ms/step - loss: 0.2971 - val_loss: 0.2197\n",
      "Epoch 7/25\n",
      "28/28 [==============================] - ETA: 0s - loss: 0.1654\n",
      "Epoch 7: val_loss improved from 0.21972 to 0.13167, saving model to weights_best.hdf5\n",
      "28/28 [==============================] - 1s 35ms/step - loss: 0.1654 - val_loss: 0.1317\n",
      "Epoch 8/25\n",
      "26/28 [==========================>...] - ETA: 0s - loss: 0.0996\n",
      "Epoch 8: val_loss improved from 0.13167 to 0.09663, saving model to weights_best.hdf5\n",
      "28/28 [==============================] - 1s 35ms/step - loss: 0.0987 - val_loss: 0.0966\n",
      "Epoch 9/25\n",
      "28/28 [==============================] - ETA: 0s - loss: 0.0662\n",
      "Epoch 9: val_loss improved from 0.09663 to 0.06815, saving model to weights_best.hdf5\n",
      "28/28 [==============================] - 1s 35ms/step - loss: 0.0662 - val_loss: 0.0682\n",
      "Epoch 10/25\n",
      "28/28 [==============================] - ETA: 0s - loss: 0.0490\n",
      "Epoch 10: val_loss improved from 0.06815 to 0.04927, saving model to weights_best.hdf5\n",
      "28/28 [==============================] - 1s 34ms/step - loss: 0.0490 - val_loss: 0.0493\n",
      "Epoch 11/25\n",
      "26/28 [==========================>...] - ETA: 0s - loss: 0.0398\n",
      "Epoch 11: val_loss improved from 0.04927 to 0.04332, saving model to weights_best.hdf5\n",
      "28/28 [==============================] - 1s 34ms/step - loss: 0.0394 - val_loss: 0.0433\n",
      "Epoch 12/25\n",
      "27/28 [===========================>..] - ETA: 0s - loss: 0.0337\n",
      "Epoch 12: val_loss improved from 0.04332 to 0.03302, saving model to weights_best.hdf5\n",
      "28/28 [==============================] - 1s 36ms/step - loss: 0.0337 - val_loss: 0.0330\n",
      "Epoch 13/25\n",
      "27/28 [===========================>..] - ETA: 0s - loss: 0.0310\n",
      "Epoch 13: val_loss did not improve from 0.03302\n",
      "28/28 [==============================] - 1s 32ms/step - loss: 0.0310 - val_loss: 0.0407\n",
      "Epoch 14/25\n",
      "27/28 [===========================>..] - ETA: 0s - loss: 0.0288\n",
      "Epoch 14: val_loss improved from 0.03302 to 0.02841, saving model to weights_best.hdf5\n",
      "28/28 [==============================] - 1s 34ms/step - loss: 0.0288 - val_loss: 0.0284\n",
      "Epoch 15/25\n",
      "28/28 [==============================] - ETA: 0s - loss: 0.0268\n",
      "Epoch 15: val_loss improved from 0.02841 to 0.02509, saving model to weights_best.hdf5\n",
      "28/28 [==============================] - 1s 35ms/step - loss: 0.0268 - val_loss: 0.0251\n",
      "Epoch 16/25\n",
      "28/28 [==============================] - ETA: 0s - loss: 0.0247\n",
      "Epoch 16: val_loss improved from 0.02509 to 0.02204, saving model to weights_best.hdf5\n",
      "28/28 [==============================] - 1s 37ms/step - loss: 0.0247 - val_loss: 0.0220\n",
      "Epoch 17/25\n",
      "27/28 [===========================>..] - ETA: 0s - loss: 0.0226\n",
      "Epoch 17: val_loss improved from 0.02204 to 0.02099, saving model to weights_best.hdf5\n",
      "28/28 [==============================] - 1s 35ms/step - loss: 0.0226 - val_loss: 0.0210\n",
      "Epoch 18/25\n",
      "26/28 [==========================>...] - ETA: 0s - loss: 0.0212\n",
      "Epoch 18: val_loss improved from 0.02099 to 0.01859, saving model to weights_best.hdf5\n",
      "28/28 [==============================] - 1s 34ms/step - loss: 0.0210 - val_loss: 0.0186\n",
      "Epoch 19/25\n",
      "27/28 [===========================>..] - ETA: 0s - loss: 0.0194\n",
      "Epoch 19: val_loss did not improve from 0.01859\n",
      "28/28 [==============================] - 1s 33ms/step - loss: 0.0195 - val_loss: 0.0209\n",
      "Epoch 20/25\n",
      "28/28 [==============================] - ETA: 0s - loss: 0.0186\n",
      "Epoch 20: val_loss improved from 0.01859 to 0.01532, saving model to weights_best.hdf5\n",
      "28/28 [==============================] - 1s 36ms/step - loss: 0.0186 - val_loss: 0.0153\n",
      "Epoch 21/25\n",
      "27/28 [===========================>..] - ETA: 0s - loss: 0.0168\n",
      "Epoch 21: val_loss did not improve from 0.01532\n",
      "28/28 [==============================] - 1s 36ms/step - loss: 0.0168 - val_loss: 0.0166\n",
      "Epoch 22/25\n",
      "28/28 [==============================] - ETA: 0s - loss: 0.0167\n",
      "Epoch 22: val_loss improved from 0.01532 to 0.01449, saving model to weights_best.hdf5\n",
      "28/28 [==============================] - 1s 34ms/step - loss: 0.0167 - val_loss: 0.0145\n",
      "Epoch 23/25\n",
      "26/28 [==========================>...] - ETA: 0s - loss: 0.0151\n",
      "Epoch 23: val_loss improved from 0.01449 to 0.01198, saving model to weights_best.hdf5\n",
      "28/28 [==============================] - 1s 35ms/step - loss: 0.0150 - val_loss: 0.0120\n",
      "Epoch 24/25\n",
      "26/28 [==========================>...] - ETA: 0s - loss: 0.0156\n",
      "Epoch 24: val_loss did not improve from 0.01198\n",
      "28/28 [==============================] - 1s 33ms/step - loss: 0.0153 - val_loss: 0.0161\n",
      "Epoch 25/25\n",
      "26/28 [==========================>...] - ETA: 0s - loss: 0.0144\n",
      "Epoch 25: val_loss did not improve from 0.01198\n",
      "28/28 [==============================] - 1s 36ms/step - loss: 0.0144 - val_loss: 0.0144\n",
      "28/28 [==============================] - 1s 11ms/step\n",
      "Epoch 1/25\n",
      "54/56 [===========================>..] - ETA: 0s - loss: 5.3966\n",
      "Epoch 1: val_loss improved from inf to 2.59930, saving model to weights_best.hdf5\n",
      "56/56 [==============================] - 8s 52ms/step - loss: 5.3266 - val_loss: 2.5993\n",
      "Epoch 2/25\n",
      " 5/56 [=>............................] - ETA: 1s - loss: 2.4767"
     ]
    },
    {
     "name": "stderr",
     "output_type": "stream",
     "text": [
      "/home/sergio/anaconda3/lib/python3.9/site-packages/keras/src/engine/training.py:3000: UserWarning: You are saving your model as an HDF5 file via `model.save()`. This file format is considered legacy. We recommend using instead the native Keras format, e.g. `model.save('my_model.keras')`.\n",
      "  saving_api.save_model(\n"
     ]
    },
    {
     "name": "stdout",
     "output_type": "stream",
     "text": [
      "56/56 [==============================] - ETA: 0s - loss: 1.4838\n",
      "Epoch 2: val_loss improved from 2.59930 to 0.71746, saving model to weights_best.hdf5\n",
      "56/56 [==============================] - 2s 29ms/step - loss: 1.4838 - val_loss: 0.7175\n",
      "Epoch 3/25\n",
      "55/56 [============================>.] - ETA: 0s - loss: 0.4143\n",
      "Epoch 3: val_loss improved from 0.71746 to 0.22398, saving model to weights_best.hdf5\n",
      "56/56 [==============================] - 2s 29ms/step - loss: 0.4126 - val_loss: 0.2240\n",
      "Epoch 4/25\n",
      "55/56 [============================>.] - ETA: 0s - loss: 0.1283\n",
      "Epoch 4: val_loss improved from 0.22398 to 0.07348, saving model to weights_best.hdf5\n",
      "56/56 [==============================] - 2s 32ms/step - loss: 0.1278 - val_loss: 0.0735\n",
      "Epoch 5/25\n",
      "55/56 [============================>.] - ETA: 0s - loss: 0.0549\n",
      "Epoch 5: val_loss improved from 0.07348 to 0.03834, saving model to weights_best.hdf5\n",
      "56/56 [==============================] - 2s 31ms/step - loss: 0.0548 - val_loss: 0.0383\n",
      "Epoch 6/25\n",
      "55/56 [============================>.] - ETA: 0s - loss: 0.0326\n",
      "Epoch 6: val_loss improved from 0.03834 to 0.02183, saving model to weights_best.hdf5\n",
      "56/56 [==============================] - 2s 34ms/step - loss: 0.0326 - val_loss: 0.0218\n",
      "Epoch 7/25\n",
      "55/56 [============================>.] - ETA: 0s - loss: 0.0238\n",
      "Epoch 7: val_loss improved from 0.02183 to 0.01632, saving model to weights_best.hdf5\n",
      "56/56 [==============================] - 2s 33ms/step - loss: 0.0238 - val_loss: 0.0163\n",
      "Epoch 8/25\n",
      "55/56 [============================>.] - ETA: 0s - loss: 0.0187\n",
      "Epoch 8: val_loss did not improve from 0.01632\n",
      "56/56 [==============================] - 2s 30ms/step - loss: 0.0187 - val_loss: 0.0171\n",
      "Epoch 9/25\n",
      "54/56 [===========================>..] - ETA: 0s - loss: 0.0159\n",
      "Epoch 9: val_loss improved from 0.01632 to 0.01116, saving model to weights_best.hdf5\n",
      "56/56 [==============================] - 2s 29ms/step - loss: 0.0159 - val_loss: 0.0112\n",
      "Epoch 10/25\n",
      "56/56 [==============================] - ETA: 0s - loss: 0.0141\n",
      "Epoch 10: val_loss improved from 0.01116 to 0.00991, saving model to weights_best.hdf5\n",
      "56/56 [==============================] - 2s 31ms/step - loss: 0.0141 - val_loss: 0.0099\n",
      "Epoch 11/25\n",
      "54/56 [===========================>..] - ETA: 0s - loss: 0.0133\n",
      "Epoch 11: val_loss improved from 0.00991 to 0.00859, saving model to weights_best.hdf5\n",
      "56/56 [==============================] - 2s 30ms/step - loss: 0.0133 - val_loss: 0.0086\n",
      "Epoch 12/25\n",
      "54/56 [===========================>..] - ETA: 0s - loss: 0.0124\n",
      "Epoch 12: val_loss improved from 0.00859 to 0.00765, saving model to weights_best.hdf5\n",
      "56/56 [==============================] - 2s 32ms/step - loss: 0.0124 - val_loss: 0.0077\n",
      "Epoch 13/25\n",
      "54/56 [===========================>..] - ETA: 0s - loss: 0.0124\n",
      "Epoch 13: val_loss did not improve from 0.00765\n",
      "56/56 [==============================] - 2s 33ms/step - loss: 0.0123 - val_loss: 0.0109\n",
      "Epoch 14/25\n",
      "55/56 [============================>.] - ETA: 0s - loss: 0.0115\n",
      "Epoch 14: val_loss improved from 0.00765 to 0.00666, saving model to weights_best.hdf5\n",
      "56/56 [==============================] - 2s 33ms/step - loss: 0.0115 - val_loss: 0.0067\n",
      "Epoch 15/25\n",
      "55/56 [============================>.] - ETA: 0s - loss: 0.0111\n",
      "Epoch 15: val_loss did not improve from 0.00666\n",
      "56/56 [==============================] - 2s 29ms/step - loss: 0.0111 - val_loss: 0.0072\n",
      "Epoch 16/25\n",
      "56/56 [==============================] - ETA: 0s - loss: 0.0111\n",
      "Epoch 16: val_loss did not improve from 0.00666\n",
      "56/56 [==============================] - 2s 29ms/step - loss: 0.0111 - val_loss: 0.0069\n",
      "Epoch 17/25\n",
      "55/56 [============================>.] - ETA: 0s - loss: 0.0108\n",
      "Epoch 17: val_loss did not improve from 0.00666\n",
      "56/56 [==============================] - 2s 29ms/step - loss: 0.0108 - val_loss: 0.0105\n",
      "Epoch 18/25\n",
      "54/56 [===========================>..] - ETA: 0s - loss: 0.0109\n",
      "Epoch 18: val_loss improved from 0.00666 to 0.00532, saving model to weights_best.hdf5\n",
      "56/56 [==============================] - 2s 29ms/step - loss: 0.0109 - val_loss: 0.0053\n",
      "Epoch 19/25\n",
      "55/56 [============================>.] - ETA: 0s - loss: 0.0102\n",
      "Epoch 19: val_loss did not improve from 0.00532\n",
      "56/56 [==============================] - 2s 29ms/step - loss: 0.0102 - val_loss: 0.0060\n",
      "Epoch 20/25\n",
      "54/56 [===========================>..] - ETA: 0s - loss: 0.0100\n",
      "Epoch 20: val_loss improved from 0.00532 to 0.00523, saving model to weights_best.hdf5\n",
      "56/56 [==============================] - 2s 29ms/step - loss: 0.0100 - val_loss: 0.0052\n",
      "Epoch 21/25\n",
      "56/56 [==============================] - ETA: 0s - loss: 0.0100\n",
      "Epoch 21: val_loss improved from 0.00523 to 0.00503, saving model to weights_best.hdf5\n",
      "56/56 [==============================] - 2s 29ms/step - loss: 0.0100 - val_loss: 0.0050\n",
      "Epoch 22/25\n",
      "55/56 [============================>.] - ETA: 0s - loss: 0.0094\n",
      "Epoch 22: val_loss did not improve from 0.00503\n",
      "56/56 [==============================] - 2s 28ms/step - loss: 0.0094 - val_loss: 0.0054\n",
      "Epoch 23/25\n",
      "54/56 [===========================>..] - ETA: 0s - loss: 0.0094\n",
      "Epoch 23: val_loss improved from 0.00503 to 0.00482, saving model to weights_best.hdf5\n",
      "56/56 [==============================] - 2s 29ms/step - loss: 0.0094 - val_loss: 0.0048\n",
      "Epoch 24/25\n",
      "56/56 [==============================] - ETA: 0s - loss: 0.0092\n",
      "Epoch 24: val_loss did not improve from 0.00482\n",
      "56/56 [==============================] - 2s 28ms/step - loss: 0.0092 - val_loss: 0.0049\n",
      "Epoch 25/25\n",
      "56/56 [==============================] - ETA: 0s - loss: 0.0091\n",
      "Epoch 25: val_loss improved from 0.00482 to 0.00470, saving model to weights_best.hdf5\n",
      "56/56 [==============================] - 2s 34ms/step - loss: 0.0091 - val_loss: 0.0047\n",
      "28/28 [==============================] - 1s 9ms/step\n",
      "Epoch 1/25\n",
      "83/84 [============================>.] - ETA: 0s - loss: 4.2261\n",
      "Epoch 1: val_loss improved from inf to 1.35483, saving model to weights_best.hdf5\n",
      "84/84 [==============================] - 7s 38ms/step - loss: 4.2112 - val_loss: 1.3548\n",
      "Epoch 2/25\n",
      " 4/84 [>.............................] - ETA: 1s - loss: 1.3220"
     ]
    },
    {
     "name": "stderr",
     "output_type": "stream",
     "text": [
      "/home/sergio/anaconda3/lib/python3.9/site-packages/keras/src/engine/training.py:3000: UserWarning: You are saving your model as an HDF5 file via `model.save()`. This file format is considered legacy. We recommend using instead the native Keras format, e.g. `model.save('my_model.keras')`.\n",
      "  saving_api.save_model(\n"
     ]
    },
    {
     "name": "stdout",
     "output_type": "stream",
     "text": [
      "84/84 [==============================] - ETA: 0s - loss: 0.6171\n",
      "Epoch 2: val_loss improved from 1.35483 to 0.19652, saving model to weights_best.hdf5\n",
      "84/84 [==============================] - 3s 31ms/step - loss: 0.6171 - val_loss: 0.1965\n",
      "Epoch 3/25\n",
      "82/84 [============================>.] - ETA: 0s - loss: 0.1042\n",
      "Epoch 3: val_loss improved from 0.19652 to 0.04297, saving model to weights_best.hdf5\n",
      "84/84 [==============================] - 3s 30ms/step - loss: 0.1032 - val_loss: 0.0430\n",
      "Epoch 4/25\n",
      "83/84 [============================>.] - ETA: 0s - loss: 0.0335\n",
      "Epoch 4: val_loss improved from 0.04297 to 0.02056, saving model to weights_best.hdf5\n",
      "84/84 [==============================] - 2s 28ms/step - loss: 0.0335 - val_loss: 0.0206\n",
      "Epoch 5/25\n",
      "83/84 [============================>.] - ETA: 0s - loss: 0.0209\n",
      "Epoch 5: val_loss improved from 0.02056 to 0.01491, saving model to weights_best.hdf5\n",
      "84/84 [==============================] - 2s 27ms/step - loss: 0.0209 - val_loss: 0.0149\n",
      "Epoch 6/25\n",
      "82/84 [============================>.] - ETA: 0s - loss: 0.0157\n",
      "Epoch 6: val_loss improved from 0.01491 to 0.01116, saving model to weights_best.hdf5\n",
      "84/84 [==============================] - 2s 29ms/step - loss: 0.0157 - val_loss: 0.0112\n",
      "Epoch 7/25\n",
      "84/84 [==============================] - ETA: 0s - loss: 0.0130\n",
      "Epoch 7: val_loss improved from 0.01116 to 0.00926, saving model to weights_best.hdf5\n",
      "84/84 [==============================] - 2s 27ms/step - loss: 0.0130 - val_loss: 0.0093\n",
      "Epoch 8/25\n",
      "83/84 [============================>.] - ETA: 0s - loss: 0.0111\n",
      "Epoch 8: val_loss improved from 0.00926 to 0.00780, saving model to weights_best.hdf5\n",
      "84/84 [==============================] - 3s 30ms/step - loss: 0.0112 - val_loss: 0.0078\n",
      "Epoch 9/25\n",
      "83/84 [============================>.] - ETA: 0s - loss: 0.0105\n",
      "Epoch 9: val_loss improved from 0.00780 to 0.00773, saving model to weights_best.hdf5\n",
      "84/84 [==============================] - 2s 28ms/step - loss: 0.0105 - val_loss: 0.0077\n",
      "Epoch 10/25\n",
      "84/84 [==============================] - ETA: 0s - loss: 0.0095\n",
      "Epoch 10: val_loss improved from 0.00773 to 0.00674, saving model to weights_best.hdf5\n",
      "84/84 [==============================] - 3s 30ms/step - loss: 0.0095 - val_loss: 0.0067\n",
      "Epoch 11/25\n",
      "82/84 [============================>.] - ETA: 0s - loss: 0.0091\n",
      "Epoch 11: val_loss improved from 0.00674 to 0.00610, saving model to weights_best.hdf5\n",
      "84/84 [==============================] - 2s 30ms/step - loss: 0.0091 - val_loss: 0.0061\n",
      "Epoch 12/25\n",
      "82/84 [============================>.] - ETA: 0s - loss: 0.0087\n",
      "Epoch 12: val_loss improved from 0.00610 to 0.00585, saving model to weights_best.hdf5\n",
      "84/84 [==============================] - 3s 30ms/step - loss: 0.0086 - val_loss: 0.0058\n",
      "Epoch 13/25\n",
      "82/84 [============================>.] - ETA: 0s - loss: 0.0085\n",
      "Epoch 13: val_loss improved from 0.00585 to 0.00558, saving model to weights_best.hdf5\n",
      "84/84 [==============================] - 2s 27ms/step - loss: 0.0085 - val_loss: 0.0056\n",
      "Epoch 14/25\n",
      "82/84 [============================>.] - ETA: 0s - loss: 0.0084\n",
      "Epoch 14: val_loss improved from 0.00558 to 0.00512, saving model to weights_best.hdf5\n",
      "84/84 [==============================] - 2s 28ms/step - loss: 0.0084 - val_loss: 0.0051\n",
      "Epoch 15/25\n",
      "83/84 [============================>.] - ETA: 0s - loss: 0.0082\n",
      "Epoch 15: val_loss did not improve from 0.00512\n",
      "84/84 [==============================] - 2s 29ms/step - loss: 0.0082 - val_loss: 0.0054\n",
      "Epoch 16/25\n",
      "84/84 [==============================] - ETA: 0s - loss: 0.0078\n",
      "Epoch 16: val_loss improved from 0.00512 to 0.00483, saving model to weights_best.hdf5\n",
      "84/84 [==============================] - 2s 29ms/step - loss: 0.0078 - val_loss: 0.0048\n",
      "Epoch 17/25\n",
      "82/84 [============================>.] - ETA: 0s - loss: 0.0077\n",
      "Epoch 17: val_loss did not improve from 0.00483\n",
      "84/84 [==============================] - 2s 28ms/step - loss: 0.0077 - val_loss: 0.0052\n",
      "Epoch 18/25\n",
      "83/84 [============================>.] - ETA: 0s - loss: 0.0075\n",
      "Epoch 18: val_loss improved from 0.00483 to 0.00449, saving model to weights_best.hdf5\n",
      "84/84 [==============================] - 2s 29ms/step - loss: 0.0074 - val_loss: 0.0045\n",
      "Epoch 19/25\n",
      "84/84 [==============================] - ETA: 0s - loss: 0.0070\n",
      "Epoch 19: val_loss improved from 0.00449 to 0.00425, saving model to weights_best.hdf5\n",
      "84/84 [==============================] - 2s 29ms/step - loss: 0.0070 - val_loss: 0.0043\n",
      "Epoch 20/25\n",
      "83/84 [============================>.] - ETA: 0s - loss: 0.0068\n",
      "Epoch 20: val_loss improved from 0.00425 to 0.00409, saving model to weights_best.hdf5\n",
      "84/84 [==============================] - 2s 27ms/step - loss: 0.0068 - val_loss: 0.0041\n",
      "Epoch 21/25\n",
      "82/84 [============================>.] - ETA: 0s - loss: 0.0068\n",
      "Epoch 21: val_loss improved from 0.00409 to 0.00394, saving model to weights_best.hdf5\n",
      "84/84 [==============================] - 2s 27ms/step - loss: 0.0068 - val_loss: 0.0039\n",
      "Epoch 22/25\n",
      "83/84 [============================>.] - ETA: 0s - loss: 0.0067\n",
      "Epoch 22: val_loss improved from 0.00394 to 0.00392, saving model to weights_best.hdf5\n",
      "84/84 [==============================] - 2s 27ms/step - loss: 0.0067 - val_loss: 0.0039\n",
      "Epoch 23/25\n",
      "83/84 [============================>.] - ETA: 0s - loss: 0.0067\n",
      "Epoch 23: val_loss improved from 0.00392 to 0.00392, saving model to weights_best.hdf5\n",
      "84/84 [==============================] - 3s 31ms/step - loss: 0.0067 - val_loss: 0.0039\n",
      "Epoch 24/25\n",
      "83/84 [============================>.] - ETA: 0s - loss: 0.0066\n",
      "Epoch 24: val_loss did not improve from 0.00392\n",
      "84/84 [==============================] - 2s 29ms/step - loss: 0.0066 - val_loss: 0.0049\n",
      "Epoch 25/25\n",
      "82/84 [============================>.] - ETA: 0s - loss: 0.0065\n",
      "Epoch 25: val_loss improved from 0.00392 to 0.00368, saving model to weights_best.hdf5\n",
      "84/84 [==============================] - 3s 31ms/step - loss: 0.0064 - val_loss: 0.0037\n",
      "28/28 [==============================] - 2s 11ms/step\n",
      "Epoch 1/25\n",
      "111/112 [============================>.] - ETA: 0s - loss: 3.4417\n",
      "Epoch 1: val_loss improved from inf to 0.79598, saving model to weights_best.hdf5\n"
     ]
    },
    {
     "name": "stderr",
     "output_type": "stream",
     "text": [
      "/home/sergio/anaconda3/lib/python3.9/site-packages/keras/src/engine/training.py:3000: UserWarning: You are saving your model as an HDF5 file via `model.save()`. This file format is considered legacy. We recommend using instead the native Keras format, e.g. `model.save('my_model.keras')`.\n",
      "  saving_api.save_model(\n"
     ]
    },
    {
     "name": "stdout",
     "output_type": "stream",
     "text": [
      "112/112 [==============================] - 13s 55ms/step - loss: 3.4311 - val_loss: 0.7960\n",
      "Epoch 2/25\n",
      "110/112 [============================>.] - ETA: 0s - loss: 0.2741\n",
      "Epoch 2: val_loss improved from 0.79598 to 0.12092, saving model to weights_best.hdf5\n",
      "112/112 [==============================] - 4s 31ms/step - loss: 0.2717 - val_loss: 0.1209\n",
      "Epoch 3/25\n",
      "110/112 [============================>.] - ETA: 0s - loss: 0.0431\n",
      "Epoch 3: val_loss improved from 0.12092 to 0.04445, saving model to weights_best.hdf5\n",
      "112/112 [==============================] - 3s 28ms/step - loss: 0.0428 - val_loss: 0.0444\n",
      "Epoch 4/25\n",
      "110/112 [============================>.] - ETA: 0s - loss: 0.0189\n",
      "Epoch 4: val_loss improved from 0.04445 to 0.02194, saving model to weights_best.hdf5\n",
      "112/112 [==============================] - 3s 28ms/step - loss: 0.0188 - val_loss: 0.0219\n",
      "Epoch 5/25\n",
      "111/112 [============================>.] - ETA: 0s - loss: 0.0129\n",
      "Epoch 5: val_loss improved from 0.02194 to 0.01521, saving model to weights_best.hdf5\n",
      "112/112 [==============================] - 3s 29ms/step - loss: 0.0129 - val_loss: 0.0152\n",
      "Epoch 6/25\n",
      "110/112 [============================>.] - ETA: 0s - loss: 0.0109\n",
      "Epoch 6: val_loss improved from 0.01521 to 0.01414, saving model to weights_best.hdf5\n",
      "112/112 [==============================] - 3s 26ms/step - loss: 0.0109 - val_loss: 0.0141\n",
      "Epoch 7/25\n",
      "111/112 [============================>.] - ETA: 0s - loss: 0.0097\n",
      "Epoch 7: val_loss did not improve from 0.01414\n",
      "112/112 [==============================] - 3s 29ms/step - loss: 0.0097 - val_loss: 0.0159\n",
      "Epoch 8/25\n",
      "111/112 [============================>.] - ETA: 0s - loss: 0.0091\n",
      "Epoch 8: val_loss improved from 0.01414 to 0.00709, saving model to weights_best.hdf5\n",
      "112/112 [==============================] - 4s 33ms/step - loss: 0.0091 - val_loss: 0.0071\n",
      "Epoch 9/25\n",
      "111/112 [============================>.] - ETA: 0s - loss: 0.0083\n",
      "Epoch 9: val_loss did not improve from 0.00709\n",
      "112/112 [==============================] - 4s 32ms/step - loss: 0.0083 - val_loss: 0.0106\n",
      "Epoch 10/25\n",
      "111/112 [============================>.] - ETA: 0s - loss: 0.0078\n",
      "Epoch 10: val_loss improved from 0.00709 to 0.00548, saving model to weights_best.hdf5\n",
      "112/112 [==============================] - 4s 33ms/step - loss: 0.0078 - val_loss: 0.0055\n",
      "Epoch 11/25\n",
      "111/112 [============================>.] - ETA: 0s - loss: 0.0077\n",
      "Epoch 11: val_loss did not improve from 0.00548\n",
      "112/112 [==============================] - 3s 31ms/step - loss: 0.0077 - val_loss: 0.0055\n",
      "Epoch 12/25\n",
      "111/112 [============================>.] - ETA: 0s - loss: 0.0073\n",
      "Epoch 12: val_loss did not improve from 0.00548\n",
      "112/112 [==============================] - 4s 32ms/step - loss: 0.0073 - val_loss: 0.0064\n",
      "Epoch 13/25\n",
      "111/112 [============================>.] - ETA: 0s - loss: 0.0069\n",
      "Epoch 13: val_loss improved from 0.00548 to 0.00481, saving model to weights_best.hdf5\n",
      "112/112 [==============================] - 4s 34ms/step - loss: 0.0069 - val_loss: 0.0048\n",
      "Epoch 14/25\n",
      "111/112 [============================>.] - ETA: 0s - loss: 0.0070\n",
      "Epoch 14: val_loss did not improve from 0.00481\n",
      "112/112 [==============================] - 4s 33ms/step - loss: 0.0070 - val_loss: 0.0062\n",
      "Epoch 15/25\n",
      "111/112 [============================>.] - ETA: 0s - loss: 0.0065\n",
      "Epoch 15: val_loss did not improve from 0.00481\n",
      "112/112 [==============================] - 4s 35ms/step - loss: 0.0065 - val_loss: 0.0114\n",
      "Epoch 16/25\n",
      "112/112 [==============================] - ETA: 0s - loss: 0.0065\n",
      "Epoch 16: val_loss improved from 0.00481 to 0.00389, saving model to weights_best.hdf5\n",
      "112/112 [==============================] - 4s 35ms/step - loss: 0.0065 - val_loss: 0.0039\n",
      "Epoch 17/25\n",
      "110/112 [============================>.] - ETA: 0s - loss: 0.0062\n",
      "Epoch 17: val_loss did not improve from 0.00389\n",
      "112/112 [==============================] - 4s 33ms/step - loss: 0.0062 - val_loss: 0.0135\n",
      "Epoch 18/25\n",
      "112/112 [==============================] - ETA: 0s - loss: 0.0062\n",
      "Epoch 18: val_loss improved from 0.00389 to 0.00357, saving model to weights_best.hdf5\n",
      "112/112 [==============================] - 4s 33ms/step - loss: 0.0062 - val_loss: 0.0036\n",
      "Epoch 19/25\n",
      "111/112 [============================>.] - ETA: 0s - loss: 0.0061\n",
      "Epoch 19: val_loss did not improve from 0.00357\n",
      "112/112 [==============================] - 5s 45ms/step - loss: 0.0061 - val_loss: 0.0050\n",
      "Epoch 20/25\n",
      "112/112 [==============================] - ETA: 0s - loss: 0.0061\n",
      "Epoch 20: val_loss did not improve from 0.00357\n",
      "112/112 [==============================] - 4s 32ms/step - loss: 0.0061 - val_loss: 0.0047\n",
      "Epoch 21/25\n",
      "110/112 [============================>.] - ETA: 0s - loss: 0.0058\n",
      "Epoch 21: val_loss did not improve from 0.00357\n",
      "112/112 [==============================] - 4s 33ms/step - loss: 0.0058 - val_loss: 0.0038\n",
      "Epoch 22/25\n",
      "112/112 [==============================] - ETA: 0s - loss: 0.0058\n",
      "Epoch 22: val_loss did not improve from 0.00357\n",
      "112/112 [==============================] - 4s 40ms/step - loss: 0.0058 - val_loss: 0.0042\n",
      "Epoch 23/25\n",
      "111/112 [============================>.] - ETA: 0s - loss: 0.0056\n",
      "Epoch 23: val_loss did not improve from 0.00357\n",
      "112/112 [==============================] - 44s 393ms/step - loss: 0.0056 - val_loss: 0.0039\n",
      "Epoch 24/25\n",
      "112/112 [==============================] - ETA: 0s - loss: 0.0055\n",
      "Epoch 24: val_loss did not improve from 0.00357\n",
      "112/112 [==============================] - 124s 1s/step - loss: 0.0055 - val_loss: 0.0062\n",
      "Epoch 25/25\n",
      "112/112 [==============================] - ETA: 0s - loss: 0.0056\n",
      "Epoch 25: val_loss improved from 0.00357 to 0.00341, saving model to weights_best.hdf5\n",
      "112/112 [==============================] - 8s 66ms/step - loss: 0.0056 - val_loss: 0.0034\n",
      "28/28 [==============================] - 16s 15ms/step\n",
      "Epoch 1/25\n",
      "139/140 [============================>.] - ETA: 3s - loss: 2.8530\n",
      "Epoch 1: val_loss improved from inf to 0.40674, saving model to weights_best.hdf5\n",
      "140/140 [==============================] - 615s 4s/step - loss: 2.8453 - val_loss: 0.4067\n",
      "Epoch 2/25\n",
      "  3/140 [..............................] - ETA: 4s - loss: 0.3720"
     ]
    },
    {
     "name": "stderr",
     "output_type": "stream",
     "text": [
      "/home/sergio/anaconda3/lib/python3.9/site-packages/keras/src/engine/training.py:3000: UserWarning: You are saving your model as an HDF5 file via `model.save()`. This file format is considered legacy. We recommend using instead the native Keras format, e.g. `model.save('my_model.keras')`.\n",
      "  saving_api.save_model(\n"
     ]
    },
    {
     "name": "stdout",
     "output_type": "stream",
     "text": [
      "139/140 [============================>.] - ETA: 0s - loss: 0.1274\n",
      "Epoch 2: val_loss improved from 0.40674 to 0.04790, saving model to weights_best.hdf5\n",
      "140/140 [==============================] - 5s 38ms/step - loss: 0.1271 - val_loss: 0.0479\n",
      "Epoch 3/25\n",
      "139/140 [============================>.] - ETA: 0s - loss: 0.0244\n",
      "Epoch 3: val_loss improved from 0.04790 to 0.02636, saving model to weights_best.hdf5\n",
      "140/140 [==============================] - 6s 40ms/step - loss: 0.0244 - val_loss: 0.0264\n",
      "Epoch 4/25\n",
      "139/140 [============================>.] - ETA: 0s - loss: 0.0153\n",
      "Epoch 4: val_loss did not improve from 0.02636\n",
      "140/140 [==============================] - 5s 33ms/step - loss: 0.0153 - val_loss: 0.0280\n",
      "Epoch 5/25\n",
      "139/140 [============================>.] - ETA: 0s - loss: 0.0119\n",
      "Epoch 5: val_loss improved from 0.02636 to 0.01149, saving model to weights_best.hdf5\n",
      "140/140 [==============================] - 5s 33ms/step - loss: 0.0119 - val_loss: 0.0115\n",
      "Epoch 6/25\n",
      "139/140 [============================>.] - ETA: 0s - loss: 0.0097\n",
      "Epoch 6: val_loss did not improve from 0.01149\n",
      "140/140 [==============================] - 5s 33ms/step - loss: 0.0097 - val_loss: 0.0193\n",
      "Epoch 7/25\n",
      "139/140 [============================>.] - ETA: 0s - loss: 0.0087\n",
      "Epoch 7: val_loss improved from 0.01149 to 0.00839, saving model to weights_best.hdf5\n",
      "140/140 [==============================] - 5s 33ms/step - loss: 0.0087 - val_loss: 0.0084\n",
      "Epoch 8/25\n",
      "139/140 [============================>.] - ETA: 0s - loss: 0.0084\n",
      "Epoch 8: val_loss improved from 0.00839 to 0.00627, saving model to weights_best.hdf5\n",
      "140/140 [==============================] - 5s 33ms/step - loss: 0.0084 - val_loss: 0.0063\n",
      "Epoch 9/25\n",
      "140/140 [==============================] - ETA: 0s - loss: 0.0081\n",
      "Epoch 9: val_loss did not improve from 0.00627\n",
      "140/140 [==============================] - 4s 32ms/step - loss: 0.0081 - val_loss: 0.0110\n",
      "Epoch 10/25\n",
      "139/140 [============================>.] - ETA: 0s - loss: 0.0075\n",
      "Epoch 10: val_loss did not improve from 0.00627\n",
      "140/140 [==============================] - 5s 32ms/step - loss: 0.0075 - val_loss: 0.0107\n",
      "Epoch 11/25\n",
      "140/140 [==============================] - ETA: 0s - loss: 0.0072\n",
      "Epoch 11: val_loss did not improve from 0.00627\n",
      "140/140 [==============================] - 4s 32ms/step - loss: 0.0072 - val_loss: 0.0106\n",
      "Epoch 12/25\n",
      "140/140 [==============================] - ETA: 0s - loss: 0.0073\n",
      "Epoch 12: val_loss did not improve from 0.00627\n",
      "140/140 [==============================] - 5s 32ms/step - loss: 0.0073 - val_loss: 0.0093\n",
      "Epoch 13/25\n",
      "139/140 [============================>.] - ETA: 0s - loss: 0.0067\n",
      "Epoch 13: val_loss did not improve from 0.00627\n",
      "140/140 [==============================] - 4s 30ms/step - loss: 0.0067 - val_loss: 0.0064\n",
      "Epoch 14/25\n",
      "139/140 [============================>.] - ETA: 0s - loss: 0.0067\n",
      "Epoch 14: val_loss improved from 0.00627 to 0.00442, saving model to weights_best.hdf5\n",
      "140/140 [==============================] - 4s 32ms/step - loss: 0.0067 - val_loss: 0.0044\n",
      "Epoch 15/25\n",
      "138/140 [============================>.] - ETA: 0s - loss: 0.0065\n",
      "Epoch 15: val_loss did not improve from 0.00442\n",
      "140/140 [==============================] - 4s 29ms/step - loss: 0.0065 - val_loss: 0.0103\n",
      "Epoch 16/25\n",
      "139/140 [============================>.] - ETA: 0s - loss: 0.0061\n",
      "Epoch 16: val_loss did not improve from 0.00442\n",
      "140/140 [==============================] - 4s 30ms/step - loss: 0.0061 - val_loss: 0.0095\n",
      "Epoch 17/25\n",
      "139/140 [============================>.] - ETA: 0s - loss: 0.0062\n",
      "Epoch 17: val_loss did not improve from 0.00442\n",
      "140/140 [==============================] - 4s 29ms/step - loss: 0.0062 - val_loss: 0.0208\n",
      "Epoch 18/25\n",
      "139/140 [============================>.] - ETA: 0s - loss: 0.0064\n",
      "Epoch 18: val_loss did not improve from 0.00442\n",
      "140/140 [==============================] - 4s 29ms/step - loss: 0.0064 - val_loss: 0.0089\n",
      "Epoch 19/25\n",
      "139/140 [============================>.] - ETA: 0s - loss: 0.0059\n",
      "Epoch 19: val_loss did not improve from 0.00442\n",
      "140/140 [==============================] - 4s 30ms/step - loss: 0.0059 - val_loss: 0.0110\n",
      "Epoch 20/25\n",
      "139/140 [============================>.] - ETA: 0s - loss: 0.0060\n",
      "Epoch 20: val_loss improved from 0.00442 to 0.00438, saving model to weights_best.hdf5\n",
      "140/140 [==============================] - 4s 30ms/step - loss: 0.0060 - val_loss: 0.0044\n",
      "Epoch 21/25\n",
      "139/140 [============================>.] - ETA: 0s - loss: 0.0057\n",
      "Epoch 21: val_loss improved from 0.00438 to 0.00420, saving model to weights_best.hdf5\n",
      "140/140 [==============================] - 4s 30ms/step - loss: 0.0057 - val_loss: 0.0042\n",
      "Epoch 22/25\n",
      "139/140 [============================>.] - ETA: 0s - loss: 0.0058\n",
      "Epoch 22: val_loss did not improve from 0.00420\n",
      "140/140 [==============================] - 4s 30ms/step - loss: 0.0058 - val_loss: 0.0067\n",
      "Epoch 23/25\n",
      "139/140 [============================>.] - ETA: 0s - loss: 0.0060\n",
      "Epoch 23: val_loss did not improve from 0.00420\n",
      "140/140 [==============================] - 4s 30ms/step - loss: 0.0060 - val_loss: 0.0045\n",
      "Epoch 24/25\n",
      "139/140 [============================>.] - ETA: 0s - loss: 0.0054\n",
      "Epoch 24: val_loss improved from 0.00420 to 0.00335, saving model to weights_best.hdf5\n",
      "140/140 [==============================] - 4s 30ms/step - loss: 0.0054 - val_loss: 0.0033\n",
      "Epoch 25/25\n",
      "139/140 [============================>.] - ETA: 0s - loss: 0.0057\n",
      "Epoch 25: val_loss did not improve from 0.00335\n",
      "140/140 [==============================] - 4s 29ms/step - loss: 0.0057 - val_loss: 0.0084\n",
      "28/28 [==============================] - 1s 11ms/step\n"
     ]
    }
   ],
   "source": [
    "history_list, mse_values = train_lstm_cv(train['Close'], 20, LSTMModel2)"
   ]
  },
  {
   "cell_type": "markdown",
   "id": "679936ea-5519-41f3-8a7e-6f2b57e41532",
   "metadata": {},
   "source": [
    "The average MSE and standard deviation are:"
   ]
  },
  {
   "cell_type": "code",
   "execution_count": 72,
   "id": "ae881d3d-1ef2-46f2-a05e-df517836fd36",
   "metadata": {},
   "outputs": [
    {
     "name": "stdout",
     "output_type": "stream",
     "text": [
      "Average MSE across all folds: 2.2745\n",
      "MSE standard deviation: 1.7985\n"
     ]
    }
   ],
   "source": [
    "# Compute average MSE and its standard deviation\n",
    "average_mse = np.mean(mse_values)\n",
    "mse_std = np.std(mse_values)\n",
    "\n",
    "print(f\"Average MSE across all folds: {average_mse:.4f}\")\n",
    "print(f\"MSE standard deviation: {mse_std:.4f}\")"
   ]
  },
  {
   "cell_type": "markdown",
   "id": "f85c073b-4be8-4f5f-a0a6-e404f4726a58",
   "metadata": {},
   "source": [
    "A relatively moderate variability in the performance across the different folds is still present, as the standard deviation of the MSE values is similar to the mean MSE (although less similar then in the previous model). This suggests that our new model is still sensitive to the specific portions of the dataset it is trained on, but this sensitivity has been slightly reduced."
   ]
  },
  {
   "cell_type": "code",
   "execution_count": 73,
   "id": "59999eaf-c3fe-45b1-9ef8-d5151a32c6af",
   "metadata": {},
   "outputs": [
    {
     "data": {
      "text/plain": [
       "[4.562612010871846,\n",
       " 0.7350575217430886,\n",
       " 0.7987386338447188,\n",
       " 0.8879223753729432,\n",
       " 4.388073760615863]"
      ]
     },
     "execution_count": 73,
     "metadata": {},
     "output_type": "execute_result"
    }
   ],
   "source": [
    "mse_values"
   ]
  },
  {
   "cell_type": "markdown",
   "id": "f842f04c-b0c6-414d-a6ba-4e32e4de63b2",
   "metadata": {},
   "source": [
    "The individual values of the MSE for different folds seem more similar among themselves, with the largest one (4.56) being around 6 times the smallest one (0.73), which is also a reduction compared to the previous model. \n",
    "\n",
    "Still, this variability might be due to overfitting. Again, a look at the train loss versus validation loss plots sheds light on the issue."
   ]
  },
  {
   "cell_type": "code",
   "execution_count": 74,
   "id": "461160b3-b286-4411-bbdd-ee203800f74b",
   "metadata": {},
   "outputs": [
    {
     "data": {
      "image/png": "[encoded data removed]",
      "text/plain": [
       "<Figure size 1080x720 with 5 Axes>"
      ]
     },
     "metadata": {
      "needs_background": "light"
     },
     "output_type": "display_data"
    }
   ],
   "source": [
    "def plot_history(history_list):\n",
    "    \"\"\"\n",
    "    Plot the training and validation loss across multiple histories.\n",
    "    \n",
    "    Args:\n",
    "    - history_list (list): List of training histories.\n",
    "    \"\"\"\n",
    "    plt.figure(figsize=(15, 10))\n",
    "    \n",
    "    # Iterate over each history item\n",
    "    for index, history in enumerate(history_list, 1):\n",
    "        plt.subplot(len(history_list), 2, 2*index - 1)\n",
    "        plt.plot(history.history['loss'], label='Train Loss')\n",
    "        plt.plot(history.history['val_loss'], label='Validation Loss', linestyle='--')\n",
    "        plt.title(f'Fold {index} Loss')\n",
    "        plt.xlabel('Epochs')\n",
    "        plt.ylabel('Mean Squared Error (MSE)')\n",
    "        plt.legend()\n",
    "        \n",
    "        # If you wish to also plot other metrics, for example accuracy (if used), you can do it in a similar manner:\n",
    "        # plt.subplot(len(history_list), 2, 2*index)\n",
    "        # plt.plot(history.history['accuracy'], label='Train Accuracy')\n",
    "        # plt.plot(history.history['val_accuracy'], label='Validation Accuracy', linestyle='--')\n",
    "        # plt.title(f'Fold {index} Accuracy')\n",
    "        # plt.xlabel('Epochs')\n",
    "        # plt.ylabel('Accuracy')\n",
    "        # plt.legend()\n",
    "    \n",
    "    plt.tight_layout()\n",
    "    plt.show()\n",
    "\n",
    "# Call the function\n",
    "plot_history(history_list)"
   ]
  },
  {
   "cell_type": "markdown",
   "id": "5c52eb5c-7bbb-432d-9998-35a4f6d888c7",
   "metadata": {},
   "source": [
    "The validation loss curve is always under the train loss curve. This demonstrates that our second model addresses overfitting satisfactorily. The variability on the different cross validation folds seems to be due to the time series data showing different behaviors, noise, and patterns that cannot be learned from previous folds. This is particularly likely in the case of a non-stationary time series as ours."
   ]
  },
  {
   "cell_type": "markdown",
   "id": "c684d0fb-e55f-4438-88d2-8a0a5d1a4aea",
   "metadata": {},
   "source": [
    "In general, whether to include or not corrections to prevent overfitting will depend on the specific application and time scale we have in mind. For instance, it seems reasonable to reduce overfitting for prediction over long periods of time. However, in the short term we might be more interested in obtaining a prediction that better captures noise."
   ]
  },
  {
   "cell_type": "markdown",
   "id": "4574c091-bd4a-4143-a11d-1c73a0becaf3",
   "metadata": {},
   "source": [
    "#### Multivariate LSTM"
   ]
  },
  {
   "cell_type": "markdown",
   "id": "bef2c5fe-d68f-42ba-99a4-f85a23daf894",
   "metadata": {},
   "source": [
    "We shall now explore the effect of adding extra features to our model. We must keep in mind that introducing additional features to an LSTM model can lead to a variety of outcomes, and the effect on the model's performance is not necessarily predictable. Namely, adding more features does not always guarantee improved performance. \n",
    "\n",
    "The multivariate case requires some modifications to our previous code. We define a new function for the train/test split and scaling where a subset of features has been selected:"
   ]
  },
  {
   "cell_type": "code",
   "execution_count": 75,
   "id": "e1e08411-3e7c-49ed-ad74-b833dbc0da98",
   "metadata": {},
   "outputs": [],
   "source": [
    "\n",
    "def scale_dataframe_m(filename):\n",
    "    # Load data into DataFrame \n",
    "    df = pd.read_csv(filename, parse_dates=True, index_col=0)\n",
    "\n",
    "    df = df[['Close', 'Open', 'High', 'Reported EPS']]\n",
    "\n",
    "    # Compute the number of data points for 80% of the data\n",
    "    train_size = int(0.8 * len(df))\n",
    "\n",
    "    # Split into train and test sets\n",
    "    train = df[:train_size]\n",
    "    test = df[train_size:]\n",
    "\n",
    "    # Scale the entire dataset (all features, including 'Close')\n",
    "    scaler = MinMaxScaler(feature_range=(0,1))\n",
    "    train_scaled = pd.DataFrame(scaler.fit_transform(train), columns=train.columns, index=train.index)\n",
    "    test_scaled = pd.DataFrame(scaler.transform(test), columns=test.columns, index=test.index)\n",
    "\n",
    "    # Return all relevant data\n",
    "    return df, train, test, train_scaled, test_scaled, scaler\n",
    "\n",
    "df, train, test, train_scaled, test_scaled, scaler = scale_dataframe_m('df_KO_.csv')\n",
    "\n",
    "\n",
    "\n"
   ]
  },
  {
   "cell_type": "markdown",
   "id": "45412bcc-f37c-4636-8ce2-57fd32f13557",
   "metadata": {},
   "source": [
    "The `create_sequences` function needs to be slightly modified so we are cerating sequences of the selected features, not just for `Close`. However, since we are only interested in predicting `Close`, the labels `ys` will only correspond to this variable. "
   ]
  },
  {
   "cell_type": "code",
   "execution_count": 76,
   "id": "58b964fd-9c26-4491-bfb1-34a6b1f784b6",
   "metadata": {},
   "outputs": [],
   "source": [
    "def create_sequences_m(data, seq_length):\n",
    "    xs = []\n",
    "    ys = []\n",
    "\n",
    "    for i in range(len(data)-seq_length-1):\n",
    "        x = data.iloc[i:(i+seq_length)].values\n",
    "        y = data.iloc[i+seq_length][\"Close\"]  # Target remains the \"Close\" value\n",
    "        xs.append(x)\n",
    "        ys.append(y)\n",
    "\n",
    "    return np.array(xs), np.array(ys)\n",
    "\n"
   ]
  },
  {
   "cell_type": "code",
   "execution_count": 77,
   "id": "d6dc511b-dae3-4432-9dca-dc33954b61bc",
   "metadata": {},
   "outputs": [],
   "source": [
    "# Set the window size back to 60\n",
    "seq_length = 60"
   ]
  },
  {
   "cell_type": "code",
   "execution_count": 78,
   "id": "1d279871-d5d0-44d1-b9f5-b00a244a5524",
   "metadata": {},
   "outputs": [],
   "source": [
    "# Create sequences from train and test data\n",
    "X_train, y_train = create_sequences_m(train_scaled, seq_length)\n",
    "X_test, y_test = create_sequences_m(test_scaled, seq_length)"
   ]
  },
  {
   "cell_type": "markdown",
   "id": "4e474e2c-4a23-4f9f-96a4-53de500cbb33",
   "metadata": {},
   "source": [
    "Note that in the multivariate case, if the `create_sequences` function is handling multivariate data appropriately, there is no need to explicitly reshape the resulting `X_train` and `X_test` sequences: they should already be in the correct shape."
   ]
  },
  {
   "cell_type": "markdown",
   "id": "77cd2930-7904-4d7f-9445-e4557a34f2cd",
   "metadata": {},
   "source": [
    "On the other hand, we will have to modify the code defining the class of our model to take into account the multiple number of features."
   ]
  },
  {
   "cell_type": "code",
   "execution_count": 79,
   "id": "5c8a33de-7e6c-4cd6-9bbb-2fa85326fb7b",
   "metadata": {},
   "outputs": [],
   "source": [
    "\n",
    "class LSTMModel3:\n",
    "    def __init__(self, input_shape, l2_reg_strength=0.05):\n",
    "        self.input_shape = input_shape\n",
    "        self.l2_reg_strength = l2_reg_strength\n",
    "        \n",
    "        # Call the '_build_model' method to construct the actual LSTM and store it in the 'self.model' attribute\n",
    "        self.model = self._build_model()\n",
    "\n",
    "    def _build_model(self):\n",
    "        model = Sequential()\n",
    "\n",
    "        # Using instance variable for regularization strength\n",
    "        model.add(LSTM(units=50, return_sequences=True, input_shape=self.input_shape, \n",
    "                       kernel_regularizer=l2(self.l2_reg_strength), \n",
    "                       recurrent_regularizer=l2(self.l2_reg_strength)))\n",
    "        model.add(Dropout(0.2))\n",
    "\n",
    "        model.add(LSTM(units=50, \n",
    "                       kernel_regularizer=l2(self.l2_reg_strength), \n",
    "                       recurrent_regularizer=l2(self.l2_reg_strength)))\n",
    "        model.add(Dropout(0.2))\n",
    "        \n",
    "        model.add(Dense(1))\n",
    "        return model"
   ]
  },
  {
   "cell_type": "markdown",
   "id": "00035dba-039d-46d8-81b2-bd83d7fb6c4d",
   "metadata": {},
   "source": [
    "`train_scaled.shape[1]` captures the number of features, and we shall pass it to the `input_shape`:"
   ]
  },
  {
   "cell_type": "code",
   "execution_count": 80,
   "id": "2b82aed9-de83-47a9-84a6-e574e4fde117",
   "metadata": {},
   "outputs": [],
   "source": [
    "input_shape = (seq_length, train_scaled.shape[1])"
   ]
  },
  {
   "cell_type": "code",
   "execution_count": 81,
   "id": "83a6cf6d-b7fd-47f3-87a8-7913f606c0a4",
   "metadata": {},
   "outputs": [
    {
     "name": "stdout",
     "output_type": "stream",
     "text": [
      "Model: \"sequential_12\"\n",
      "_________________________________________________________________\n",
      " Layer (type)                Output Shape              Param #   \n",
      "=================================================================\n",
      " lstm_30 (LSTM)              (None, 60, 50)            11000     \n",
      "                                                                 \n",
      " dropout_30 (Dropout)        (None, 60, 50)            0         \n",
      "                                                                 \n",
      " lstm_31 (LSTM)              (None, 50)                20200     \n",
      "                                                                 \n",
      " dropout_31 (Dropout)        (None, 50)                0         \n",
      "                                                                 \n",
      " dense_12 (Dense)            (None, 1)                 51        \n",
      "                                                                 \n",
      "=================================================================\n",
      "Total params: 31251 (122.07 KB)\n",
      "Trainable params: 31251 (122.07 KB)\n",
      "Non-trainable params: 0 (0.00 Byte)\n",
      "_________________________________________________________________\n"
     ]
    }
   ],
   "source": [
    "lstm_model = LSTMModel3(input_shape=input_shape)\n",
    "lstm_model.model.summary()"
   ]
  },
  {
   "cell_type": "code",
   "execution_count": 82,
   "id": "a7723d1f-3a53-4659-85be-4a8b8eb66590",
   "metadata": {},
   "outputs": [],
   "source": [
    "lstm_model.model.compile(optimizer='adam', loss='mean_squared_error')"
   ]
  },
  {
   "cell_type": "code",
   "execution_count": 83,
   "id": "dccdcef9-ef9b-4577-9303-571275583ed6",
   "metadata": {},
   "outputs": [],
   "source": [
    "checkpointer = ModelCheckpoint(\n",
    "    filepath = 'weights_best_m.hdf5', \n",
    "    verbose = 2, \n",
    "    save_best_only = True\n",
    ")"
   ]
  },
  {
   "cell_type": "code",
   "execution_count": 84,
   "id": "011a299c-4359-4b93-89af-0669043f7916",
   "metadata": {
    "scrolled": true
   },
   "outputs": [
    {
     "name": "stdout",
     "output_type": "stream",
     "text": [
      "Epoch 1/50\n",
      "83/83 [==============================] - ETA: 0s - loss: 4.4989WARNING:tensorflow:Can save best model only with val_loss available, skipping.\n",
      "83/83 [==============================] - 15s 87ms/step - loss: 4.4989\n",
      "Epoch 2/50\n",
      "83/83 [==============================] - ETA: 0s - loss: 0.6955WARNING:tensorflow:Can save best model only with val_loss available, skipping.\n",
      "83/83 [==============================] - 7s 87ms/step - loss: 0.6955\n",
      "Epoch 3/50\n",
      "83/83 [==============================] - ETA: 0s - loss: 0.1131WARNING:tensorflow:Can save best model only with val_loss available, skipping.\n",
      "83/83 [==============================] - 7s 87ms/step - loss: 0.1131\n",
      "Epoch 4/50\n",
      "83/83 [==============================] - ETA: 0s - loss: 0.0325WARNING:tensorflow:Can save best model only with val_loss available, skipping.\n",
      "83/83 [==============================] - 7s 88ms/step - loss: 0.0325\n",
      "Epoch 5/50\n",
      "83/83 [==============================] - ETA: 0s - loss: 0.0189WARNING:tensorflow:Can save best model only with val_loss available, skipping.\n",
      "83/83 [==============================] - 7s 87ms/step - loss: 0.0189\n",
      "Epoch 6/50\n",
      "83/83 [==============================] - ETA: 0s - loss: 0.0141WARNING:tensorflow:Can save best model only with val_loss available, skipping.\n",
      "83/83 [==============================] - 7s 87ms/step - loss: 0.0141\n",
      "Epoch 7/50\n",
      "83/83 [==============================] - ETA: 0s - loss: 0.0115WARNING:tensorflow:Can save best model only with val_loss available, skipping.\n",
      "83/83 [==============================] - 7s 87ms/step - loss: 0.0115\n",
      "Epoch 8/50\n",
      "83/83 [==============================] - ETA: 0s - loss: 0.0100WARNING:tensorflow:Can save best model only with val_loss available, skipping.\n",
      "83/83 [==============================] - 7s 88ms/step - loss: 0.0100\n",
      "Epoch 9/50\n",
      "83/83 [==============================] - ETA: 0s - loss: 0.0091WARNING:tensorflow:Can save best model only with val_loss available, skipping.\n",
      "83/83 [==============================] - 7s 87ms/step - loss: 0.0091\n",
      "Epoch 10/50\n",
      "83/83 [==============================] - ETA: 0s - loss: 0.0084WARNING:tensorflow:Can save best model only with val_loss available, skipping.\n",
      "83/83 [==============================] - 7s 87ms/step - loss: 0.0084\n",
      "Epoch 11/50\n",
      "83/83 [==============================] - ETA: 0s - loss: 0.0080WARNING:tensorflow:Can save best model only with val_loss available, skipping.\n",
      "83/83 [==============================] - 7s 88ms/step - loss: 0.0080\n",
      "Epoch 12/50\n",
      "83/83 [==============================] - ETA: 0s - loss: 0.0077WARNING:tensorflow:Can save best model only with val_loss available, skipping.\n",
      "83/83 [==============================] - 7s 88ms/step - loss: 0.0077\n",
      "Epoch 13/50\n",
      "83/83 [==============================] - ETA: 0s - loss: 0.0073WARNING:tensorflow:Can save best model only with val_loss available, skipping.\n",
      "83/83 [==============================] - 7s 87ms/step - loss: 0.0073\n",
      "Epoch 14/50\n",
      "83/83 [==============================] - ETA: 0s - loss: 0.0072WARNING:tensorflow:Can save best model only with val_loss available, skipping.\n",
      "83/83 [==============================] - 7s 88ms/step - loss: 0.0072\n",
      "Epoch 15/50\n",
      "83/83 [==============================] - ETA: 0s - loss: 0.0069WARNING:tensorflow:Can save best model only with val_loss available, skipping.\n",
      "83/83 [==============================] - 7s 88ms/step - loss: 0.0069\n",
      "Epoch 16/50\n",
      "83/83 [==============================] - ETA: 0s - loss: 0.0067WARNING:tensorflow:Can save best model only with val_loss available, skipping.\n",
      "83/83 [==============================] - 7s 88ms/step - loss: 0.0067\n",
      "Epoch 17/50\n",
      "83/83 [==============================] - ETA: 0s - loss: 0.0066WARNING:tensorflow:Can save best model only with val_loss available, skipping.\n",
      "83/83 [==============================] - 7s 87ms/step - loss: 0.0066\n",
      "Epoch 18/50\n",
      "83/83 [==============================] - ETA: 0s - loss: 0.0066WARNING:tensorflow:Can save best model only with val_loss available, skipping.\n",
      "83/83 [==============================] - 7s 88ms/step - loss: 0.0066\n",
      "Epoch 19/50\n",
      "83/83 [==============================] - ETA: 0s - loss: 0.0065WARNING:tensorflow:Can save best model only with val_loss available, skipping.\n",
      "83/83 [==============================] - 7s 88ms/step - loss: 0.0065\n",
      "Epoch 20/50\n",
      "83/83 [==============================] - ETA: 0s - loss: 0.0060WARNING:tensorflow:Can save best model only with val_loss available, skipping.\n",
      "83/83 [==============================] - 7s 87ms/step - loss: 0.0060\n",
      "Epoch 21/50\n",
      "83/83 [==============================] - ETA: 0s - loss: 0.0058WARNING:tensorflow:Can save best model only with val_loss available, skipping.\n",
      "83/83 [==============================] - 7s 88ms/step - loss: 0.0058\n",
      "Epoch 22/50\n",
      "83/83 [==============================] - ETA: 0s - loss: 0.0059WARNING:tensorflow:Can save best model only with val_loss available, skipping.\n",
      "83/83 [==============================] - 7s 88ms/step - loss: 0.0059\n",
      "Epoch 23/50\n",
      "83/83 [==============================] - ETA: 0s - loss: 0.0056WARNING:tensorflow:Can save best model only with val_loss available, skipping.\n",
      "83/83 [==============================] - 7s 87ms/step - loss: 0.0056\n",
      "Epoch 24/50\n",
      "83/83 [==============================] - ETA: 0s - loss: 0.0056WARNING:tensorflow:Can save best model only with val_loss available, skipping.\n",
      "83/83 [==============================] - 7s 88ms/step - loss: 0.0056\n",
      "Epoch 25/50\n",
      "83/83 [==============================] - ETA: 0s - loss: 0.0054WARNING:tensorflow:Can save best model only with val_loss available, skipping.\n",
      "83/83 [==============================] - 8s 92ms/step - loss: 0.0054\n",
      "Epoch 26/50\n",
      "83/83 [==============================] - ETA: 0s - loss: 0.0055WARNING:tensorflow:Can save best model only with val_loss available, skipping.\n",
      "83/83 [==============================] - 8s 98ms/step - loss: 0.0055\n",
      "Epoch 27/50\n",
      "83/83 [==============================] - ETA: 0s - loss: 0.0055WARNING:tensorflow:Can save best model only with val_loss available, skipping.\n",
      "83/83 [==============================] - 8s 91ms/step - loss: 0.0055\n",
      "Epoch 28/50\n",
      "83/83 [==============================] - ETA: 0s - loss: 0.0053WARNING:tensorflow:Can save best model only with val_loss available, skipping.\n",
      "83/83 [==============================] - 7s 88ms/step - loss: 0.0053\n",
      "Epoch 29/50\n",
      "83/83 [==============================] - ETA: 0s - loss: 0.0052WARNING:tensorflow:Can save best model only with val_loss available, skipping.\n",
      "83/83 [==============================] - 7s 89ms/step - loss: 0.0052\n",
      "Epoch 30/50\n",
      "83/83 [==============================] - ETA: 0s - loss: 0.0051WARNING:tensorflow:Can save best model only with val_loss available, skipping.\n",
      "83/83 [==============================] - 7s 88ms/step - loss: 0.0051\n",
      "Epoch 31/50\n",
      "83/83 [==============================] - ETA: 0s - loss: 0.0052WARNING:tensorflow:Can save best model only with val_loss available, skipping.\n",
      "83/83 [==============================] - 7s 88ms/step - loss: 0.0052\n",
      "Epoch 32/50\n",
      "83/83 [==============================] - ETA: 0s - loss: 0.0051WARNING:tensorflow:Can save best model only with val_loss available, skipping.\n",
      "83/83 [==============================] - 8s 91ms/step - loss: 0.0051\n",
      "Epoch 33/50\n",
      "83/83 [==============================] - ETA: 0s - loss: 0.0050WARNING:tensorflow:Can save best model only with val_loss available, skipping.\n",
      "83/83 [==============================] - 7s 89ms/step - loss: 0.0050\n",
      "Epoch 34/50\n",
      "83/83 [==============================] - ETA: 0s - loss: 0.0047WARNING:tensorflow:Can save best model only with val_loss available, skipping.\n",
      "83/83 [==============================] - 7s 88ms/step - loss: 0.0047\n",
      "Epoch 35/50\n",
      "83/83 [==============================] - ETA: 0s - loss: 0.0049WARNING:tensorflow:Can save best model only with val_loss available, skipping.\n",
      "83/83 [==============================] - 7s 88ms/step - loss: 0.0049\n",
      "Epoch 36/50\n",
      "83/83 [==============================] - ETA: 0s - loss: 0.0046WARNING:tensorflow:Can save best model only with val_loss available, skipping.\n",
      "83/83 [==============================] - 7s 89ms/step - loss: 0.0046\n",
      "Epoch 37/50\n",
      "83/83 [==============================] - ETA: 0s - loss: 0.0047WARNING:tensorflow:Can save best model only with val_loss available, skipping.\n",
      "83/83 [==============================] - 7s 88ms/step - loss: 0.0047\n",
      "Epoch 38/50\n",
      "83/83 [==============================] - ETA: 0s - loss: 0.0048WARNING:tensorflow:Can save best model only with val_loss available, skipping.\n",
      "83/83 [==============================] - 7s 88ms/step - loss: 0.0048\n",
      "Epoch 39/50\n",
      "83/83 [==============================] - ETA: 0s - loss: 0.0047WARNING:tensorflow:Can save best model only with val_loss available, skipping.\n",
      "83/83 [==============================] - 7s 89ms/step - loss: 0.0047\n",
      "Epoch 40/50\n",
      "83/83 [==============================] - ETA: 0s - loss: 0.0045WARNING:tensorflow:Can save best model only with val_loss available, skipping.\n",
      "83/83 [==============================] - 7s 88ms/step - loss: 0.0045\n",
      "Epoch 41/50\n",
      "83/83 [==============================] - ETA: 0s - loss: 0.0047WARNING:tensorflow:Can save best model only with val_loss available, skipping.\n",
      "83/83 [==============================] - 7s 88ms/step - loss: 0.0047\n",
      "Epoch 42/50\n",
      "83/83 [==============================] - ETA: 0s - loss: 0.0045WARNING:tensorflow:Can save best model only with val_loss available, skipping.\n",
      "83/83 [==============================] - 7s 89ms/step - loss: 0.0045\n",
      "Epoch 43/50\n",
      "83/83 [==============================] - ETA: 0s - loss: 0.0045WARNING:tensorflow:Can save best model only with val_loss available, skipping.\n",
      "83/83 [==============================] - 7s 89ms/step - loss: 0.0045\n",
      "Epoch 44/50\n",
      "83/83 [==============================] - ETA: 0s - loss: 0.0043WARNING:tensorflow:Can save best model only with val_loss available, skipping.\n",
      "83/83 [==============================] - 7s 88ms/step - loss: 0.0043\n",
      "Epoch 45/50\n",
      "83/83 [==============================] - ETA: 0s - loss: 0.0043WARNING:tensorflow:Can save best model only with val_loss available, skipping.\n",
      "83/83 [==============================] - 7s 88ms/step - loss: 0.0043\n",
      "Epoch 46/50\n",
      "83/83 [==============================] - ETA: 0s - loss: 0.0044WARNING:tensorflow:Can save best model only with val_loss available, skipping.\n",
      "83/83 [==============================] - 7s 89ms/step - loss: 0.0044\n",
      "Epoch 47/50\n",
      "83/83 [==============================] - ETA: 0s - loss: 0.0044WARNING:tensorflow:Can save best model only with val_loss available, skipping.\n",
      "83/83 [==============================] - 7s 88ms/step - loss: 0.0044\n",
      "Epoch 48/50\n",
      "83/83 [==============================] - ETA: 0s - loss: 0.0043WARNING:tensorflow:Can save best model only with val_loss available, skipping.\n",
      "83/83 [==============================] - 7s 90ms/step - loss: 0.0043\n",
      "Epoch 49/50\n",
      "83/83 [==============================] - ETA: 0s - loss: 0.0044WARNING:tensorflow:Can save best model only with val_loss available, skipping.\n",
      "83/83 [==============================] - 7s 88ms/step - loss: 0.0044\n",
      "Epoch 50/50\n",
      "83/83 [==============================] - ETA: 0s - loss: 0.0043WARNING:tensorflow:Can save best model only with val_loss available, skipping.\n",
      "83/83 [==============================] - 7s 89ms/step - loss: 0.0043\n"
     ]
    },
    {
     "data": {
      "text/plain": [
       "<keras.src.callbacks.History at 0x7fc95a7c8d60>"
      ]
     },
     "execution_count": 84,
     "metadata": {},
     "output_type": "execute_result"
    }
   ],
   "source": [
    "lstm_model.model.fit(\n",
    "    X_train, \n",
    "    y_train, \n",
    "    epochs=50, \n",
    "    batch_size = 64,\n",
    "    callbacks = [checkpointer]\n",
    ")"
   ]
  },
  {
   "cell_type": "markdown",
   "id": "ec9cde75-a4a1-47ad-873e-8eaf61939ab2",
   "metadata": {},
   "source": [
    "After training we make our prediction:"
   ]
  },
  {
   "cell_type": "code",
   "execution_count": 85,
   "id": "e1221b33-27b6-4707-8b1a-99597ae28fdd",
   "metadata": {},
   "outputs": [
    {
     "name": "stdout",
     "output_type": "stream",
     "text": [
      "41/41 [==============================] - 2s 25ms/step\n"
     ]
    }
   ],
   "source": [
    "# Compute the predicted values on the test set\n",
    "test_predict = lstm_model.model.predict(X_test)"
   ]
  },
  {
   "cell_type": "markdown",
   "id": "19d691e4-0b05-442b-9294-fe3b532de220",
   "metadata": {},
   "source": [
    "In order to undo the scaling transformation on our predictions, we have to keep in mind that the scaling was done for multiple features, not just the `Close` column as in the univariate case. We need to have an array with the same shape as the original dataset and pass it to the scaler. So we will create a dummy array filled with zeros with the right shape, with the column corresponding to our predictions in the same position as the `Close` column in our dataset."
   ]
  },
  {
   "cell_type": "code",
   "execution_count": 86,
   "id": "1243f722-23b4-468c-b2ed-113897ca79f8",
   "metadata": {},
   "outputs": [],
   "source": [
    "# Create a dummy array filled with zeros, but same shape as original dataset\n",
    "dummy_array = np.zeros((test_predict.shape[0], 4))\n",
    "\n",
    "# Fill the column corresponding to 'Close' with test_predict values.\n",
    "dummy_array[:, 0] = test_predict[:, 0]\n",
    "\n",
    "# Use inverse_transform\n",
    "unscaled_array = scaler.inverse_transform(dummy_array)\n",
    "\n",
    "# Extract unscaled predictions for 'Close'\n",
    "test_predict_original = unscaled_array[:, 0]"
   ]
  },
  {
   "cell_type": "markdown",
   "id": "a3fd815f-b3c5-40cc-8123-86f916a51a67",
   "metadata": {},
   "source": [
    "We follow the same steps for unscaling the actual values of `Close` on the test set, taking into account that a reshape to a 2D array is needed:"
   ]
  },
  {
   "cell_type": "code",
   "execution_count": 87,
   "id": "616a509c-b35a-4ae6-96aa-fa2a99287b23",
   "metadata": {},
   "outputs": [],
   "source": [
    "y_test_reshaped = y_test.reshape(-1, 1)\n",
    "\n",
    "# Create a dummy array filled with zeros of the right shape\n",
    "dummy_array = np.zeros((y_test_reshaped.shape[0], 4))\n",
    "\n",
    "# Fill the column corresponding to 'Close' with y_test_reshaped values\n",
    "dummy_array[:, 0] = y_test_reshaped[:, 0]\n",
    "\n",
    "# Use inverse_transform\n",
    "unscaled_array = scaler.inverse_transform(dummy_array)\n",
    "\n",
    "# Extract the unscaled values for 'Close'\n",
    "y_test_unscaled = unscaled_array[:, 0]\n"
   ]
  },
  {
   "cell_type": "markdown",
   "id": "c20e5602-808f-4a61-b01e-f775d7e6c2f9",
   "metadata": {},
   "source": [
    "We are now in busineess to plot our predictions versus actual values of `Close` on the test set."
   ]
  },
  {
   "cell_type": "code",
   "execution_count": 88,
   "id": "96887e65-ef1d-48f1-9b16-4d6d6aafff54",
   "metadata": {},
   "outputs": [
    {
     "data": {
      "image/png": "[encoded data removed]",
      "text/plain": [
       "<Figure size 1008x504 with 1 Axes>"
      ]
     },
     "metadata": {
      "needs_background": "light"
     },
     "output_type": "display_data"
    }
   ],
   "source": [
    "# Extract the date-time index for the test set\n",
    "test_dates = test.index\n",
    "\n",
    "offset_test_dates = test_dates[seq_length:]\n",
    "offset_test_dates = offset_test_dates[:-1]\n",
    "\n",
    "# Plot the true values\n",
    "plt.figure(figsize=(14, 7))\n",
    "plt.plot(offset_test_dates, y_test_unscaled, label=\"True Values\", color='blue')\n",
    "\n",
    "# Plot the predicted values\n",
    "plt.plot(offset_test_dates, test_predict_original, label=\"Predicted Values\", color='red', linestyle='dashed')\n",
    "\n",
    "plt.title(\"True vs Predicted Values\")\n",
    "plt.xlabel(\"Date\")\n",
    "plt.ylabel(\"Value\")\n",
    "plt.legend()\n",
    "plt.grid(True)\n",
    "plt.show()"
   ]
  },
  {
   "cell_type": "code",
   "execution_count": 89,
   "id": "b0ba5660-5f1b-4c82-9e36-444432e7fd94",
   "metadata": {},
   "outputs": [
    {
     "name": "stdout",
     "output_type": "stream",
     "text": [
      "10.455389575860284\n"
     ]
    }
   ],
   "source": [
    "mse = mean_squared_error(y_test_unscaled, test_predict_original)\n",
    "print(mse)"
   ]
  },
  {
   "cell_type": "markdown",
   "id": "c729996d-45a1-49e2-aca1-b03c1a8607d5",
   "metadata": {},
   "source": [
    "The introduction of new features seem to actually worsen the performance of our model. Some general reasons underlying this phenomenon are:\n",
    "\n",
    "1. Added Noise: Some added features might introduce noise or collinearity which can confuse the model and degrade performance.\n",
    "\n",
    "2. Need for a more complex model: A simple model that worked well for univariate data might not suffice to capture all the relationships between features and target for multivariate data.\n",
    "\n",
    "3. Temporal Dynamics: In a multivariate setting we are also considering other features' past values aside from the target. If these extra features do not have a clear and consistent temporal relationship with the target, it can lead to errors.\n",
    "\n",
    "An additional study to determine the actual causes of this worsening upon introduction of additional features is out of the scope of this work. We can nevertheless mention that the rather low volatility of our stock and the relatively good results obtained from the univariate case might already be pointing out that it might not be necessary to consider extra features."
   ]
  },
  {
   "cell_type": "code",
   "execution_count": null,
   "id": "5445d807-28c5-4989-8526-9e05b4622616",
   "metadata": {},
   "outputs": [],
   "source": []
  }
 ],
 "metadata": {
  "kernelspec": {
   "display_name": "Python 3 (ipykernel)",
   "language": "python",
   "name": "python3"
  },
  "language_info": {
   "codemirror_mode": {
    "name": "ipython",
    "version": 3
   },
   "file_extension": ".py",
   "mimetype": "text/x-python",
   "name": "python",
   "nbconvert_exporter": "python",
   "pygments_lexer": "ipython3",
   "version": "3.9.7"
  }
 },
 "nbformat": 4,
 "nbformat_minor": 5
}
